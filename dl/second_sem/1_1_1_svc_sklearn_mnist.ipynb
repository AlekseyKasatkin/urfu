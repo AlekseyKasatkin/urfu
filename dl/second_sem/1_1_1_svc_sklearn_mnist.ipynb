{
 "cells": [
  {
   "cell_type": "code",
   "source": [
    "!uname -a"
   ],
   "metadata": {
    "colab": {
     "base_uri": "https://localhost:8080/"
    },
    "id": "mFA9qiYDKOAW",
    "outputId": "4a6a1f8b-2b07-4d44-8bdf-cc0b8f724c53",
    "ExecuteTime": {
     "end_time": "2024-04-06T12:08:18.365798Z",
     "start_time": "2024-04-06T12:08:18.138834Z"
    }
   },
   "execution_count": 1,
   "outputs": [
    {
     "name": "stdout",
     "output_type": "stream",
     "text": [
      "Linux le-MS-7B79 6.5.0-26-generic #26~22.04.1-Ubuntu SMP PREEMPT_DYNAMIC Tue Mar 12 10:22:43 UTC 2 x86_64 x86_64 x86_64 GNU/Linux\r\n"
     ]
    }
   ]
  },
  {
   "cell_type": "code",
   "outputs": [
    {
     "name": "stdout",
     "output_type": "stream",
     "text": [
      "1_1_1_svc_sklearn_mnist.ipynb  mnist_intro.ipynb  seminar_1.py\r\n",
      "1_2_1_knn_sklearn_mnist.ipynb  notes.txt\r\n"
     ]
    }
   ],
   "source": [
    "!ls "
   ],
   "metadata": {
    "collapsed": false,
    "ExecuteTime": {
     "end_time": "2024-04-06T12:08:18.526323Z",
     "start_time": "2024-04-06T12:08:18.367851Z"
    }
   },
   "execution_count": 2
  },
  {
   "cell_type": "code",
   "outputs": [],
   "source": [],
   "metadata": {
    "collapsed": false,
    "ExecuteTime": {
     "end_time": "2024-04-06T11:43:52.087390Z",
     "start_time": "2024-04-06T11:43:52.084862Z"
    }
   },
   "execution_count": 21
  },
  {
   "cell_type": "markdown",
   "metadata": {
    "id": "0dYWwsc44yV8"
   },
   "source": [
    "Dataset MNIST: картинки с рукописными цифрами.\n",
    "\n",
    "x: 70_000 картинок размера 28x28.\n",
    "\n",
    "y: 70_000 значений, какая цифра на картинке (0-9).\n",
    "\n",
    "Обучаемся на 60_000 примерах, в результате можем распознать, какая цифра изображена на картинке, в т.ч. для тех 10_000 картинок, которые не входили в обучающую выборку.\n",
    "\n",
    "Реализация на SVM."
   ]
  },
  {
   "cell_type": "code",
   "execution_count": 1,
   "metadata": {
    "id": "yVWQV9aYaLHF",
    "ExecuteTime": {
     "end_time": "2024-04-06T12:17:50.122850Z",
     "start_time": "2024-04-06T12:17:48.375793Z"
    }
   },
   "outputs": [],
   "source": [
    "# sklearn\n",
    "from sklearn.svm import SVC\n",
    "from sklearn.model_selection import train_test_split\n",
    "from sklearn.metrics import confusion_matrix, classification_report"
   ]
  },
  {
   "cell_type": "code",
   "execution_count": 2,
   "metadata": {
    "id": "1vpxs9pHcMd1",
    "ExecuteTime": {
     "end_time": "2024-04-06T12:18:06.423885Z",
     "start_time": "2024-04-06T12:17:50.124311Z"
    }
   },
   "outputs": [
    {
     "name": "stderr",
     "output_type": "stream",
     "text": [
      "2024-04-06 15:17:50.851053: I tensorflow/core/platform/cpu_feature_guard.cc:193] This TensorFlow binary is optimized with oneAPI Deep Neural Network Library (oneDNN) to use the following CPU instructions in performance-critical operations:  AVX2 FMA\n",
      "To enable them in other operations, rebuild TensorFlow with the appropriate compiler flags.\n",
      "2024-04-06 15:17:51.023885: W tensorflow/compiler/xla/stream_executor/platform/default/dso_loader.cc:64] Could not load dynamic library 'libcudart.so.11.0'; dlerror: libcudart.so.11.0: cannot open shared object file: No such file or directory\n",
      "2024-04-06 15:17:51.023909: I tensorflow/compiler/xla/stream_executor/cuda/cudart_stub.cc:29] Ignore above cudart dlerror if you do not have a GPU set up on your machine.\n",
      "2024-04-06 15:17:58.136380: W tensorflow/compiler/xla/stream_executor/platform/default/dso_loader.cc:64] Could not load dynamic library 'libnvinfer.so.7'; dlerror: libnvinfer.so.7: cannot open shared object file: No such file or directory\n",
      "2024-04-06 15:17:58.136503: W tensorflow/compiler/xla/stream_executor/platform/default/dso_loader.cc:64] Could not load dynamic library 'libnvinfer_plugin.so.7'; dlerror: libnvinfer_plugin.so.7: cannot open shared object file: No such file or directory\n",
      "2024-04-06 15:17:58.136513: W tensorflow/compiler/tf2tensorrt/utils/py_utils.cc:38] TF-TRT Warning: Cannot dlopen some TensorRT libraries. If you would like to use Nvidia GPU with TensorRT, please make sure the missing libraries mentioned above are installed properly.\n"
     ]
    }
   ],
   "source": [
    "# В этом примере используем tensorflow только для удобного скачивания данных.\n",
    "import tensorflow as tf"
   ]
  },
  {
   "cell_type": "code",
   "execution_count": 3,
   "metadata": {
    "id": "qRzGyGYWMgyg",
    "ExecuteTime": {
     "end_time": "2024-04-06T12:25:30.493219Z",
     "start_time": "2024-04-06T12:25:30.407116Z"
    }
   },
   "outputs": [],
   "source": [
    "import seaborn as sn\n",
    "\n",
    "import pandas as pd\n",
    "import matplotlib.pyplot as plt\n",
    "# matplotlib - \"magic function\" IPython shell, которая задаёт вывод matplotlib.\n",
    "%matplotlib inline"
   ]
  },
  {
   "cell_type": "code",
   "execution_count": 4,
   "metadata": {
    "id": "RUn96uceHnrx",
    "ExecuteTime": {
     "end_time": "2024-04-06T12:25:31.104865Z",
     "start_time": "2024-04-06T12:25:31.102225Z"
    }
   },
   "outputs": [],
   "source": [
    "# Будут нужны различные вспомогательные методы из numpy.\n",
    "import numpy as np"
   ]
  },
  {
   "cell_type": "code",
   "execution_count": 5,
   "metadata": {
    "id": "XY1AMlc3cOsb",
    "colab": {
     "base_uri": "https://localhost:8080/"
    },
    "outputId": "c11ebade-55fb-41e8-ef77-599b43a77c4c",
    "ExecuteTime": {
     "end_time": "2024-04-06T12:25:32.141809Z",
     "start_time": "2024-04-06T12:25:31.628300Z"
    }
   },
   "outputs": [],
   "source": [
    "# Скачиваем датасет MNIST с картинками цифр, написанных от руки.\n",
    "(x_train, y_train), (x_test, y_test) = tf.keras.datasets.mnist.load_data()"
   ]
  },
  {
   "cell_type": "code",
   "outputs": [
    {
     "name": "stdout",
     "output_type": "stream",
     "text": [
      "5\n"
     ]
    }
   ],
   "source": [
    "print(y_train[0])"
   ],
   "metadata": {
    "collapsed": false,
    "ExecuteTime": {
     "end_time": "2024-04-06T12:25:33.441610Z",
     "start_time": "2024-04-06T12:25:33.437767Z"
    }
   },
   "execution_count": 6
  },
  {
   "cell_type": "code",
   "execution_count": 7,
   "metadata": {
    "colab": {
     "base_uri": "https://localhost:8080/",
     "height": 1000
    },
    "id": "n0YcKT_LLBTI",
    "outputId": "e7ad6153-8e70-454f-f15d-790a4fd7ba5f",
    "ExecuteTime": {
     "end_time": "2024-04-06T12:25:34.723161Z",
     "start_time": "2024-04-06T12:25:34.356710Z"
    }
   },
   "outputs": [
    {
     "name": "stdout",
     "output_type": "stream",
     "text": [
      "[[  0   0   0   0   0   0   0   0   0   0   0   0   0   0   0   0   0   0\n",
      "    0   0   0   0   0   0   0   0   0   0]\n",
      " [  0   0   0   0   0   0   0   0   0   0   0   0   0   0   0   0   0   0\n",
      "    0   0   0   0   0   0   0   0   0   0]\n",
      " [  0   0   0   0   0   0   0   0   0   0   0   0   0   0   0   0   0   0\n",
      "    0   0   0   0   0   0   0   0   0   0]\n",
      " [  0   0   0   0   0   0   0   0   0   0   0   0   0   0   0   0   0   0\n",
      "    0   0   0   0   0   0   0   0   0   0]\n",
      " [  0   0   0   0   0   0   0   0   0   0   0   0   0   0   0   0   0   0\n",
      "    0   0   0   0   0   0   0   0   0   0]\n",
      " [  0   0   0   0   0   0   0   0   0   0   0   0   3  18  18  18 126 136\n",
      "  175  26 166 255 247 127   0   0   0   0]\n",
      " [  0   0   0   0   0   0   0   0  30  36  94 154 170 253 253 253 253 253\n",
      "  225 172 253 242 195  64   0   0   0   0]\n",
      " [  0   0   0   0   0   0   0  49 238 253 253 253 253 253 253 253 253 251\n",
      "   93  82  82  56  39   0   0   0   0   0]\n",
      " [  0   0   0   0   0   0   0  18 219 253 253 253 253 253 198 182 247 241\n",
      "    0   0   0   0   0   0   0   0   0   0]\n",
      " [  0   0   0   0   0   0   0   0  80 156 107 253 253 205  11   0  43 154\n",
      "    0   0   0   0   0   0   0   0   0   0]\n",
      " [  0   0   0   0   0   0   0   0   0  14   1 154 253  90   0   0   0   0\n",
      "    0   0   0   0   0   0   0   0   0   0]\n",
      " [  0   0   0   0   0   0   0   0   0   0   0 139 253 190   2   0   0   0\n",
      "    0   0   0   0   0   0   0   0   0   0]\n",
      " [  0   0   0   0   0   0   0   0   0   0   0  11 190 253  70   0   0   0\n",
      "    0   0   0   0   0   0   0   0   0   0]\n",
      " [  0   0   0   0   0   0   0   0   0   0   0   0  35 241 225 160 108   1\n",
      "    0   0   0   0   0   0   0   0   0   0]\n",
      " [  0   0   0   0   0   0   0   0   0   0   0   0   0  81 240 253 253 119\n",
      "   25   0   0   0   0   0   0   0   0   0]\n",
      " [  0   0   0   0   0   0   0   0   0   0   0   0   0   0  45 186 253 253\n",
      "  150  27   0   0   0   0   0   0   0   0]\n",
      " [  0   0   0   0   0   0   0   0   0   0   0   0   0   0   0  16  93 252\n",
      "  253 187   0   0   0   0   0   0   0   0]\n",
      " [  0   0   0   0   0   0   0   0   0   0   0   0   0   0   0   0   0 249\n",
      "  253 249  64   0   0   0   0   0   0   0]\n",
      " [  0   0   0   0   0   0   0   0   0   0   0   0   0   0  46 130 183 253\n",
      "  253 207   2   0   0   0   0   0   0   0]\n",
      " [  0   0   0   0   0   0   0   0   0   0   0   0  39 148 229 253 253 253\n",
      "  250 182   0   0   0   0   0   0   0   0]\n",
      " [  0   0   0   0   0   0   0   0   0   0  24 114 221 253 253 253 253 201\n",
      "   78   0   0   0   0   0   0   0   0   0]\n",
      " [  0   0   0   0   0   0   0   0  23  66 213 253 253 253 253 198  81   2\n",
      "    0   0   0   0   0   0   0   0   0   0]\n",
      " [  0   0   0   0   0   0  18 171 219 253 253 253 253 195  80   9   0   0\n",
      "    0   0   0   0   0   0   0   0   0   0]\n",
      " [  0   0   0   0  55 172 226 253 253 253 253 244 133  11   0   0   0   0\n",
      "    0   0   0   0   0   0   0   0   0   0]\n",
      " [  0   0   0   0 136 253 253 253 212 135 132  16   0   0   0   0   0   0\n",
      "    0   0   0   0   0   0   0   0   0   0]\n",
      " [  0   0   0   0   0   0   0   0   0   0   0   0   0   0   0   0   0   0\n",
      "    0   0   0   0   0   0   0   0   0   0]\n",
      " [  0   0   0   0   0   0   0   0   0   0   0   0   0   0   0   0   0   0\n",
      "    0   0   0   0   0   0   0   0   0   0]\n",
      " [  0   0   0   0   0   0   0   0   0   0   0   0   0   0   0   0   0   0\n",
      "    0   0   0   0   0   0   0   0   0   0]]\n"
     ]
    },
    {
     "data": {
      "text/plain": "<matplotlib.image.AxesImage at 0x74644151cfd0>"
     },
     "execution_count": 7,
     "metadata": {},
     "output_type": "execute_result"
    },
    {
     "data": {
      "text/plain": "<Figure size 640x480 with 1 Axes>",
      "image/png": "[encoded data removed]"
     },
     "metadata": {},
     "output_type": "display_data"
    }
   ],
   "source": [
    "# В каком виде элемент.\n",
    "print(x_train[0])\n",
    "plt.imshow(x_train[0], cmap='grey')"
   ]
  },
  {
   "cell_type": "code",
   "source": [
    "print(type(x_train))"
   ],
   "metadata": {
    "colab": {
     "base_uri": "https://localhost:8080/"
    },
    "id": "Ivg8g5kvOIHu",
    "outputId": "ce0fd728-b235-423e-b6e1-066d8f674b54",
    "ExecuteTime": {
     "end_time": "2024-04-06T12:25:35.873555Z",
     "start_time": "2024-04-06T12:25:35.870176Z"
    }
   },
   "execution_count": 8,
   "outputs": [
    {
     "name": "stdout",
     "output_type": "stream",
     "text": [
      "<class 'numpy.ndarray'>\n"
     ]
    }
   ]
  },
  {
   "cell_type": "code",
   "source": [
    "!python -V"
   ],
   "metadata": {
    "colab": {
     "base_uri": "https://localhost:8080/"
    },
    "id": "clMuPxpDO_XJ",
    "outputId": "2ef0ba33-fde7-4be2-de12-8b1ef5997525",
    "ExecuteTime": {
     "end_time": "2024-04-06T12:25:36.655068Z",
     "start_time": "2024-04-06T12:25:36.364828Z"
    }
   },
   "execution_count": 9,
   "outputs": [
    {
     "name": "stdout",
     "output_type": "stream",
     "text": [
      "Python 3.10.12\r\n"
     ]
    }
   ]
  },
  {
   "cell_type": "code",
   "execution_count": 10,
   "metadata": {
    "colab": {
     "base_uri": "https://localhost:8080/"
    },
    "id": "CEUoNRvaeewS",
    "outputId": "08604d7d-9ccf-4380-e7fc-ba7351510d5c",
    "ExecuteTime": {
     "end_time": "2024-04-06T12:25:36.887151Z",
     "start_time": "2024-04-06T12:25:36.881658Z"
    }
   },
   "outputs": [
    {
     "name": "stdout",
     "output_type": "stream",
     "text": [
      "(60000, 28, 28)\n",
      "(10000, 28, 28)\n",
      "(60000,)\n",
      "(10000,)\n",
      "[5 0 4 1 9 2 1 3 1 4]\n",
      "[7 2 1 0 4 1 4 9 5 9]\n"
     ]
    }
   ],
   "source": [
    "# Посмотрим на обучающую и тестовую выборку.\n",
    "print(x_train.shape)\n",
    "print(x_test.shape)\n",
    "print(y_train.shape)\n",
    "print(y_test.shape)\n",
    "print(y_train[0:10:1])\n",
    "print(y_test[:10])\n",
    "\n",
    "# Стоит убедиться, что совпадают размеры массивов входных картинок и их правильных ответов.\n",
    "# И \"fail fast\", если это не так. Не обучать классификатор на кривых данных.\n",
    "assert x_train.shape[0] == y_train.shape[0], f\"В обучающей выборке размер массива входных картинок ({x_train.shape[0]}) и их правильных ответов ({y_train.shape[0]}) не совпадает.\"\n",
    "assert x_test.shape[0] == y_test.shape[0], f\"В обучающей выборке размер массива входных картинок ({x_test.shape[0]}) и их правильных ответов ({y_test.shape[0]}) не совпадает.\""
   ]
  },
  {
   "cell_type": "code",
   "execution_count": 11,
   "metadata": {
    "colab": {
     "base_uri": "https://localhost:8080/"
    },
    "id": "CuiQdMZlf_bV",
    "outputId": "0d0a526b-bf6b-460f-c356-8e3d49bc8b59",
    "ExecuteTime": {
     "end_time": "2024-04-06T12:25:38.251331Z",
     "start_time": "2024-04-06T12:25:38.246794Z"
    }
   },
   "outputs": [
    {
     "name": "stdout",
     "output_type": "stream",
     "text": [
      "(60000, 784)\n",
      "(10000, 784)\n"
     ]
    }
   ],
   "source": [
    "x_train_flat = x_train.reshape(-1, 28*28)\n",
    "print(x_train_flat.shape)\n",
    "\n",
    "x_test_flat = x_test.reshape(-1, 28*28)\n",
    "print(x_test_flat.shape)"
   ]
  },
  {
   "cell_type": "code",
   "execution_count": 12,
   "metadata": {
    "id": "GdCGJ2qzaY-G",
    "ExecuteTime": {
     "end_time": "2024-04-06T12:25:38.854289Z",
     "start_time": "2024-04-06T12:25:38.850819Z"
    }
   },
   "outputs": [],
   "source": [
    "# SVM классификатор.\n",
    "svc = SVC()"
   ]
  },
  {
   "cell_type": "code",
   "execution_count": 13,
   "metadata": {
    "id": "EUrHVty8fwr9",
    "ExecuteTime": {
     "end_time": "2024-04-06T12:28:23.443921Z",
     "start_time": "2024-04-06T12:25:39.176584Z"
    }
   },
   "outputs": [],
   "source": [
    "# Обучаем SVM классификатор.\n",
    "svc = svc.fit(x_train_flat, y_train)"
   ]
  },
  {
   "cell_type": "code",
   "execution_count": 14,
   "metadata": {
    "id": "JKYwRDS5JFgI",
    "ExecuteTime": {
     "end_time": "2024-04-06T12:29:26.985898Z",
     "start_time": "2024-04-06T12:28:23.465754Z"
    }
   },
   "outputs": [],
   "source": [
    "y_pred = svc.predict(x_test_flat)"
   ]
  },
  {
   "cell_type": "code",
   "execution_count": 15,
   "metadata": {
    "id": "8j0e4909J_lQ",
    "ExecuteTime": {
     "end_time": "2024-04-06T12:29:28.121293Z",
     "start_time": "2024-04-06T12:29:26.987826Z"
    }
   },
   "outputs": [
    {
     "name": "stdout",
     "output_type": "stream",
     "text": [
      "(10000,)\n",
      "[7 2 1 0 4 1 4 9 6 9]\n"
     ]
    },
    {
     "data": {
      "text/plain": "<Figure size 640x480 with 10 Axes>",
      "image/png": "[encoded data removed]"
     },
     "metadata": {},
     "output_type": "display_data"
    }
   ],
   "source": [
    "print(y_pred.shape)\n",
    "print(y_pred[:10])\n",
    "\n",
    "fig = plt.figure()\n",
    "\n",
    "for i in range(10):\n",
    "    ax = fig.add_subplot(2, 5, i+1)\n",
    "    ax.imshow(x_test[i], cmap='gray_r')"
   ]
  },
  {
   "cell_type": "code",
   "source": [
    "print(type(confusion_matrix))"
   ],
   "metadata": {
    "id": "o0oT5ifUSoVO",
    "ExecuteTime": {
     "end_time": "2024-04-06T12:29:28.125942Z",
     "start_time": "2024-04-06T12:29:28.122532Z"
    }
   },
   "execution_count": 16,
   "outputs": [
    {
     "name": "stdout",
     "output_type": "stream",
     "text": [
      "<class 'function'>\n"
     ]
    }
   ]
  },
  {
   "cell_type": "code",
   "execution_count": 17,
   "metadata": {
    "id": "2CynltSgKPgR",
    "ExecuteTime": {
     "end_time": "2024-04-06T12:29:28.216891Z",
     "start_time": "2024-04-06T12:29:28.127461Z"
    }
   },
   "outputs": [],
   "source": [
    "# Confusion matrix.\n",
    "confusion_matrix_arr = confusion_matrix(y_test, y_pred)"
   ]
  },
  {
   "cell_type": "code",
   "execution_count": 18,
   "metadata": {
    "id": "xkKyELIfMH13",
    "ExecuteTime": {
     "end_time": "2024-04-06T12:29:28.290190Z",
     "start_time": "2024-04-06T12:29:28.218546Z"
    }
   },
   "outputs": [
    {
     "name": "stdout",
     "output_type": "stream",
     "text": [
      "[[ 973    0    1    0    0    2    1    1    2    0]\n",
      " [   0 1126    3    1    0    1    1    1    2    0]\n",
      " [   6    1 1006    2    1    0    2    7    6    1]\n",
      " [   0    0    2  995    0    2    0    5    5    1]\n",
      " [   0    0    5    0  961    0    3    0    2   11]\n",
      " [   2    0    0    9    0  871    4    1    4    1]\n",
      " [   6    2    0    0    2    3  944    0    1    0]\n",
      " [   0    6   11    1    1    0    0  996    2   11]\n",
      " [   3    0    2    6    3    2    2    3  950    3]\n",
      " [   3    4    1    7   10    2    1    7    4  970]]\n"
     ]
    }
   ],
   "source": [
    "# Напечатаем confusion matrix.\n",
    "print(confusion_matrix_arr)"
   ]
  },
  {
   "cell_type": "code",
   "execution_count": 19,
   "metadata": {
    "id": "wIrs3XEIMuup",
    "ExecuteTime": {
     "end_time": "2024-04-06T12:29:28.789590Z",
     "start_time": "2024-04-06T12:29:28.292107Z"
    }
   },
   "outputs": [
    {
     "data": {
      "text/plain": "<Figure size 1000x1000 with 2 Axes>",
      "image/png": "[encoded data removed]"
     },
     "metadata": {},
     "output_type": "display_data"
    }
   ],
   "source": [
    "# Напечатаем confusion matrix красиво. =)\n",
    "# Сделаем из Python массива Pandas DataFrame.\n",
    "confusion_matrix_df = pd.DataFrame(confusion_matrix_arr)\n",
    "# Размер картинки.\n",
    "fig, ax = plt.subplots(figsize=(10,10))\n",
    "# Seaborn Heatmap\n",
    "sn.heatmap(confusion_matrix_df, annot=True, fmt='d', ax=ax, annot_kws={\"size\": 20}) # Размер шрифта.\n",
    "\n",
    "plt.show()"
   ]
  },
  {
   "cell_type": "code",
   "execution_count": 20,
   "metadata": {
    "id": "4XjnEBfGKuqb",
    "ExecuteTime": {
     "end_time": "2024-04-06T12:29:28.819446Z",
     "start_time": "2024-04-06T12:29:28.790851Z"
    }
   },
   "outputs": [],
   "source": [
    "# Метрики качества классификации: precision recall f1-score support.\n",
    "clf_rep = classification_report(y_test, y_pred)"
   ]
  },
  {
   "cell_type": "code",
   "source": [
    "print(type(clf_rep))"
   ],
   "metadata": {
    "id": "2sTXdV1sTwFd",
    "ExecuteTime": {
     "end_time": "2024-04-06T12:29:28.940075Z",
     "start_time": "2024-04-06T12:29:28.822223Z"
    }
   },
   "execution_count": 21,
   "outputs": [
    {
     "name": "stdout",
     "output_type": "stream",
     "text": [
      "<class 'str'>\n"
     ]
    }
   ]
  },
  {
   "cell_type": "code",
   "execution_count": 22,
   "metadata": {
    "id": "YrSPXM5lK1ae",
    "ExecuteTime": {
     "end_time": "2024-04-06T12:29:29.015123Z",
     "start_time": "2024-04-06T12:29:28.941981Z"
    }
   },
   "outputs": [
    {
     "name": "stdout",
     "output_type": "stream",
     "text": [
      "              precision    recall  f1-score   support\n",
      "\n",
      "           0       0.98      0.99      0.99       980\n",
      "           1       0.99      0.99      0.99      1135\n",
      "           2       0.98      0.97      0.98      1032\n",
      "           3       0.97      0.99      0.98      1010\n",
      "           4       0.98      0.98      0.98       982\n",
      "           5       0.99      0.98      0.98       892\n",
      "           6       0.99      0.99      0.99       958\n",
      "           7       0.98      0.97      0.97      1028\n",
      "           8       0.97      0.98      0.97       974\n",
      "           9       0.97      0.96      0.97      1009\n",
      "\n",
      "    accuracy                           0.98     10000\n",
      "   macro avg       0.98      0.98      0.98     10000\n",
      "weighted avg       0.98      0.98      0.98     10000\n"
     ]
    }
   ],
   "source": [
    "print(clf_rep)"
   ]
  },
  {
   "cell_type": "markdown",
   "metadata": {
    "id": "Bkc2o8Ay125G"
   },
   "source": [
    "Домашнее задание:\n",
    "\n",
    "1. Добавить оценку вероятностей.\n",
    "```\n",
    "# Включить оценку вероятностей. (Необходимо сделать до обучения классификатора.)\n",
    "SVC(probability=True)\n",
    "# Оценка вероятностей.\n",
    "svc.predict_proba(x_test_flat)\n",
    "```\n",
    "В качестве проверки можно убедиться, что в сумме вероятности дают единицу.\n",
    "\n",
    "2. Поэкспериментировать с параметрами SVC: C, gamma, kernel.\n",
    "* Посмотреть, как влияет на confusion_matrix.\n",
    "* Посмотреть, как влияет на метрики классификации.\n"
   ]
  },
  {
   "cell_type": "code",
   "outputs": [],
   "source": [],
   "metadata": {
    "collapsed": false
   }
  }
 ],
 "metadata": {
  "colab": {
   "provenance": []
  },
  "kernelspec": {
   "name": "python3",
   "language": "python",
   "display_name": "Python 3 (ipykernel)"
  },
  "language_info": {
   "codemirror_mode": {
    "name": "ipython",
    "version": 3
   },
   "file_extension": ".py",
   "mimetype": "text/x-python",
   "name": "python",
   "nbconvert_exporter": "python",
   "pygments_lexer": "ipython3",
   "version": "3.9.2"
  }
 },
 "nbformat": 4,
 "nbformat_minor": 0
}
