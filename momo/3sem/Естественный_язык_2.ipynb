{
 "nbformat": 4,
 "nbformat_minor": 0,
 "metadata": {
  "colab": {
   "provenance": []
  },
  "kernelspec": {
   "name": "python3",
   "display_name": "Python 3 (ipykernel)",
   "language": "python"
  },
  "language_info": {
   "name": "python"
  }
 },
 "cells": [
  {
   "cell_type": "code",
   "metadata": {
    "colab": {
     "base_uri": "https://localhost:8080/"
    },
    "id": "p9lMYTyzhglK",
    "outputId": "a284b704-80a8-4209-8f4b-fc14465865ee",
    "ExecuteTime": {
     "end_time": "2024-09-28T08:46:18.927126Z",
     "start_time": "2024-09-28T08:45:06.436539Z"
    }
   },
   "source": [
    "!pip install pandas numpy tensorflow nltk"
   ],
   "outputs": [
    {
     "name": "stdout",
     "output_type": "stream",
     "text": [
      "Requirement already satisfied: pandas in /home/le/PycharmProjects/urfu/.venv/lib/python3.10/site-packages (2.2.2)\r\n",
      "Requirement already satisfied: numpy in /home/le/PycharmProjects/urfu/.venv/lib/python3.10/site-packages (2.1.1)\r\n",
      "Collecting tensorflow\r\n",
      "  Downloading tensorflow-2.17.0-cp310-cp310-manylinux_2_17_x86_64.manylinux2014_x86_64.whl.metadata (4.2 kB)\r\n",
      "Collecting nltk\r\n",
      "  Downloading nltk-3.9.1-py3-none-any.whl.metadata (2.9 kB)\r\n",
      "Requirement already satisfied: python-dateutil>=2.8.2 in /home/le/PycharmProjects/urfu/.venv/lib/python3.10/site-packages (from pandas) (2.9.0.post0)\r\n",
      "Requirement already satisfied: pytz>=2020.1 in /home/le/PycharmProjects/urfu/.venv/lib/python3.10/site-packages (from pandas) (2024.1)\r\n",
      "Requirement already satisfied: tzdata>=2022.7 in /home/le/PycharmProjects/urfu/.venv/lib/python3.10/site-packages (from pandas) (2024.1)\r\n",
      "Collecting absl-py>=1.0.0 (from tensorflow)\r\n",
      "  Downloading absl_py-2.1.0-py3-none-any.whl.metadata (2.3 kB)\r\n",
      "Collecting astunparse>=1.6.0 (from tensorflow)\r\n",
      "  Downloading astunparse-1.6.3-py2.py3-none-any.whl.metadata (4.4 kB)\r\n",
      "Collecting flatbuffers>=24.3.25 (from tensorflow)\r\n",
      "  Using cached flatbuffers-24.3.25-py2.py3-none-any.whl.metadata (850 bytes)\r\n",
      "Collecting gast!=0.5.0,!=0.5.1,!=0.5.2,>=0.2.1 (from tensorflow)\r\n",
      "  Downloading gast-0.6.0-py3-none-any.whl.metadata (1.3 kB)\r\n",
      "Collecting google-pasta>=0.1.1 (from tensorflow)\r\n",
      "  Downloading google_pasta-0.2.0-py3-none-any.whl.metadata (814 bytes)\r\n",
      "Collecting h5py>=3.10.0 (from tensorflow)\r\n",
      "  Downloading h5py-3.12.1-cp310-cp310-manylinux_2_17_x86_64.manylinux2014_x86_64.whl.metadata (2.5 kB)\r\n",
      "Collecting libclang>=13.0.0 (from tensorflow)\r\n",
      "  Downloading libclang-18.1.1-py2.py3-none-manylinux2010_x86_64.whl.metadata (5.2 kB)\r\n",
      "Collecting ml-dtypes<0.5.0,>=0.3.1 (from tensorflow)\r\n",
      "  Downloading ml_dtypes-0.4.1-cp310-cp310-manylinux_2_17_x86_64.manylinux2014_x86_64.whl.metadata (20 kB)\r\n",
      "Collecting opt-einsum>=2.3.2 (from tensorflow)\r\n",
      "  Downloading opt_einsum-3.4.0-py3-none-any.whl.metadata (6.3 kB)\r\n",
      "Requirement already satisfied: packaging in /home/le/PycharmProjects/urfu/.venv/lib/python3.10/site-packages (from tensorflow) (24.1)\r\n",
      "Collecting protobuf!=4.21.0,!=4.21.1,!=4.21.2,!=4.21.3,!=4.21.4,!=4.21.5,<5.0.0dev,>=3.20.3 (from tensorflow)\r\n",
      "  Downloading protobuf-4.25.5-cp37-abi3-manylinux2014_x86_64.whl.metadata (541 bytes)\r\n",
      "Requirement already satisfied: requests<3,>=2.21.0 in /home/le/PycharmProjects/urfu/.venv/lib/python3.10/site-packages (from tensorflow) (2.32.3)\r\n",
      "Requirement already satisfied: setuptools in /home/le/PycharmProjects/urfu/.venv/lib/python3.10/site-packages (from tensorflow) (72.1.0)\r\n",
      "Requirement already satisfied: six>=1.12.0 in /home/le/PycharmProjects/urfu/.venv/lib/python3.10/site-packages (from tensorflow) (1.16.0)\r\n",
      "Collecting termcolor>=1.1.0 (from tensorflow)\r\n",
      "  Downloading termcolor-2.4.0-py3-none-any.whl.metadata (6.1 kB)\r\n",
      "Requirement already satisfied: typing-extensions>=3.6.6 in /home/le/PycharmProjects/urfu/.venv/lib/python3.10/site-packages (from tensorflow) (4.12.2)\r\n",
      "Collecting wrapt>=1.11.0 (from tensorflow)\r\n",
      "  Using cached wrapt-1.16.0-cp310-cp310-manylinux_2_5_x86_64.manylinux1_x86_64.manylinux_2_17_x86_64.manylinux2014_x86_64.whl.metadata (6.6 kB)\r\n",
      "Collecting grpcio<2.0,>=1.24.3 (from tensorflow)\r\n",
      "  Downloading grpcio-1.66.1-cp310-cp310-manylinux_2_17_x86_64.manylinux2014_x86_64.whl.metadata (3.9 kB)\r\n",
      "Collecting tensorboard<2.18,>=2.17 (from tensorflow)\r\n",
      "  Downloading tensorboard-2.17.1-py3-none-any.whl.metadata (1.6 kB)\r\n",
      "Collecting keras>=3.2.0 (from tensorflow)\r\n",
      "  Downloading keras-3.5.0-py3-none-any.whl.metadata (5.8 kB)\r\n",
      "Collecting tensorflow-io-gcs-filesystem>=0.23.1 (from tensorflow)\r\n",
      "  Downloading tensorflow_io_gcs_filesystem-0.37.1-cp310-cp310-manylinux_2_17_x86_64.manylinux2014_x86_64.whl.metadata (14 kB)\r\n",
      "Collecting numpy\r\n",
      "  Downloading numpy-1.26.4-cp310-cp310-manylinux_2_17_x86_64.manylinux2014_x86_64.whl.metadata (61 kB)\r\n",
      "Collecting click (from nltk)\r\n",
      "  Using cached click-8.1.7-py3-none-any.whl.metadata (3.0 kB)\r\n",
      "Requirement already satisfied: joblib in /home/le/PycharmProjects/urfu/.venv/lib/python3.10/site-packages (from nltk) (1.4.2)\r\n",
      "Collecting regex>=2021.8.3 (from nltk)\r\n",
      "  Downloading regex-2024.9.11-cp310-cp310-manylinux_2_17_x86_64.manylinux2014_x86_64.whl.metadata (40 kB)\r\n",
      "Requirement already satisfied: tqdm in /home/le/PycharmProjects/urfu/.venv/lib/python3.10/site-packages (from nltk) (4.66.5)\r\n",
      "Requirement already satisfied: wheel<1.0,>=0.23.0 in /home/le/PycharmProjects/urfu/.venv/lib/python3.10/site-packages (from astunparse>=1.6.0->tensorflow) (0.44.0)\r\n",
      "Collecting rich (from keras>=3.2.0->tensorflow)\r\n",
      "  Downloading rich-13.8.1-py3-none-any.whl.metadata (18 kB)\r\n",
      "Collecting namex (from keras>=3.2.0->tensorflow)\r\n",
      "  Downloading namex-0.0.8-py3-none-any.whl.metadata (246 bytes)\r\n",
      "Collecting optree (from keras>=3.2.0->tensorflow)\r\n",
      "  Downloading optree-0.12.1-cp310-cp310-manylinux_2_17_x86_64.manylinux2014_x86_64.whl.metadata (47 kB)\r\n",
      "Requirement already satisfied: charset-normalizer<4,>=2 in /home/le/PycharmProjects/urfu/.venv/lib/python3.10/site-packages (from requests<3,>=2.21.0->tensorflow) (3.3.2)\r\n",
      "Requirement already satisfied: idna<4,>=2.5 in /home/le/PycharmProjects/urfu/.venv/lib/python3.10/site-packages (from requests<3,>=2.21.0->tensorflow) (3.8)\r\n",
      "Requirement already satisfied: urllib3<3,>=1.21.1 in /home/le/PycharmProjects/urfu/.venv/lib/python3.10/site-packages (from requests<3,>=2.21.0->tensorflow) (2.2.2)\r\n",
      "Requirement already satisfied: certifi>=2017.4.17 in /home/le/PycharmProjects/urfu/.venv/lib/python3.10/site-packages (from requests<3,>=2.21.0->tensorflow) (2024.8.30)\r\n",
      "Collecting markdown>=2.6.8 (from tensorboard<2.18,>=2.17->tensorflow)\r\n",
      "  Downloading Markdown-3.7-py3-none-any.whl.metadata (7.0 kB)\r\n",
      "Collecting tensorboard-data-server<0.8.0,>=0.7.0 (from tensorboard<2.18,>=2.17->tensorflow)\r\n",
      "  Downloading tensorboard_data_server-0.7.2-py3-none-manylinux_2_31_x86_64.whl.metadata (1.1 kB)\r\n",
      "Collecting werkzeug>=1.0.1 (from tensorboard<2.18,>=2.17->tensorflow)\r\n",
      "  Downloading werkzeug-3.0.4-py3-none-any.whl.metadata (3.7 kB)\r\n",
      "Requirement already satisfied: MarkupSafe>=2.1.1 in /home/le/PycharmProjects/urfu/.venv/lib/python3.10/site-packages (from werkzeug>=1.0.1->tensorboard<2.18,>=2.17->tensorflow) (2.1.5)\r\n",
      "Collecting markdown-it-py>=2.2.0 (from rich->keras>=3.2.0->tensorflow)\r\n",
      "  Using cached markdown_it_py-3.0.0-py3-none-any.whl.metadata (6.9 kB)\r\n",
      "Requirement already satisfied: pygments<3.0.0,>=2.13.0 in /home/le/PycharmProjects/urfu/.venv/lib/python3.10/site-packages (from rich->keras>=3.2.0->tensorflow) (2.18.0)\r\n",
      "Collecting mdurl~=0.1 (from markdown-it-py>=2.2.0->rich->keras>=3.2.0->tensorflow)\r\n",
      "  Using cached mdurl-0.1.2-py3-none-any.whl.metadata (1.6 kB)\r\n",
      "Downloading tensorflow-2.17.0-cp310-cp310-manylinux_2_17_x86_64.manylinux2014_x86_64.whl (601.3 MB)\r\n",
      "\u001B[2K   \u001B[90m━━━━━━━━━━━━━━━━━━━━━━━━━━━━━━━━━━━━━━━━\u001B[0m \u001B[32m601.3/601.3 MB\u001B[0m \u001B[31m16.0 MB/s\u001B[0m eta \u001B[36m0:00:00\u001B[0m00:01\u001B[0m00:01\u001B[0m\r\n",
      "\u001B[?25hDownloading numpy-1.26.4-cp310-cp310-manylinux_2_17_x86_64.manylinux2014_x86_64.whl (18.2 MB)\r\n",
      "\u001B[2K   \u001B[90m━━━━━━━━━━━━━━━━━━━━━━━━━━━━━━━━━━━━━━━━\u001B[0m \u001B[32m18.2/18.2 MB\u001B[0m \u001B[31m27.1 MB/s\u001B[0m eta \u001B[36m0:00:00\u001B[0m00:01\u001B[0m0:01\u001B[0m\r\n",
      "\u001B[?25hDownloading nltk-3.9.1-py3-none-any.whl (1.5 MB)\r\n",
      "\u001B[2K   \u001B[90m━━━━━━━━━━━━━━━━━━━━━━━━━━━━━━━━━━━━━━━━\u001B[0m \u001B[32m1.5/1.5 MB\u001B[0m \u001B[31m9.8 MB/s\u001B[0m eta \u001B[36m0:00:00\u001B[0m\r\n",
      "\u001B[?25hDownloading absl_py-2.1.0-py3-none-any.whl (133 kB)\r\n",
      "Downloading astunparse-1.6.3-py2.py3-none-any.whl (12 kB)\r\n",
      "Using cached flatbuffers-24.3.25-py2.py3-none-any.whl (26 kB)\r\n",
      "Downloading gast-0.6.0-py3-none-any.whl (21 kB)\r\n",
      "Downloading google_pasta-0.2.0-py3-none-any.whl (57 kB)\r\n",
      "Downloading grpcio-1.66.1-cp310-cp310-manylinux_2_17_x86_64.manylinux2014_x86_64.whl (5.7 MB)\r\n",
      "\u001B[2K   \u001B[90m━━━━━━━━━━━━━━━━━━━━━━━━━━━━━━━━━━━━━━━━\u001B[0m \u001B[32m5.7/5.7 MB\u001B[0m \u001B[31m21.1 MB/s\u001B[0m eta \u001B[36m0:00:00\u001B[0ma \u001B[36m0:00:01\u001B[0m\r\n",
      "\u001B[?25hDownloading h5py-3.12.1-cp310-cp310-manylinux_2_17_x86_64.manylinux2014_x86_64.whl (5.3 MB)\r\n",
      "\u001B[2K   \u001B[90m━━━━━━━━━━━━━━━━━━━━━━━━━━━━━━━━━━━━━━━━\u001B[0m \u001B[32m5.3/5.3 MB\u001B[0m \u001B[31m21.7 MB/s\u001B[0m eta \u001B[36m0:00:00\u001B[0m00:01\u001B[0m\r\n",
      "\u001B[?25hDownloading keras-3.5.0-py3-none-any.whl (1.1 MB)\r\n",
      "\u001B[2K   \u001B[90m━━━━━━━━━━━━━━━━━━━━━━━━━━━━━━━━━━━━━━━━\u001B[0m \u001B[32m1.1/1.1 MB\u001B[0m \u001B[31m9.4 MB/s\u001B[0m eta \u001B[36m0:00:00\u001B[0m\r\n",
      "\u001B[?25hDownloading libclang-18.1.1-py2.py3-none-manylinux2010_x86_64.whl (24.5 MB)\r\n",
      "\u001B[2K   \u001B[90m━━━━━━━━━━━━━━━━━━━━━━━━━━━━━━━━━━━━━━━━\u001B[0m \u001B[32m24.5/24.5 MB\u001B[0m \u001B[31m22.6 MB/s\u001B[0m eta \u001B[36m0:00:00\u001B[0m00:01\u001B[0m00:01\u001B[0m\r\n",
      "\u001B[?25hDownloading ml_dtypes-0.4.1-cp310-cp310-manylinux_2_17_x86_64.manylinux2014_x86_64.whl (2.2 MB)\r\n",
      "\u001B[2K   \u001B[90m━━━━━━━━━━━━━━━━━━━━━━━━━━━━━━━━━━━━━━━━\u001B[0m \u001B[32m2.2/2.2 MB\u001B[0m \u001B[31m13.9 MB/s\u001B[0m eta \u001B[36m0:00:00\u001B[0m\r\n",
      "\u001B[?25hDownloading opt_einsum-3.4.0-py3-none-any.whl (71 kB)\r\n",
      "Downloading protobuf-4.25.5-cp37-abi3-manylinux2014_x86_64.whl (294 kB)\r\n",
      "Downloading regex-2024.9.11-cp310-cp310-manylinux_2_17_x86_64.manylinux2014_x86_64.whl (782 kB)\r\n",
      "\u001B[2K   \u001B[90m━━━━━━━━━━━━━━━━━━━━━━━━━━━━━━━━━━━━━━━━\u001B[0m \u001B[32m782.7/782.7 kB\u001B[0m \u001B[31m6.7 MB/s\u001B[0m eta \u001B[36m0:00:00\u001B[0m\r\n",
      "\u001B[?25hDownloading tensorboard-2.17.1-py3-none-any.whl (5.5 MB)\r\n",
      "\u001B[2K   \u001B[90m━━━━━━━━━━━━━━━━━━━━━━━━━━━━━━━━━━━━━━━━\u001B[0m \u001B[32m5.5/5.5 MB\u001B[0m \u001B[31m7.8 MB/s\u001B[0m eta \u001B[36m0:00:00\u001B[0mta \u001B[36m0:00:01\u001B[0m\r\n",
      "\u001B[?25hDownloading tensorflow_io_gcs_filesystem-0.37.1-cp310-cp310-manylinux_2_17_x86_64.manylinux2014_x86_64.whl (5.1 MB)\r\n",
      "\u001B[2K   \u001B[90m━━━━━━━━━━━━━━━━━━━━━━━━━━━━━━━━━━━━━━━━\u001B[0m \u001B[32m5.1/5.1 MB\u001B[0m \u001B[31m4.0 MB/s\u001B[0m eta \u001B[36m0:00:00\u001B[0m:00:01\u001B[0m\r\n",
      "\u001B[?25hDownloading termcolor-2.4.0-py3-none-any.whl (7.7 kB)\r\n",
      "Using cached wrapt-1.16.0-cp310-cp310-manylinux_2_5_x86_64.manylinux1_x86_64.manylinux_2_17_x86_64.manylinux2014_x86_64.whl (80 kB)\r\n",
      "Using cached click-8.1.7-py3-none-any.whl (97 kB)\r\n",
      "Downloading Markdown-3.7-py3-none-any.whl (106 kB)\r\n",
      "Downloading tensorboard_data_server-0.7.2-py3-none-manylinux_2_31_x86_64.whl (6.6 MB)\r\n",
      "\u001B[2K   \u001B[90m━━━━━━━━━━━━━━━━━━━━━━━━━━━━━━━━━━━━━━━━\u001B[0m \u001B[32m6.6/6.6 MB\u001B[0m \u001B[31m19.1 MB/s\u001B[0m eta \u001B[36m0:00:00\u001B[0m00:01\u001B[0m\r\n",
      "\u001B[?25hDownloading werkzeug-3.0.4-py3-none-any.whl (227 kB)\r\n",
      "Downloading namex-0.0.8-py3-none-any.whl (5.8 kB)\r\n",
      "Downloading optree-0.12.1-cp310-cp310-manylinux_2_17_x86_64.manylinux2014_x86_64.whl (347 kB)\r\n",
      "Downloading rich-13.8.1-py3-none-any.whl (241 kB)\r\n",
      "Using cached markdown_it_py-3.0.0-py3-none-any.whl (87 kB)\r\n",
      "Using cached mdurl-0.1.2-py3-none-any.whl (10.0 kB)\r\n",
      "Installing collected packages: namex, libclang, flatbuffers, wrapt, werkzeug, termcolor, tensorflow-io-gcs-filesystem, tensorboard-data-server, regex, protobuf, optree, opt-einsum, numpy, mdurl, markdown, grpcio, google-pasta, gast, click, astunparse, absl-py, tensorboard, nltk, ml-dtypes, markdown-it-py, h5py, rich, keras, tensorflow\r\n",
      "  Attempting uninstall: numpy\r\n",
      "    Found existing installation: numpy 2.1.1\r\n",
      "    Uninstalling numpy-2.1.1:\r\n",
      "      Successfully uninstalled numpy-2.1.1\r\n",
      "Successfully installed absl-py-2.1.0 astunparse-1.6.3 click-8.1.7 flatbuffers-24.3.25 gast-0.6.0 google-pasta-0.2.0 grpcio-1.66.1 h5py-3.12.1 keras-3.5.0 libclang-18.1.1 markdown-3.7 markdown-it-py-3.0.0 mdurl-0.1.2 ml-dtypes-0.4.1 namex-0.0.8 nltk-3.9.1 numpy-1.26.4 opt-einsum-3.4.0 optree-0.12.1 protobuf-4.25.5 regex-2024.9.11 rich-13.8.1 tensorboard-2.17.1 tensorboard-data-server-0.7.2 tensorflow-2.17.0 tensorflow-io-gcs-filesystem-0.37.1 termcolor-2.4.0 werkzeug-3.0.4 wrapt-1.16.0\r\n"
     ]
    }
   ],
   "execution_count": 1
  },
  {
   "cell_type": "code",
   "source": [
    "\n",
    "!kaggle datasets download -d crowdflower/twitter-airline-sentiment"
   ],
   "metadata": {
    "colab": {
     "base_uri": "https://localhost:8080/"
    },
    "id": "U84PtwO_jPx2",
    "outputId": "51bb2706-dab0-436a-dafe-7f3afe65c164",
    "ExecuteTime": {
     "end_time": "2024-09-28T08:49:12.546982Z",
     "start_time": "2024-09-28T08:49:11.048708Z"
    }
   },
   "outputs": [
    {
     "name": "stdout",
     "output_type": "stream",
     "text": [
      "Dataset URL: https://www.kaggle.com/datasets/crowdflower/twitter-airline-sentiment\r\n",
      "License(s): CC-BY-NC-SA-4.0\r\n",
      "twitter-airline-sentiment.zip: Skipping, found more recently modified local copy (use --force to force download)\r\n"
     ]
    }
   ],
   "execution_count": 11
  },
  {
   "metadata": {
    "ExecuteTime": {
     "end_time": "2024-09-28T09:04:22.730391Z",
     "start_time": "2024-09-28T09:04:22.593493Z"
    }
   },
   "cell_type": "code",
   "source": "!ls /home/le/PycharmProjects/urfu/momo/3sem",
   "outputs": [
    {
     "name": "stdout",
     "output_type": "stream",
     "text": [
      "database.sqlite  Tweets.csv\t\t\tЕстественный_язык_2.ipynb\r\n",
      "path\t\t twitter-airline-sentiment.zip\r\n"
     ]
    }
   ],
   "execution_count": 19
  },
  {
   "cell_type": "code",
   "source": [
    "import zipfile\n",
    "\n",
    "with zipfile.ZipFile('twitter-airline-sentiment.zip', 'r') as zip_ref:\n",
    "    zip_ref.extractall()  # Укажите путь для распаковки"
   ],
   "metadata": {
    "id": "--iRTrrmm4Zd",
    "ExecuteTime": {
     "end_time": "2024-09-28T09:04:18.976035Z",
     "start_time": "2024-09-28T09:04:18.905971Z"
    }
   },
   "outputs": [],
   "execution_count": 18
  },
  {
   "cell_type": "code",
   "source": [
    "df"
   ],
   "metadata": {
    "colab": {
     "base_uri": "https://localhost:8080/",
     "height": 947
    },
    "id": "pKup7hnqnE1-",
    "outputId": "c94f1788-1268-49ce-d163-07848972d888",
    "ExecuteTime": {
     "end_time": "2024-09-28T08:48:30.095275Z",
     "start_time": "2024-09-28T08:48:30.077759Z"
    }
   },
   "outputs": [
    {
     "ename": "NameError",
     "evalue": "name 'df' is not defined",
     "output_type": "error",
     "traceback": [
      "\u001B[0;31m---------------------------------------------------------------------------\u001B[0m",
      "\u001B[0;31mNameError\u001B[0m                                 Traceback (most recent call last)",
      "Cell \u001B[0;32mIn[8], line 1\u001B[0m\n\u001B[0;32m----> 1\u001B[0m \u001B[43mdf\u001B[49m\n",
      "\u001B[0;31mNameError\u001B[0m: name 'df' is not defined"
     ]
    }
   ],
   "execution_count": 8
  },
  {
   "cell_type": "code",
   "source": [
    "import pandas as pd\n",
    "import numpy as np\n",
    "import re\n",
    "from sklearn.model_selection import train_test_split\n",
    "from tensorflow.keras.preprocessing.text import Tokenizer\n",
    "from tensorflow.keras.preprocessing.sequence import pad_sequences\n",
    "\n",
    "# Загрузка данных\n",
    "df = pd.read_csv('Tweets.csv')\n",
    "\n",
    "# Предобработка текста\n",
    "def preprocess_text(text):\n",
    "    text = re.sub(r'http\\S+', '', text)  # Удаление ссылок\n",
    "    text = re.sub(r'@\\w+', '', text)    # Удаление упоминаний\n",
    "    text = re.sub(r'#\\w+', '', text)    # Удаление хештегов\n",
    "    text = re.sub(r'[^\\w\\s]', '', text) # Удаление знаков пунктуации\n",
    "    return text.lower()\n",
    "\n",
    "df['cleaned_text'] = df['text'].apply(preprocess_text)\n",
    "\n",
    "# Преобразование меток в числовой формат (например, 1 - позитивный, 0 - негативный)\n",
    "df['label'] = df['airline_sentiment'].map({'positive': 1, 'negative': 0, 'neutral':2})\n",
    "\n",
    "# Разделение данных на обучающую и тестовую выборки\n",
    "X_train, X_test, y_train, y_test = train_test_split(df['cleaned_text'], df['label'], test_size=0.2, random_state=42)\n",
    "\n",
    "# Токенизация текста\n",
    "tokenizer = Tokenizer(num_words=5000)\n",
    "tokenizer.fit_on_texts(X_train)\n",
    "\n",
    "X_train_seq = tokenizer.texts_to_sequences(X_train)\n",
    "X_test_seq = tokenizer.texts_to_sequences(X_test)\n",
    "\n",
    "# Паддинг последовательностей\n",
    "max_length = max(len(x) for x in X_train_seq)\n",
    "X_train_pad = pad_sequences(X_train_seq, maxlen=max_length)\n",
    "X_test_pad = pad_sequences(X_test_seq, maxlen=max_length)"
   ],
   "metadata": {
    "id": "k0aqKVYuhwC3",
    "ExecuteTime": {
     "end_time": "2024-09-28T09:04:59.343047Z",
     "start_time": "2024-09-28T09:04:58.649103Z"
    }
   },
   "outputs": [],
   "execution_count": 21
  },
  {
   "cell_type": "code",
   "source": [
    "print(tokenizer.word_index)"
   ],
   "metadata": {
    "colab": {
     "base_uri": "https://localhost:8080/"
    },
    "id": "kuti58HIx_Mx",
    "outputId": "6b59a6f5-bd4c-4912-c402-ecf9218bca8b",
    "ExecuteTime": {
     "end_time": "2024-09-28T09:05:00.283714Z",
     "start_time": "2024-09-28T09:05:00.242495Z"
    }
   },
   "outputs": [
    {
     "name": "stdout",
     "output_type": "stream",
     "text": [
      "{'to': 1, 'the': 2, 'i': 3, 'a': 4, 'you': 5, 'for': 6, 'flight': 7, 'on': 8, 'and': 9, 'my': 10, 'is': 11, 'in': 12, 'of': 13, 'me': 14, 'it': 15, 'your': 16, 'have': 17, 'was': 18, 'not': 19, 'with': 20, 'that': 21, 'at': 22, 'no': 23, 'this': 24, 'get': 25, 'but': 26, 'be': 27, 'from': 28, 'can': 29, 'are': 30, 'thanks': 31, 'we': 32, 'now': 33, 'cancelled': 34, 'an': 35, 'service': 36, 'just': 37, 'do': 38, 'so': 39, 'been': 40, 'help': 41, 'will': 42, 'im': 43, 'time': 44, 'up': 45, 'customer': 46, 'out': 47, 'they': 48, 'our': 49, 'us': 50, 'when': 51, '2': 52, 'what': 53, 'hours': 54, 'hold': 55, 'how': 56, 'amp': 57, 'its': 58, 'flights': 59, 'all': 60, 'plane': 61, 'thank': 62, 'if': 63, 'why': 64, 'cant': 65, 'there': 66, 'please': 67, 'still': 68, 'would': 69, 'need': 70, 'one': 71, 'back': 72, 'delayed': 73, 'gate': 74, 'bag': 75, 'flightled': 76, 'about': 77, 'had': 78, 'dont': 79, 'as': 80, 'call': 81, 'has': 82, 'or': 83, 'after': 84, 'got': 85, 'hour': 86, 'am': 87, 'today': 88, 'any': 89, 'like': 90, 'phone': 91, 'more': 92, 'by': 93, 'over': 94, 'airline': 95, 'late': 96, 'were': 97, 'guys': 98, 'fly': 99, 'again': 100, 'know': 101, 'waiting': 102, 'trying': 103, 'ive': 104, 'airport': 105, 'great': 106, 'way': 107, 'u': 108, 'then': 109, 'did': 110, 'day': 111, 'change': 112, 'wait': 113, 'only': 114, 'make': 115, 'really': 116, 'should': 117, 'never': 118, '3': 119, 'going': 120, 'go': 121, 'flying': 122, 'because': 123, 'last': 124, 'off': 125, 'good': 126, 'weather': 127, 'tomorrow': 128, 'home': 129, '4': 130, 'delay': 131, 'even': 132, 'minutes': 133, 'people': 134, 'seat': 135, 'check': 136, 'very': 137, 'want': 138, 'here': 139, 'new': 140, 'another': 141, 'told': 142, 'see': 143, 'agent': 144, 'take': 145, 'bags': 146, 'them': 147, 'luggage': 148, 'first': 149, 'dm': 150, 'number': 151, 'due': 152, 'than': 153, 'ticket': 154, 'someone': 155, 'united': 156, 'getting': 157, 'too': 158, 'yes': 159, 'worst': 160, 'email': 161, 'work': 162, 'could': 163, 'lost': 164, 'ever': 165, 'next': 166, 'love': 167, 'baggage': 168, 'through': 169, 'thats': 170, 'hrs': 171, 'much': 172, 'made': 173, 'travel': 174, 'days': 175, 'crew': 176, 'who': 177, 'seats': 178, 'flighted': 179, 'she': 180, 'response': 181, 'being': 182, 'their': 183, 'before': 184, 'aa': 185, 'trip': 186, 'right': 187, 'two': 188, 'other': 189, 'some': 190, 'sitting': 191, 'didnt': 192, 'experience': 193, 'online': 194, 'customers': 195, 'let': 196, 'problems': 197, 'boarding': 198, 'her': 199, 'passengers': 200, 'well': 201, 'long': 202, 'staff': 203, 'said': 204, 'line': 205, 'min': 206, 'sent': 207, 'doesnt': 208, 'since': 209, 'left': 210, 'wont': 211, 'youre': 212, 'does': 213, 'ill': 214, 'bad': 215, 'already': 216, 'sure': 217, 'better': 218, 'best': 219, 'booked': 220, 'book': 221, '1': 222, 'stuck': 223, 'give': 224, 'jfk': 225, 'same': 226, '5': 227, 'reservation': 228, 'into': 229, 'where': 230, 'whats': 231, 'times': 232, 'miss': 233, 'issue': 234, 'agents': 235, 'airlines': 236, 'w': 237, 'yet': 238, 'connection': 239, 'think': 240, 'morning': 241, 'fleek': 242, 'miles': 243, 'tonight': 244, 'he': 245, 'put': 246, 'find': 247, 'booking': 248, 'fleets': 249, 'flt': 250, 'tell': 251, 'air': 252, 'hotel': 253, 'nothing': 254, 'flightr': 255, 'refund': 256, 'keep': 257, 'hope': 258, 'care': 259, 'says': 260, 'info': 261, 'pay': 262, 'delays': 263, 'use': 264, 'tried': 265, 'dfw': 266, 'also': 267, 'website': 268, 'follow': 269, 'called': 270, 'system': 271, 'anything': 272, 'rebooked': 273, 'night': 274, 'missed': 275, 'rude': 276, 'ago': 277, 'free': 278, 'down': 279, 'done': 280, 'rebook': 281, 'finally': 282, 'able': 283, 'tickets': 284, 'nice': 285, 'issues': 286, 'class': 287, 'awesome': 288, '30': 289, 'checked': 290, 'credit': 291, 'mins': 292, 'status': 293, 'wifi': 294, 'appreciate': 295, 'thx': 296, 'working': 297, 'until': 298, 'anyone': 299, 'leave': 300, 'lax': 301, 'business': 302, 'update': 303, 'come': 304, 'week': 305, 'phl': 306, 'via': 307, 'every': 308, 'say': 309, 'board': 310, 'looking': 311, 'app': 312, 'having': 313, 'couldnt': 314, 'missing': 315, 'understand': 316, 'making': 317, 'team': 318, 'available': 319, 'person': 320, 'always': 321, 'bc': 322, 'ok': 323, 'id': 324, 'problem': 325, 'sorry': 326, 'answer': 327, 'look': 328, 'wasnt': 329, 'many': 330, 'havent': 331, 'without': 332, 'which': 333, '10': 334, 'yesterday': 335, 'almost': 336, 'planes': 337, 'jetblue': 338, 'speak': 339, '20': 340, 'fix': 341, 'amazing': 342, 'paid': 343, '1st': 344, 'upgrade': 345, 'helpful': 346, '6': 347, 'isnt': 348, 'pass': 349, 'contact': 350, 'voucher': 351, 'send': 352, 'hi': 353, 'connecting': 354, 'name': 355, 'year': 356, 'sfo': 357, 'terrible': 358, 'talk': 359, 'while': 360, 'departure': 361, 'extra': 362, 'dca': 363, 'show': 364, 'though': 365, 'instead': 366, 'money': 367, 'vegas': 368, 'full': 369, 'open': 370, 'different': 371, 'attendant': 372, 'tarmac': 373, 'pilot': 374, 'rep': 375, 'received': 376, 'early': 377, 'rt': 378, 'southwest': 379, '15': 380, 'least': 381, 'took': 382, '12': 383, 'claim': 384, 'ground': 385, 'employees': 386, 'earlier': 387, 'hung': 388, 'add': 389, 'airways': 390, 'direct': 391, 'his': 392, 'something': 393, 'doing': 394, 'stop': 395, 'actually': 396, 'those': 397, 'old': 398, 'start': 399, 'yall': 400, 'happy': 401, 'try': 402, 'ord': 403, 'job': 404, 'card': 405, 'chance': 406, 'supposed': 407, 'twitter': 408, 'clt': 409, 'taking': 410, 'most': 411, 'company': 412, 'weeks': 413, 'leaving': 414, 'asked': 415, 'landed': 416, 'ur': 417, 'site': 418, 'american': 419, 'account': 420, 'unacceptable': 421, '25': 422, 'far': 423, '45': 424, 'boston': 425, 'horrible': 426, 'policy': 427, 'calling': 428, 'denver': 429, 'reason': 430, 'everyone': 431, 'might': 432, 'disappointed': 433, 'point': 434, 'tweet': 435, 'poor': 436, 'oh': 437, 'found': 438, 'went': 439, 'message': 440, 'seriously': 441, 'ridiculous': 442, 'san': 443, 'wrong': 444, '8': 445, 'food': 446, 'theres': 447, 'bos': 448, 'option': 449, 'weve': 450, 'both': 451, 'reply': 452, 'desk': 453, 'twice': 454, 'less': 455, 'may': 456, 'fee': 457, '7': 458, 'sit': 459, 'half': 460, 'stranded': 461, 'past': 462, 'chicago': 463, 'charge': 464, 'family': 465, 'wife': 466, 'away': 467, 'confirmation': 468, 'maybe': 469, 'hey': 470, 'used': 471, 'little': 472, 'snow': 473, 'needs': 474, 'using': 475, 'these': 476, 'car': 477, 'reservations': 478, 'mechanical': 479, 'enough': 480, 'three': 481, 'big': 482, 'coming': 483, 'changed': 484, 'once': 485, 'gave': 486, 'together': 487, 'dallas': 488, 'ewr': 489, 'charlotte': 490, 'stay': 491, 'return': 492, 'friend': 493, 'link': 494, 'nyc': 495, '24': 496, 'kids': 497, 'soon': 498, 'thing': 499, 'broken': 500, 'saying': 501, '40': 502, 'lot': 503, 'vacation': 504, 'possible': 505, 'destination': 506, 'few': 507, 'awful': 508, 'landing': 509, 'during': 510, 'cost': 511, 'youve': 512, '200': 513, 'member': 514, 'cool': 515, 's': 516, 'him': 517, 'makes': 518, 'offer': 519, 'idea': 520, 'runway': 521, 'attendants': 522, 'own': 523, 'terminal': 524, 'thru': 525, 'longer': 526, 'happened': 527, 'around': 528, 'cust': 529, 'hr': 530, 'given': 531, 'row': 532, 'scheduled': 533, 'traveling': 534, 'request': 535, 'looks': 536, 'jet': 537, 'heard': 538, 'dc': 539, 'assistance': 540, 'things': 541, 'sat': 542, 'worse': 543, 'hear': 544, 'believe': 545, 'newark': 546, 'houston': 547, 'lack': 548, 'question': 549, 'checkin': 550, '50': 551, 'pls': 552, 'everything': 553, 'hard': 554, 'cannot': 555, 'sucks': 556, 'telling': 557, 'ua': 558, 'points': 559, 'plus': 560, 'options': 561, 'international': 562, 'phx': 563, 'information': 564, 'waited': 565, 'iad': 566, 'guess': 567, 'changes': 568, 'wouldnt': 569, 'life': 570, 'error': 571, 'minute': 572, 'forward': 573, 'such': 574, 'ask': 575, 'frustrating': 576, 'calls': 577, 'hoping': 578, 'real': 579, 'wanted': 580, 'ceo': 581, 'reflight': 582, 'second': 583, 'monday': 584, '2nd': 585, 'process': 586, 'reach': 587, 'counting': 588, 'else': 589, 'seems': 590, 'address': 591, 'mean': 592, 'room': 593, 'lga': 594, 'frustrated': 595, 'philly': 596, 'arrived': 597, 'buy': 598, 'maintenance': 599, 'arrive': 600, 'end': 601, 'busy': 602, 'standby': 603, 'boarded': 604, 'pilots': 605, 'currently': 606, 'glad': 607, 'blue': 608, 'expect': 609, 'swa': 610, '100': 611, 'provide': 612, 'lose': 613, 'pick': 614, 'theyre': 615, 'form': 616, 'guy': 617, 'feel': 618, 'lets': 619, 'pm': 620, 'suck': 621, 'either': 622, 'checking': 623, 'communication': 624, 'wish': 625, 'arent': 626, 'complaint': 627, 'thought': 628, 'club': 629, 'miami': 630, 'city': 631, 'asking': 632, 'run': 633, 'taken': 634, 'paying': 635, 'iah': 636, 'flew': 637, 'pretty': 638, 'month': 639, 'happens': 640, 'years': 641, 'supervisor': 642, 'joke': 643, 'hopefully': 644, 'fees': 645, 'quick': 646, 'lol': 647, 'future': 648, 'deal': 649, 'sw': 650, 'yeah': 651, 'carry': 652, 'months': 653, 'usair': 654, 'happen': 655, 'loyal': 656, 'passenger': 657, 'between': 658, 'group': 659, 'updates': 660, 'la': 661, 'apology': 662, 'place': 663, 'needed': 664, 'under': 665, 'spent': 666, 'fll': 667, 'each': 668, 'bring': 669, 'human': 670, 'case': 671, 'computer': 672, 'seem': 673, 'award': 674, 'fine': 675, 'flown': 676, 'las': 677, 'super': 678, 'atlanta': 679, 'helping': 680, 'world': 681, 'connections': 682, 'fact': 683, 'entire': 684, 'cabin': 685, 'empty': 686, 'counter': 687, 'respond': 688, 'details': 689, '800': 690, 'okay': 691, 'live': 692, 'wow': 693, 'top': 694, 'allow': 695, 'leg': 696, 'flightlations': 697, 'whole': 698, 'cold': 699, 'sunday': 700, 'correct': 701, 'holding': 702, 'friends': 703, 'huge': 704, 'companion': 705, 'tv': 706, 'sleep': 707, 'middle': 708, 'tuesday': 709, 'following': 710, 'tsa': 711, 'easy': 712, 'flighting': 713, 'compensation': 714, 'automated': 715, 'set': 716, 'asap': 717, 'priority': 718, 'offered': 719, 'beyond': 720, 'bought': 721, 'part': 722, 'hate': 723, 'completely': 724, 'shouldnt': 725, 'gets': 726, 'apparently': 727, 'gonna': 728, 'drive': 729, 'price': 730, 'original': 731, 'rather': 732, 'sending': 733, 'figure': 734, 'fault': 735, 'orlando': 736, 'wall': 737, 'austin': 738, 'delta': 739, 'purchase': 740, 'handle': 741, 'hello': 742, 'platinum': 743, 'crazy': 744, 'giving': 745, '9': 746, 'works': 747, 'r': 748, 'read': 749, 'sad': 750, 'plans': 751, 'zero': 752, 'extremely': 753, 'feb': 754, 'despite': 755, 'confirmed': 756, 'myself': 757, 'appreciated': 758, 'charged': 759, 'seen': 760, 'must': 761, 'support': 762, 'members': 763, 'sense': 764, 'delivered': 765, 'takes': 766, 'several': 767, 'birthday': 768, 'media': 769, 'den': 770, 'wtf': 771, 'share': 772, 'means': 773, 'mileage': 774, 'space': 775, 'ppl': 776, 'round': 777, '11': 778, '35': 779, 'clothes': 780, 'lounge': 781, 'knew': 782, 'luv': 783, 'record': 784, 'cause': 785, 'treat': 786, 'helped': 787, 'tix': 788, 'water': 789, 'nashville': 790, 'came': 791, 'answers': 792, 'allowed': 793, 'storm': 794, 'reschedule': 795, 'luck': 796, 'learn': 797, 'high': 798, 'confirm': 799, 'fail': 800, 'employee': 801, 'complete': 802, 'haha': 803, 'running': 804, 'worth': 805, 'unfortunately': 806, 'bwi': 807, 'ready': 808, 'upset': 809, 'mobile': 810, 'weekend': 811, '1k': 812, 'access': 813, 'kind': 814, 'aircraft': 815, 'reps': 816, 'switch': 817, 'literally': 818, 'totally': 819, 'probably': 820, 'fare': 821, 'social': 822, 'flightlation': 823, 'mco': 824, 'inflight': 825, 'course': 826, 'situation': 827, 'land': 828, 'hasnt': 829, 'safety': 830, 'forced': 831, 'friendly': 832, 'relations': 833, 'shit': 834, 'overnight': 835, 'arriving': 836, 'excellent': 837, 'gold': 838, 'schedule': 839, 'folks': 840, 'fun': 841, 'held': 842, 'shes': 843, 'moved': 844, '2015': 845, 'unable': 846, 'gives': 847, 'friday': 848, 'page': 849, 'b': 850, 'hang': 851, 'multiple': 852, 'country': 853, 'answering': 854, 'goes': 855, 'small': 856, 'changing': 857, 'saw': 858, 'feedback': 859, 'arrival': 860, 'husband': 861, 'rescheduled': 862, 'responding': 863, 'closed': 864, 'four': 865, 'word': 866, 'wonderful': 867, 'services': 868, 'kudos': 869, 'code': 870, 'nope': 871, 'sign': 872, 'door': 873, 'submitted': 874, 'afternoon': 875, 'vouchers': 876, 'absolutely': 877, 'date': 878, 'dividend': 879, 'dropped': 880, 'overhead': 881, 'layover': 882, 'choice': 883, 'atl': 884, 'fixed': 885, 'winter': 886, 'disconnected': 887, 'hes': 888, 'complaints': 889, '1hr': 890, 'losing': 891, '3rd': 892, 'mess': 893, 'matter': 894, 'n': 895, 'man': 896, 'list': 897, 'march': 898, 'mine': 899, 'report': 900, 'true': 901, 'front': 902, 'gt': 903, 'ride': 904, 'domestic': 905, 'excited': 906, 'move': 907, 'load': 908, 'talked': 909, 'saturday': 910, 'area': 911, 'attitude': 912, 'watch': 913, 'virgin': 914, 'note': 915, 'drop': 916, 'treated': 917, 'news': 918, 'inconvenience': 919, 'shows': 920, 'seating': 921, 'non': 922, 'warm': 923, 'plan': 924, 'explain': 925, 'mind': 926, 'ny': 927, '90': 928, 'control': 929, 'rock': 930, 'letter': 931, 'wo': 932, 'anyway': 933, 'showing': 934, 'child': 935, 'depart': 936, 'behind': 937, 'bank': 938, 'however': 939, 're': 940, 'keeps': 941, 'anymore': 942, 'connect': 943, 'lots': 944, 'total': 945, 'btw': 946, 'merger': 947, 'dealing': 948, 'catch': 949, 'offering': 950, 'refused': 951, 'difference': 952, 'regarding': 953, 'phones': 954, 'tired': 955, 'gone': 956, 'bit': 957, 'safe': 958, 'south': 959, 'hell': 960, 'conf': 961, 'nonstop': 962, 'others': 963, 'file': 964, 'impressed': 965, 'web': 966, 'win': 967, 'clear': 968, 'anywhere': 969, 'security': 970, 'kidding': 971, 'plz': 972, 'uk': 973, 'fucking': 974, 'gates': 975, 'flyer': 976, 'funeral': 977, 'baby': 978, 'kept': 979, 'worked': 980, 'mistake': 981, 'stuff': 982, 'worries': 983, 'except': 984, 'hangs': 985, 'story': 986, 'match': 987, 'svc': 988, 'drink': 989, 'acceptable': 990, 'trouble': 991, 'tag': 992, 'receive': 993, 'concern': 994, 'son': 995, 'party': 996, 'spend': 997, 'fl': 998, 'tmrw': 999, 'emails': 1000, 'failed': 1001, 'window': 1002, 'ice': 1003, '75': 1004, 'mom': 1005, 'takeoff': 1006, '22': 1007, 'rdu': 1008, 'usairways': 1009, 'definitely': 1010, 'funny': 1011, 'post': 1012, 'phoenix': 1013, 'bna': 1014, 'sort': 1015, 'failure': 1016, 'compensate': 1017, 'cover': 1018, 'airplane': 1019, 'yr': 1020, 'select': 1021, 'equipment': 1022, 'letting': 1023, 'street': 1024, 'dept': 1025, 'seattle': 1026, 'actual': 1027, 'traveler': 1028, 'youll': 1029, 'followed': 1030, 'requested': 1031, 'cc': 1032, 'rental': 1033, 'america': 1034, 'updated': 1035, 'damn': 1036, 'knows': 1037, 'headed': 1038, 'absolute': 1039, 'wondering': 1040, 'spoke': 1041, 'daughter': 1042, 'office': 1043, 'entertainment': 1044, 'useless': 1045, 'tells': 1046, 'filed': 1047, 'evening': 1048, 'assist': 1049, 'talking': 1050, 'passbook': 1051, 'explanation': 1052, 'frequent': 1053, 'lines': 1054, 'captain': 1055, 'single': 1056, 'ruined': 1057, 'hanging': 1058, 'meal': 1059, 'philadelphia': 1060, '2hrs': 1061, 'moving': 1062, 'till': 1063, 'cut': 1064, 'mia': 1065, 'resolve': 1066, 'appease': 1067, 'youd': 1068, 'count': 1069, 'route': 1070, 'choose': 1071, 'routes': 1072, 'flightd': 1073, 'favorite': 1074, 'tho': 1075, 'willing': 1076, 'itinerary': 1077, 'usually': 1078, 'especially': 1079, 'resolved': 1080, 'current': 1081, 'bother': 1082, 'handled': 1083, 'short': 1084, 'train': 1085, 'bumped': 1086, 'flyers': 1087, 'onboard': 1088, 'keeping': 1089, 'none': 1090, 'wasted': 1091, 'answered': 1092, '13': 1093, 'happening': 1094, 'center': 1095, 'bs': 1096, 'screwed': 1097, 'plenty': 1098, 'sister': 1099, 'meeting': 1100, 'preferred': 1101, 'slow': 1102, 'order': 1103, 'turned': 1104, 'added': 1105, 'unhelpful': 1106, 'provided': 1107, 'receipt': 1108, 'lady': 1109, 'airports': 1110, 'department': 1111, 'listening': 1112, 'cs': 1113, '23': 1114, 'questions': 1115, 'fingers': 1116, 'crossed': 1117, 'unhappy': 1118, 'onto': 1119, 'likely': 1120, 'battles': 1121, 'intl': 1122, 'imagine': 1123, 'power': 1124, 'program': 1125, 'representative': 1126, 'fantastic': 1127, 'bday': 1128, 'sick': 1129, 'refunded': 1130, 'transfer': 1131, 'caused': 1132, 'filled': 1133, 'training': 1134, 'fa': 1135, 'forgot': 1136, 'serious': 1137, 'main': 1138, 'above': 1139, 'tweets': 1140, 'werent': 1141, 'purchased': 1142, 'premier': 1143, 'welcome': 1144, 'close': 1145, 'volume': 1146, 'started': 1147, 'mexico': 1148, 'arrives': 1149, 'enjoy': 1150, 'emailed': 1151, 'per': 1152, 'sell': 1153, 'waste': 1154, 'important': 1155, 'screw': 1156, 'mention': 1157, 'inside': 1158, 'turn': 1159, 'alone': 1160, 'internet': 1161, 'passes': 1162, 'expensive': 1163, 'treatment': 1164, 'outside': 1165, 'dmed': 1166, 'adding': 1167, 'lovely': 1168, 'suitcase': 1169, 'touch': 1170, 'couple': 1171, 'ahead': 1172, 'freezing': 1173, 'expected': 1174, 'denied': 1175, 'experienced': 1176, 'travelers': 1177, 'upgrades': 1178, 'omg': 1179, 'fuck': 1180, 'ugh': 1181, 'broke': 1182, 'yep': 1183, 'angry': 1184, 'standing': 1185, 'numbers': 1186, 'expired': 1187, 'advisory': 1188, 'ways': 1189, 'bus': 1190, 'nobody': 1191, 'ones': 1192, 'y': 1193, 'fyi': 1194, 'fill': 1195, 'major': 1196, 'personal': 1197, 'loaded': 1198, 'midnight': 1199, 'catering': 1200, 'callback': 1201, 'coffee': 1202, 'deals': 1203, 'feeling': 1204, 'coach': 1205, 'unbelievable': 1206, 'five': 1207, 'video': 1208, 'excuse': 1209, 'notice': 1210, 'honor': 1211, 'trust': 1212, 'dmd': 1213, 'notification': 1214, 'dragons': 1215, 'st': 1216, 'elite': 1217, 'final': 1218, 'starting': 1219, 'additional': 1220, 'third': 1221, 'fares': 1222, 'loved': 1223, 'picked': 1224, 'notified': 1225, 'patient': 1226, 'conditions': 1227, 'deliver': 1228, 'trips': 1229, 'tweeting': 1230, 'ended': 1231, 'hire': 1232, 'accommodate': 1233, 'god': 1234, 'near': 1235, 'yo': 1236, 'perhaps': 1237, 'departing': 1238, 'wed': 1239, 'clearly': 1240, 'impossible': 1241, 'event': 1242, 'courtesy': 1243, 'known': 1244, 'diego': 1245, 'faster': 1246, 'planned': 1247, 'announced': 1248, 'pathetic': 1249, 'woman': 1250, 'gotten': 1251, 'mail': 1252, 'switched': 1253, 'officially': 1254, 'view': 1255, 'funds': 1256, 'nightmare': 1257, 'fair': 1258, 'across': 1259, 'flightling': 1260, 'policies': 1261, 'driving': 1262, 'special': 1263, 'messed': 1264, 'refuse': 1265, 'tracking': 1266, 'eat': 1267, 'b4': 1268, 'dollars': 1269, 'exit': 1270, 'speaking': 1271, 'further': 1272, 'sweet': 1273, 'corporate': 1274, 'apologies': 1275, 'step': 1276, 'consider': 1277, 'bringing': 1278, 'blame': 1279, 'brother': 1280, 'type': 1281, 'snacks': 1282, 'absurd': 1283, 'fit': 1284, 'traffic': 1285, 'words': 1286, 'quickly': 1287, 'unprofessional': 1288, 'experiences': 1289, 'juan': 1290, 'ohare': 1291, 'dal': 1292, 'previous': 1293, 'charging': 1294, 'usa': 1295, '0': 1296, 'print': 1297, 'ontime': 1298, 'rules': 1299, 'cross': 1300, 'fan': 1301, 'premium': 1302, 'along': 1303, 'rr': 1304, 'upgraded': 1305, 'smh': 1306, 'rate': 1307, 'promise': 1308, 'perfect': 1309, 'avoid': 1310, '60': 1311, 'avail': 1312, 'etc': 1313, 'exactly': 1314, 'within': 1315, 'hawaii': 1316, 'red': 1317, 'pbi': 1318, 'auto': 1319, 'hot': 1320, 'april': 1321, 'based': 1322, 'buffalo': 1323, 'school': 1324, 'fight': 1325, 'disappointing': 1326, 'loyalty': 1327, 'straight': 1328, 'disgusting': 1329, 'characters': 1330, 'item': 1331, 'delivery': 1332, 'hands': 1333, 'met': 1334, 'write': 1335, 'applied': 1336, 'contacting': 1337, 'shot': 1338, 'solution': 1339, 'accept': 1340, 'break': 1341, 'death': 1342, 'lie': 1343, 'relate': 1344, 'game': 1345, 'x': 1346, 'silver': 1347, 'attempt': 1348, 'amount': 1349, 'ball': 1350, 'killing': 1351, 'originally': 1352, 'res': 1353, 'prices': 1354, 'remember': 1355, '700': 1356, 'wonder': 1357, 'redeem': 1358, 'thnx': 1359, 'example': 1360, 'figured': 1361, 'forever': 1362, 'diff': 1363, 'advise': 1364, '14': 1365, 'informed': 1366, 'level': 1367, 'thinking': 1368, 'delaying': 1369, 'thursday': 1370, 'suggestions': 1371, 'feels': 1372, 'suppose': 1373, 'sun': 1374, 'jan': 1375, 'sold': 1376, 'realize': 1377, 'wanna': 1378, 'planning': 1379, 'engine': 1380, 'truly': 1381, 'precheck': 1382, 'computers': 1383, 'text': 1384, 'emergency': 1385, '150': 1386, 'logan': 1387, 'florida': 1388, 'sju': 1389, 'ha': 1390, 'leaves': 1391, 'brand': 1392, 'feet': 1393, 'play': 1394, 'act': 1395, 'fast': 1396, 'daily': 1397, 'damaged': 1398, 'items': 1399, 'beautiful': 1400, 'aware': 1401, 'advantage': 1402, 'management': 1403, 'deserves': 1404, 'columbus': 1405, 'tampa': 1406, 'apologize': 1407, 'low': 1408, 'push': 1409, 'honest': 1410, '400': 1411, 'finding': 1412, 'large': 1413, '728': 1414, 'cab': 1415, 'responded': 1416, 'assigned': 1417, 'iphone': 1418, 'promo': 1419, 'enter': 1420, 'summer': 1421, 'screen': 1422, 'clean': 1423, 'rsw': 1424, 'wednesday': 1425, 'nearly': 1426, '16': 1427, 'quality': 1428, '17': 1429, 'journal': 1430, 'easily': 1431, 'weight': 1432, 'military': 1433, 'visit': 1434, 'wifes': 1435, 'possibly': 1436, 'expecting': 1437, 'pleasant': 1438, 'nc': 1439, 'departs': 1440, 'mad': 1441, 'passed': 1442, 'whose': 1443, 'congrats': 1444, 'pre': 1445, 'stopped': 1446, 'gotta': 1447, 'continue': 1448, 'disaster': 1449, 'floor': 1450, 'afford': 1451, 'global': 1452, 'states': 1453, 'issued': 1454, 'children': 1455, 'properly': 1456, 'frustration': 1457, '130': 1458, 'stand': 1459, 'ticketed': 1460, 'directly': 1461, 'become': 1462, 'save': 1463, 'picture': 1464, 'cities': 1465, 'cheap': 1466, 'appears': 1467, 'economy': 1468, 'wheres': 1469, 'alternate': 1470, 'manager': 1471, 'surprised': 1472, 'music': 1473, 'wheelchair': 1474, 'texas': 1475, 'safely': 1476, 'drinks': 1477, 'york': 1478, 'f': 1479, 'overbooked': 1480, 'cheers': 1481, 'stewardess': 1482, 'often': 1483, 'promised': 1484, 'bird': 1485, 'although': 1486, 'prompt': 1487, 'recent': 1488, 'chances': 1489, 'sharing': 1490, 'patience': 1491, 'todays': 1492, 'clue': 1493, 'infant': 1494, 'hand': 1495, 'watching': 1496, 'eventually': 1497, '32': 1498, 'shouldve': 1499, 'incredibly': 1500, 'exec': 1501, 'returned': 1502, 'incompetence': 1503, 'easier': 1504, 'cheaper': 1505, 'professional': 1506, 'ran': 1507, 'paper': 1508, 'rewards': 1509, 'doors': 1510, '34': 1511, 'travels': 1512, 'cmon': 1513, 'face': 1514, 'somewhere': 1515, 'skies': 1516, 'rescheduling': 1517, '21': 1518, 'frm': 1519, 'improve': 1520, 'house': 1521, 'personnel': 1522, 'jetway': 1523, 'track': 1524, '18': 1525, 'aus': 1526, 'worry': 1527, 'minor': 1528, 'pax': 1529, 'carousel': 1530, '2day': 1531, 'sea': 1532, 'moment': 1533, 'side': 1534, 'providing': 1535, 'cell': 1536, 'spending': 1537, 'announcement': 1538, 'disappointment': 1539, 'public': 1540, 'jb': 1541, 'ual': 1542, 'admirals': 1543, 'guarantee': 1544, 'sooner': 1545, 'hotels': 1546, 'advance': 1547, 'yay': 1548, 'legs': 1549, 'hearing': 1550, 'c': 1551, 'bet': 1552, 'rest': 1553, 'fails': 1554, 'deplane': 1555, 'six': 1556, 'contacted': 1557, 'brought': 1558, 'drove': 1559, 'fuel': 1560, 'contest': 1561, 'mechanics': 1562, 'apply': 1563, 'wasting': 1564, 'earn': 1565, 'california': 1566, 'worried': 1567, 'til': 1568, 'according': 1569, 'reroute': 1570, 'd': 1571, 'traveled': 1572, 'meant': 1573, 'heres': 1574, 'acct': 1575, 'obviously': 1576, 'tough': 1577, 'mint': 1578, 'watched': 1579, 'east': 1580, 'understood': 1581, 'carryon': 1582, '1800': 1583, 'ty': 1584, 'legroom': 1585, 'mileageplus': 1586, 'cun': 1587, 'head': 1588, 'black': 1589, 'systems': 1590, 'crappy': 1591, 'turns': 1592, 'disgusted': 1593, 'plat': 1594, 'miserable': 1595, 'located': 1596, 'msp': 1597, 'photo': 1598, 'ass': 1599, 'simply': 1600, 'sadly': 1601, 'theyve': 1602, 'faa': 1603, 'age': 1604, 'complain': 1605, 'departed': 1606, '3hrs': 1607, 'girl': 1608, 'felt': 1609, 'official': 1610, 'tea': 1611, 'meals': 1612, 'apart': 1613, 'otherwise': 1614, 'compassion': 1615, 'rerouted': 1616, 'include': 1617, 'living': 1618, 'considering': 1619, 'golf': 1620, 'sna': 1621, 'reimbursed': 1622, 'tx': 1623, 'among': 1624, 'general': 1625, 'pvd': 1626, 'dia': 1627, 'state': 1628, 'annoying': 1629, 'earned': 1630, 'degrees': 1631, 'affected': 1632, 'heading': 1633, 'shame': 1634, 'ruining': 1635, 'separate': 1636, 'reserve': 1637, 'sky': 1638, 'locator': 1639, 'moms': 1640, 'medical': 1641, 'mother': 1642, 'incredible': 1643, 'taxi': 1644, 'raise': 1645, 'pr': 1646, 'inconvenient': 1647, 'reward': 1648, 'pull': 1649, 'memphis': 1650, 'laptop': 1651, 'merge': 1652, 'daughters': 1653, 'boards': 1654, 'yyz': 1655, 'rows': 1656, 'dead': 1657, 'wants': 1658, 'anytime': 1659, 'paris': 1660, 'yea': 1661, 'msg': 1662, 'sounds': 1663, 'biz': 1664, 'exact': 1665, 'confused': 1666, 'ios': 1667, 'specific': 1668, 'dog': 1669, 'immediately': 1670, 'oscars': 1671, 'palm': 1672, 'looked': 1673, 'reimbursement': 1674, 'hunt': 1675, 'listed': 1676, 'interview': 1677, 'position': 1678, 'nor': 1679, 'surprise': 1680, 'respect': 1681, 'frozen': 1682, 'west': 1683, 'police': 1684, 'allowing': 1685, 'trueblue': 1686, 'causing': 1687, '5hrs': 1688, 'dulles': 1689, 'nuts': 1690, 'sleeping': 1691, 'costs': 1692, 'retrieve': 1693, 'dad': 1694, 'tech': 1695, 'insane': 1696, 'crews': 1697, 'gear': 1698, '24hrs': 1699, 'aadvantage': 1700, 'outstanding': 1701, '224': 1702, 'offers': 1703, 'shout': 1704, 'cares': 1705, 'rapid': 1706, 'ashamed': 1707, 'including': 1708, 'feature': 1709, 'wedding': 1710, 'piece': 1711, '500': 1712, '140': 1713, 'roundtrip': 1714, 'resolution': 1715, 'marketing': 1716, 'usual': 1717, 'whenever': 1718, 'pic': 1719, 'costumer': 1720, 'crap': 1721, '300': 1722, 'sale': 1723, 'double': 1724, 'incompetent': 1725, 'showed': 1726, 'express': 1727, 'pdx': 1728, 'knowing': 1729, 'log': 1730, 'lied': 1731, 'concerned': 1732, 'garbage': 1733, 'seeing': 1734, 'lesson': 1735, 'comment': 1736, 'won': 1737, 'rooms': 1738, 'mon': 1739, 'truck': 1740, 'sight': 1741, 'reasons': 1742, 'pittsburgh': 1743, 'prepared': 1744, 'practice': 1745, 'sjc': 1746, 'towards': 1747, 'lap': 1748, 'announce': 1749, 'waterbury': 1750, 'republican': 1751, 'initial': 1752, 'private': 1753, 'reimburse': 1754, 'claims': 1755, 'pts': 1756, 'outlets': 1757, 'ft': 1758, 'simple': 1759, 'shown': 1760, 'existing': 1761, 'heat': 1762, 'drunk': 1763, 'serving': 1764, 'nights': 1765, 'fraud': 1766, 'alert': 1767, 'disconnect': 1768, 'slc': 1769, 'ind': 1770, 'valid': 1771, 'saved': 1772, 'walk': 1773, 'jump': 1774, 'complimentary': 1775, 'lauderdale': 1776, 'effort': 1777, 'hook': 1778, 'balance': 1779, 'smooth': 1780, 'raleigh': 1781, 'somebody': 1782, 'basically': 1783, 'sound': 1784, 'ps': 1785, 'pit': 1786, 'opportunity': 1787, 'winners': 1788, 'statement': 1789, 'credits': 1790, 'unavailable': 1791, 'seconds': 1792, 'mke': 1793, '600': 1794, 'stated': 1795, 'canada': 1796, 'snack': 1797, 'hates': 1798, 'bummer': 1799, 'buf': 1800, 'embarrassing': 1801, '223': 1802, 'guitar': 1803, 'manage': 1804, 'meet': 1805, 'august': 1806, 'pa': 1807, '4th': 1808, 'rocks': 1809, 'timely': 1810, 'song': 1811, 'rent': 1812, 'peanuts': 1813, 'poorly': 1814, 'penalty': 1815, 'diverted': 1816, 'playing': 1817, 'lt3': 1818, 'va': 1819, 'coat': 1820, 'bdl': 1821, 'conference': 1822, 'switching': 1823, 'unless': 1824, 'tues': 1825, 'kp': 1826, 'mdw': 1827, 'washington': 1828, 'australia': 1829, 'csr': 1830, 'lhr': 1831, 'springs': 1832, 'buying': 1833, 'certain': 1834, 'discount': 1835, 'commercial': 1836, 'deicing': 1837, 'elsewhere': 1838, 'thoughts': 1839, 'result': 1840, 'upcoming': 1841, 'handling': 1842, 'availability': 1843, 'dinner': 1844, '1130': 1845, 'wet': 1846, 'canned': 1847, 'chairman': 1848, 'anniversary': 1849, 'million': 1850, 'model': 1851, 'lucky': 1852, 'local': 1853, 'livery': 1854, 'mr': 1855, 'eastern': 1856, 'decision': 1857, 'agree': 1858, 'bin': 1859, 'flightations': 1860, 'alist': 1861, 'limit': 1862, 'discuss': 1863, 'portland': 1864, 'sf': 1865, 'tpa': 1866, '36': 1867, 'ahold': 1868, 'learned': 1869, 'flightation': 1870, 'stick': 1871, 'whos': 1872, 'fam': 1873, 'awards': 1874, 'normal': 1875, 'errors': 1876, 'shitty': 1877, 'toward': 1878, 'comes': 1879, 'eyes': 1880, 'transferred': 1881, 'cleveland': 1882, 'listen': 1883, 'wout': 1884, 'jblu': 1885, 'prior': 1886, 'honeymoon': 1887, 'jax': 1888, 'prob': 1889, 'clients': 1890, '3x': 1891, 't5': 1892, 'cup': 1893, 'bf': 1894, 'yup': 1895, 'young': 1896, 'beach': 1897, 'bins': 1898, 'pushed': 1899, '55': 1900, 'alright': 1901, 'pissed': 1902, 'a320': 1903, 'workers': 1904, 'notify': 1905, 'charges': 1906, 'dirty': 1907, 'continued': 1908, 'p': 1909, 'ktn': 1910, 'fresh': 1911, 'lame': 1912, 'passport': 1913, 'david': 1914, 'lower': 1915, 'reserved': 1916, 'results': 1917, '42': 1918, 'turning': 1919, 'degree': 1920, 'size': 1921, 'carrier': 1922, 'waive': 1923, 'consistent': 1924, 'cancun': 1925, 'whatever': 1926, 'fb': 1927, 'realized': 1928, 'seated': 1929, 'procedure': 1930, '8am': 1931, 'january': 1932, '26': 1933, 'signed': 1934, 'rights': 1935, 'star': 1936, 'fabulous': 1937, 'inbound': 1938, 'ah': 1939, 'dates': 1940, '6pm': 1941, 'biggest': 1942, 'handlers': 1943, 'messages': 1944, 'difficult': 1945, 'slept': 1946, 'ipad': 1947, 'nah': 1948, 'puerto': 1949, 'uncomfortable': 1950, 'incident': 1951, 'speed': 1952, 'sunny': 1953, 'disappoint': 1954, 'operations': 1955, 'chaos': 1956, 'recommend': 1957, 'connected': 1958, 'hpn': 1959, 'e': 1960, 'explained': 1961, 'upon': 1962, 'operated': 1963, 'reagan': 1964, 'ignored': 1965, 'assume': 1966, 'epic': 1967, 'flightly': 1968, 'nj': 1969, 'throwing': 1970, 'zone': 1971, 'ff': 1972, 'spot': 1973, 'gift': 1974, 'accounts': 1975, 'responses': 1976, 'inspired': 1977, 'laguardia': 1978, 'repair': 1979, 'honestly': 1980, 'begin': 1981, 'tire': 1982, 'february': 1983, 'outbound': 1984, 'huh': 1985, 'remove': 1986, '2x': 1987, 'okc': 1988, 'suggest': 1989, 'positive': 1990, 'method': 1991, 'reference': 1992, 'yours': 1993, 'bonus': 1994, 'putting': 1995, 'cuz': 1996, 'freaking': 1997, 'strand': 1998, 'wrote': 1999, 'ac': 2000, 'higher': 2001, 'stressful': 2002, 'programs': 2003, 'nasty': 2004, 'meetings': 2005, 'fire': 2006, 'london': 2007, 'technical': 2008, 'assignment': 2009, 'whoever': 2010, 'attention': 2011, 'central': 2012, 'scavenger': 2013, 'finish': 2014, 'suggested': 2015, 'shoes': 2016, 'estimated': 2017, 'yelled': 2018, 'coast': 2019, 'returning': 2020, 'serve': 2021, 'loving': 2022, 'queue': 2023, 'false': 2024, 'paperwork': 2025, 'partner': 2026, 'hiring': 2027, 'comp': 2028, 'bathroom': 2029, 'accommodations': 2030, 'est': 2031, 'locate': 2032, 'hostage': 2033, 'automatically': 2034, 'payment': 2035, '70': 2036, 'whether': 2037, 'dollar': 2038, 'value': 2039, 'june': 2040, 'hadnt': 2041, 'client': 2042, 'teach': 2043, 'enjoyed': 2044, 'rates': 2045, 'light': 2046, 'noticed': 2047, 'common': 2048, 'mile': 2049, 'suit': 2050, 'fliers': 2051, 'white': 2052, 'promotion': 2053, '3056': 2054, 'pushing': 2055, 'understandable': 2056, 'weird': 2057, 'north': 2058, 'cxl': 2059, 'dealt': 2060, 'harder': 2061, 'carrying': 2062, 'abysmal': 2063, 'birds': 2064, 'purpose': 2065, 'fortunately': 2066, 'correctly': 2067, '4567': 2068, 'field': 2069, '8pm': 2070, 'tight': 2071, '6am': 2072, 'dream': 2073, 'forget': 2074, 'band': 2075, 'split': 2076, 'cards': 2077, 'perks': 2078, 'served': 2079, 'jose': 2080, 'cvg': 2081, 'cry': 2082, 'leading': 2083, '1024': 2084, 'bunch': 2085, 'blog': 2086, 'bucks': 2087, 'throughout': 2088, 'hassle': 2089, 'tweeted': 2090, 'charleston': 2091, '7am': 2092, 'roads': 2093, 'wouldve': 2094, 'consistently': 2095, 'luckily': 2096, 'tablet': 2097, 'concerns': 2098, '2days': 2099, 'baltimore': 2100, 'jh': 2101, 'hundreds': 2102, 'plastic': 2103, 'fully': 2104, 'compensated': 2105, 'names': 2106, 'humor': 2107, 'ya': 2108, 'profits': 2109, 'yvr': 2110, 'doubt': 2111, 'decided': 2112, 'cont': 2113, 'opened': 2114, 'carriers': 2115, 'rough': 2116, 'requesting': 2117, 'alliance': 2118, 'sons': 2119, 'unused': 2120, 'expires': 2121, 'pending': 2122, 'prove': 2123, 'o': 2124, 'understaffing': 2125, 'posted': 2126, 'facebook': 2127, 'vx': 2128, 'spring': 2129, 'guide': 2130, 'fall': 2131, 'stress': 2132, 'holder': 2133, 'm': 2134, 'sincerely': 2135, 'cmh': 2136, 'nexus': 2137, 'airfare': 2138, 'reminder': 2139, 'national': 2140, 'managed': 2141, 'exp': 2142, 'replacement': 2143, 'bump': 2144, '136': 2145, 'beer': 2146, 'pulled': 2147, 't': 2148, 'operational': 2149, 'overweight': 2150, 'treating': 2151, 'define': 2152, '180': 2153, '1000': 2154, 'spoken': 2155, 'attend': 2156, '30min': 2157, '719': 2158, 'somehow': 2159, 'student': 2160, 'stl': 2161, 'msy': 2162, 'constant': 2163, '710': 2164, 'ripped': 2165, 'hence': 2166, 'industry': 2167, 'crying': 2168, 'lmao': 2169, 'bullshit': 2170, 'karen': 2171, 'walked': 2172, 'damage': 2173, 'english': 2174, '777': 2175, 'gross': 2176, 'atrocious': 2177, 'ourselves': 2178, 'parked': 2179, 'license': 2180, 'snowing': 2181, 'forcing': 2182, 'tkt': 2183, 'loss': 2184, 'operating': 2185, '15th': 2186, 'bug': 2187, 'button': 2188, 'sorted': 2189, 'lauren': 2190, 'couldve': 2191, 'lies': 2192, 'midway': 2193, 'dming': 2194, 'pleased': 2195, 'francisco': 2196, 'ring': 2197, 'accepted': 2198, 'placed': 2199, 'limited': 2200, 'reasonable': 2201, 'review': 2202, 'corporation': 2203, '630': 2204, 'term': 2205, 'standard': 2206, 'abq': 2207, 'transportation': 2208, 'disregard': 2209, 'accepting': 2210, 'esp': 2211, 'hit': 2212, 'included': 2213, 'replacing': 2214, 'bae': 2215, 'shuttle': 2216, 'existent': 2217, 'cleaned': 2218, '3am': 2219, 'lands': 2220, 'badly': 2221, 'father': 2222, 'de': 2223, 'kiosks': 2224, 'lousy': 2225, 'ignoring': 2226, 'click': 2227, 'theyd': 2228, '19': 2229, 'horrendous': 2230, 'aspen': 2231, 'parents': 2232, 'grandma': 2233, 'driven': 2234, 'yrs': 2235, 'backup': 2236, 'gf': 2237, 'prevent': 2238, 'heads': 2239, 'stupid': 2240, 'dumb': 2241, 'choosing': 2242, 'voice': 2243, 'jacket': 2244, 'device': 2245, 'failing': 2246, 'unreal': 2247, 'courteous': 2248, 'icy': 2249, 'maint': 2250, 'mistakes': 2251, 'period': 2252, 'closer': 2253, 'metal': 2254, 'named': 2255, 'pulling': 2256, 'loading': 2257, 'ca': 2258, 'departures': 2259, 'disappeared': 2260, 'certificate': 2261, 'vs': 2262, '1pm': 2263, 'belt': 2264, '830': 2265, 'itineraries': 2266, 'nervous': 2267, 'october': 2268, '3pm': 2269, 'breakfast': 2270, 'highly': 2271, 'design': 2272, 'john': 2273, 'bar': 2274, 'suggestion': 2275, 'claimed': 2276, 'hubby': 2277, 'promises': 2278, 'chi': 2279, 'continues': 2280, 'scale': 2281, 'benefits': 2282, 'heart': 2283, 'belongings': 2284, 'merged': 2285, 'aww': 2286, 'below': 2287, 'ric': 2288, 'history': 2289, 'formal': 2290, 'disgrace': 2291, 'albany': 2292, 'em': 2293, 'selfie': 2294, 'blah': 2295, '39': 2296, 'comfortable': 2297, 'notifications': 2298, 'decide': 2299, 'commercials': 2300, 'turbulence': 2301, 'holders': 2302, 'kid': 2303, 'spread': 2304, 'extended': 2305, 'grand': 2306, 'disconnects': 2307, 'ctl': 2308, 'truth': 2309, 'wth': 2310, 'sites': 2311, '219': 2312, 'beat': 2313, 'pocket': 2314, 'grr': 2315, 'cake': 2316, 'proof': 2317, 'interested': 2318, 'toddler': 2319, 'catching': 2320, 'vieques': 2321, 'transaction': 2322, 'g': 2323, 'vacations': 2324, 'expire': 2325, 'machine': 2326, 'disney': 2327, 'pair': 2328, 'charity': 2329, 'advertise': 2330, 'locations': 2331, 'opening': 2332, 'recourse': 2333, 'continuing': 2334, 'profit': 2335, 'elevate': 2336, 'follows': 2337, 'brilliant': 2338, 'suicide': 2339, 'teens': 2340, 'bay': 2341, '13th': 2342, 'gas': 2343, 'transport': 2344, 'wind': 2345, 'yourselves': 2346, 'table': 2347, 'pretzels': 2348, 'accurate': 2349, 'humans': 2350, 'serv': 2351, 'forgetting': 2352, 'stole': 2353, 'key': 2354, 'receiving': 2355, '530': 2356, 'communications': 2357, 'meaning': 2358, 'writing': 2359, 'causes': 2360, 'inches': 2361, 'advice': 2362, '1030': 2363, 'lying': 2364, '45min': 2365, '1130pm': 2366, 'seeks': 2367, 'circumstances': 2368, '699': 2369, 'deplaned': 2370, 'jp': 2371, 'regular': 2372, 'odd': 2373, 'printed': 2374, 'kill': 2375, 'inexcusable': 2376, 'died': 2377, 'arrangements': 2378, '215': 2379, 'happily': 2380, 'irritated': 2381, 'century': 2382, 'routing': 2383, 'earth': 2384, 'wallet': 2385, 'partners': 2386, 'flts': 2387, 'prefer': 2388, 'freq': 2389, 'disrespect': 2390, 'camera': 2391, 'cleared': 2392, 'unfriendly': 2393, 'mci': 2394, 'december': 2395, 'beauty': 2396, 'terribly': 2397, 'capt': 2398, 'accommodating': 2399, 'bankrupt': 2400, 'stinks': 2401, 'picking': 2402, 'operator': 2403, 'husbands': 2404, 'curious': 2405, 'confirming': 2406, 'constantly': 2407, 'scan': 2408, 'matters': 2409, 'pref': 2410, 'particularly': 2411, 'communicate': 2412, 'sales': 2413, 'september': 2414, 'membership': 2415, 'ba': 2416, 'dropping': 2417, 'wu': 2418, '24th': 2419, 'desktop': 2420, 'repeat': 2421, 'addressed': 2422, 'survey': 2423, 'valuable': 2424, 'visa': 2425, 'unfortunate': 2426, 'enroute': 2427, 'revenue': 2428, 'generic': 2429, 'marks': 2430, 'forces': 2431, 'thankfully': 2432, 'chairs': 2433, 'exchange': 2434, 'umm': 2435, 'someones': 2436, 'accountability': 2437, 'concourse': 2438, 'warning': 2439, '10pm': 2440, 'flat': 2441, 'dragon': 2442, 'spare': 2443, 'mech': 2444, 'customs': 2445, '3d': 2446, 'badges': 2447, 'superior': 2448, 'beats': 2449, 'selling': 2450, 'destinations': 2451, 'incentive': 2452, 'flier': 2453, 'louis': 2454, '27': 2455, 'loves': 2456, 'shortly': 2457, 'assaulted': 2458, '28': 2459, 'steps': 2460, 'roc': 2461, 'useful': 2462, 'asleep': 2463, 'reaching': 2464, 'chose': 2465, 'eye': 2466, 'replying': 2467, '46': 2468, 'park': 2469, 'salt': 2470, 'race': 2471, 'wine': 2472, 'apple': 2473, 'abt': 2474, 'boy': 2475, 'data': 2476, 'cabo': 2477, 'cash': 2478, 'texts': 2479, 'exception': 2480, 'pain': 2481, 'flightst': 2482, 'recording': 2483, 'hartford': 2484, 'ticketing': 2485, 'ph': 2486, 'die': 2487, 'channels': 2488, 'ton': 2489, '1230': 2490, 'efforts': 2491, 'smile': 2492, 'mex': 2493, 'join': 2494, '65': 2495, 'monitor': 2496, '80th': 2497, 'greeting': 2498, 'reconsider': 2499, 'organization': 2500, 'smiling': 2501, 'eta': 2502, 'aviation': 2503, 'neither': 2504, 'barbados': 2505, 'fixing': 2506, 'volunteer': 2507, 'reliable': 2508, 'ten': 2509, 'fleet': 2510, 'pricing': 2511, '80': 2512, 'detroit': 2513, '330': 2514, 'needing': 2515, 'kicked': 2516, 'kinda': 2517, 'directed': 2518, 'shared': 2519, 'against': 2520, 'tvs': 2521, 'fav': 2522, 'road': 2523, 'notes': 2524, 'saving': 2525, 'solved': 2526, '99': 2527, 'noon': 2528, 'walking': 2529, 'inform': 2530, 'written': 2531, 'dear': 2532, 'screwing': 2533, 'everyones': 2534, '7th': 2535, 'inappropriate': 2536, 'classy': 2537, 'trained': 2538, 'places': 2539, 'outsource': 2540, 'copy': 2541, 'hows': 2542, 'clubs': 2543, 'lavatory': 2544, 'bumping': 2545, 'abc': 2546, 'families': 2547, 'lit': 2548, 'estimate': 2549, 'reading': 2550, 'mark': 2551, 'benefit': 2552, 'password': 2553, 'crisis': 2554, 'fort': 2555, 'fastest': 2556, 'yourself': 2557, 'lifetime': 2558, 'download': 2559, 'shocked': 2560, 'movie': 2561, 'annual': 2562, 'digital': 2563, 'manner': 2564, 'uniteds': 2565, 'bahamas': 2566, 'malfunction': 2567, 'wheels': 2568, 'approach': 2569, 'credited': 2570, 'cluster': 2571, 'certainly': 2572, 'bluemanity': 2573, 'barely': 2574, 'similar': 2575, 'wheel': 2576, 'magic': 2577, 'dms': 2578, 'appear': 2579, 'reported': 2580, 'omaha': 2581, 'facing': 2582, 'box': 2583, 'pricey': 2584, 'troubles': 2585, 'surgery': 2586, 'photos': 2587, '8aug': 2588, 'backs': 2589, 'van': 2590, 'incoming': 2591, 'interest': 2592, 'proud': 2593, 'shopping': 2594, 'unknown': 2595, 'executive': 2596, 'discounts': 2597, '2pm': 2598, 'canadian': 2599, '48': 2600, 'brothers': 2601, 'mosaic': 2602, 'dtw': 2603, 'extreme': 2604, 'gr8': 2605, 'alot': 2606, 'northeast': 2607, 'picks': 2608, 'jeff': 2609, 'folder': 2610, 'nassau': 2611, 'assuming': 2612, 'glitch': 2613, 'icing': 2614, 'loads': 2615, 'uh': 2616, 'remind': 2617, '68': 2618, 'kphl': 2619, 'grounded': 2620, 'loses': 2621, '5th': 2622, 'promising': 2623, 'dang': 2624, 'interesting': 2625, 'strategy': 2626, 'chat': 2627, 'waiver': 2628, 'boss': 2629, 'pile': 2630, 'resume': 2631, 'coupon': 2632, 'nrt': 2633, 'awaiting': 2634, 'manually': 2635, 'tags': 2636, 'armrest': 2637, 'consecutive': 2638, 'tone': 2639, 'quicker': 2640, 'deserve': 2641, 'incur': 2642, 'letters': 2643, 'rarely': 2644, 'collection': 2645, 'pen': 2646, 'hilarious': 2647, '2014': 2648, 'enquires': 2649, 'atc': 2650, 'adds': 2651, 'cuba': 2652, 'chairmans': 2653, 'unexpected': 2654, 'ideas': 2655, 'progress': 2656, '5hr': 2657, 'chill': 2658, 'bridge': 2659, 'mt': 2660, 'tray': 2661, 'software': 2662, 'nowhere': 2663, '728feb': 2664, 'lazy': 2665, 'wanting': 2666, 'explorer': 2667, 'vile': 2668, 'sop': 2669, 'flyfi': 2670, 'wknd': 2671, 'crashing': 2672, 'disgraceful': 2673, 'chair': 2674, 'cae': 2675, 'shall': 2676, 'oakland': 2677, 'fucked': 2678, '5350': 2679, 'selection': 2680, 'galley': 2681, 'mem': 2682, 'trapped': 2683, 'coincidence': 2684, 'everytime': 2685, 'robotic': 2686, 'location': 2687, 'expectations': 2688, 'smallest': 2689, 'bottles': 2690, 'bush': 2691, 'dozens': 2692, 'provider': 2693, 'nantucket': 2694, 'maiden': 2695, 'alternatives': 2696, 'aisle': 2697, 'bottom': 2698, 'passing': 2699, 'july': 2700, 'document': 2701, 'carseat': 2702, 'subpar': 2703, 'confident': 2704, 'wearing': 2705, 'nicely': 2706, 'appalled': 2707, 'tiny': 2708, 'battery': 2709, 'sincere': 2710, 'representatives': 2711, 'chocolate': 2712, 'premiere': 2713, 'winning': 2714, 'halfway': 2715, 'randomly': 2716, '1way': 2717, 'hub': 2718, 'highlight': 2719, 'patiently': 2720, 'self': 2721, 'honored': 2722, 'cats': 2723, 'thankful': 2724, 'toronto': 2725, 'segment': 2726, 'rico': 2727, 'refundable': 2728, 'gorgeous': 2729, 'fave': 2730, 'stellar': 2731, 'actions': 2732, 'reflect': 2733, 'ivr': 2734, 'itll': 2735, 'popular': 2736, 'lead': 2737, 'bill': 2738, 'starts': 2739, 'dep': 2740, 'quite': 2741, 'dividends': 2742, 'cle': 2743, 'breaking': 2744, 'stt': 2745, 'cranky': 2746, 'ensure': 2747, 'views': 2748, 'ogg': 2749, 'admiral': 2750, 'ends': 2751, 'div': 2752, 'disrespectful': 2753, 'boys': 2754, 'messaged': 2755, 'significant': 2756, 'entering': 2757, 'blamed': 2758, 'clothing': 2759, 'amex': 2760, 'november': 2761, 'breaks': 2762, 'guitars': 2763, 'terrific': 2764, 'texted': 2765, 'understanding': 2766, 'yelling': 2767, 'alerts': 2768, 'servicing': 2769, '21st': 2770, 'create': 2771, 'unlike': 2772, 'rampers': 2773, 'treats': 2774, 'recently': 2775, 'shut': 2776, 'flies': 2777, '350': 2778, 'replace': 2779, 'corrected': 2780, 'continuous': 2781, 'attempted': 2782, 'wake': 2783, 'search': 2784, 'santa': 2785, 'reports': 2786, 'solve': 2787, 'oneworld': 2788, 'assult': 2789, 'chase': 2790, 'deep': 2791, 'require': 2792, 'average': 2793, 'understaffed': 2794, 'hooked': 2795, 'cookies': 2796, '2d': 2797, 'embossed': 2798, 'patches': 2799, 'bhm': 2800, 'confusion': 2801, 'relationship': 2802, 'required': 2803, 'ignore': 2804, 'application': 2805, 'tucson': 2806, 'girls': 2807, 'becoming': 2808, 'entirely': 2809, 'fell': 2810, 'hardworking': 2811, 'color': 2812, 'extension': 2813, 'lake': 2814, 'refuses': 2815, '11am': 2816, 'dest': 2817, 'driver': 2818, 'yest': 2819, 'utah': 2820, 'functioning': 2821, 'ordered': 2822, 'stood': 2823, '746': 2824, 'contract': 2825, 'rid': 2826, 'internal': 2827, 'dreams': 2828, 'property': 2829, 'skis': 2830, 'kn': 2831, 'regret': 2832, 'overall': 2833, 'green': 2834, 'streaming': 2835, 'combine': 2836, 'harbor': 2837, 'miler': 2838, 'evaluate': 2839, 'indy': 2840, 'ability': 2841, 'costing': 2842, '3130': 2843, 'thomas': 2844, 'odds': 2845, 'skills': 2846, 'functionality': 2847, 'behavior': 2848, 'cot': 2849, 'helps': 2850, 'necessary': 2851, 'typical': 2852, 'surely': 2853, 'hide': 2854, 'strangers': 2855, 'painful': 2856, 'equally': 2857, '1200': 2858, 'ellas': 2859, 'assign': 2860, 'continually': 2861, 'notch': 2862, 'sacramento': 2863, '6th': 2864, 'gj': 2865, 'mentioned': 2866, 'spirit': 2867, 'ana': 2868, 'shameful': 2869, 'mths': 2870, 'sympathy': 2871, 'sticking': 2872, 'origin': 2873, 'sucked': 2874, 'v': 2875, 'desks': 2876, 'srvc': 2877, 'stat': 2878, 'boo': 2879, 'intentionally': 2880, 'journey': 2881, 'movies': 2882, 'crash': 2883, 'performance': 2884, 'refuel': 2885, 'jamaica': 2886, 'devices': 2887, 'refunding': 2888, 'agency': 2889, 'falling': 2890, 'announcements': 2891, 'fat': 2892, 'savannah': 2893, 'fear': 2894, 'exceptional': 2895, 'insult': 2896, 'injury': 2897, 'involved': 2898, 'travelling': 2899, 'flightaware': 2900, 'women': 2901, 'dozen': 2902, 'blaming': 2903, 'release': 2904, 'elses': 2905, 'e190': 2906, 'dissatisfied': 2907, 'incorrectly': 2908, '5am': 2909, 'conversation': 2910, '20min': 2911, 'sigh': 2912, '59': 2913, '47': 2914, 'refunds': 2915, 'beginning': 2916, 'resched': 2917, 'deplorable': 2918, 'owe': 2919, 'opens': 2920, 'dunno': 2921, 'ski': 2922, 'arranged': 2923, 'frustrations': 2924, 'en': 2925, '599': 2926, 'ase': 2927, 'designed': 2928, 'interaction': 2929, 'appropriate': 2930, 'touched': 2931, 'scared': 2932, 'rule': 2933, 'investors': 2934, 'precious': 2935, '750': 2936, 'fits': 2937, '72': 2938, 'male': 2939, 'ladies': 2940, '222': 2941, 'kelly': 2942, 'desperately': 2943, 'boyfriend': 2944, 'touchdown': 2945, 'bloody': 2946, 'overbook': 2947, 'dying': 2948, 'success': 2949, 'marie': 2950, 'shv': 2951, 'a1': 2952, 'attempting': 2953, 'tab': 2954, 'ramp': 2955, 'um': 2956, 'ey': 2957, 'honolulu': 2958, 'occurred': 2959, 'mission': 2960, 'ship': 2961, 'cheated': 2962, 'commitment': 2963, 'def': 2964, '787': 2965, 'forgive': 2966, 'signal': 2967, 'clicking': 2968, 'rethinking': 2969, 'responds': 2970, 'pqd': 2971, 'wno': 2972, 'released': 2973, 'hv': 2974, 'temperature': 2975, 'sec': 2976, 'reset': 2977, 'fired': 2978, '9am': 2979, 'remains': 2980, 'login': 2981, 'secure': 2982, 'yesterdays': 2983, 'random': 2984, 'enjoying': 2985, 'messing': 2986, 'thin': 2987, 'clarification': 2988, 'lunch': 2989, 'rain': 2990, 'china': 2991, 'finest': 2992, 'identical': 2993, 'bound': 2994, 'network': 2995, 'hnl': 2996, 'selected': 2997, 'lisa': 2998, 'mi': 2999, 'providence': 3000, 'atlantic': 3001, 'singapore': 3002, 'heathrow': 3003, 'stolen': 3004, 'dl': 3005, 'heavy': 3006, 'dime': 3007, 'anticipate': 3008, 'dpt': 3009, 'continental': 3010, 'threatened': 3011, 'uniform': 3012, 'stories': 3013, '8004337300': 3014, 'tonite': 3015, 'getaway': 3016, 'oneway': 3017, 'sydney': 3018, 'basic': 3019, 'sabre': 3020, 'aka': 3021, '38': 3022, 'stressed': 3023, 'kiosk': 3024, 'twelve': 3025, 'carryons': 3026, 'extend': 3027, 'technically': 3028, 'cleaning': 3029, 'nonexistent': 3030, 'remote': 3031, 'kindle': 3032, '413': 3033, 'accident': 3034, 'rno': 3035, 'allows': 3036, 'bereavement': 3037, 'costa': 3038, 'rica': 3039, 'operators': 3040, 'brutal': 3041, 'recovery': 3042, 'mood': 3043, 'sometime': 3044, 'film': 3045, 'cutting': 3046, '250': 3047, 'pillows': 3048, 'boeing': 3049, '4hrs': 3050, 'submit': 3051, 'andor': 3052, 'seemed': 3053, 'approve': 3054, 'comments': 3055, 'law': 3056, '50k': 3057, 'hahaha': 3058, 'scheduling': 3059, 'hardly': 3060, '450': 3061, 'fans': 3062, 'k': 3063, 'connector': 3064, 'indeed': 3065, 'calgary': 3066, 'coats': 3067, 'stroller': 3068, 'holdup': 3069, 'crashed': 3070, 'kindness': 3071, 'drunks': 3072, 'embarrassed': 3073, 'worthless': 3074, 'hou': 3075, 'federal': 3076, 'gain': 3077, 'article': 3078, 'terry': 3079, 'accordingly': 3080, '228': 3081, 'yuma': 3082, 'sometimes': 3083, 'cute': 3084, 'storms': 3085, 'carolina': 3086, 'acknowledge': 3087, 'haydensteamboat': 3088, '1750': 3089, 'tel': 3090, '403': 3091, 'legitimate': 3092, '230': 3093, 'curbside': 3094, 'fed': 3095, 'relax': 3096, 'promotions': 3097, 'doug': 3098, 'linked': 3099, 'lynn': 3100, 'insulted': 3101, 'mce': 3102, 'cx': 3103, 'unnecessary': 3104, 'wour': 3105, 'disappear': 3106, 'inevitable': 3107, 'headphones': 3108, '2a': 3109, 'attached': 3110, 'deleted': 3111, 'charter': 3112, 'gladly': 3113, 'registration': 3114, 'requirement': 3115, 'faithful': 3116, 'congratulations': 3117, 'smisek': 3118, 'guaranteed': 3119, 'insulting': 3120, 'displayed': 3121, 'bkk': 3122, 'kingscollegelondon': 3123, '33': 3124, 'wmy': 3125, 'legal': 3126, 'insufficient': 3127, 'deaf': 3128, 'cancer': 3129, 'dining': 3130, 'fourth': 3131, 'delete': 3132, 'europe': 3133, 'shots': 3134, 'runs': 3135, 'comfort': 3136, 'decisions': 3137, 'pens': 3138, 'buddies': 3139, '30th': 3140, 'negligence': 3141, 'wrap': 3142, 'shannon': 3143, '813': 3144, 'whoa': 3145, '105': 3146, 'hospitality': 3147, 'shock': 3148, 'nephew': 3149, '639': 3150, 'worlds': 3151, 'intention': 3152, 'reality': 3153, 'shares': 3154, 'apps': 3155, 'jt': 3156, '115': 3157, '45mins': 3158, 'themselves': 3159, 'entitled': 3160, 'rudeness': 3161, 'precipitation': 3162, 'faith': 3163, 'challenging': 3164, '810': 3165, 'unpleasant': 3166, 'solutions': 3167, 'rushed': 3168, 'lowest': 3169, '424': 3170, 'dislike': 3171, 'duty': 3172, 'gloves': 3173, 'greenville': 3174, 'claiming': 3175, 'b16': 3176, 'nxt': 3177, 'consideration': 3178, 'closest': 3179, 'preboarding': 3180, 'glasses': 3181, 'sympathetic': 3182, 'secured': 3183, 'na': 3184, 'specifically': 3185, 'az': 3186, 'jacksonville': 3187, '730': 3188, 'bed': 3189, 'marathon': 3190, 'hole': 3191, 'alaska': 3192, 'soaked': 3193, 'peoples': 3194, 'cart': 3195, 'haiti': 3196, 'aggressive': 3197, 'robot': 3198, 'deice': 3199, 'toilet': 3200, 'competition': 3201, 'ours': 3202, 'giant': 3203, 'guest': 3204, '1600': 3205, 'beg': 3206, 'convenient': 3207, 'frankfurt': 3208, 'psp': 3209, 'pwm': 3210, 'requires': 3211, 'regulations': 3212, 'illegal': 3213, 'nine': 3214, 'jeanine': 3215, 'toilets': 3216, 'scene': 3217, 'men': 3218, 'crowd': 3219, 'corp': 3220, 'screens': 3221, 'french': 3222, 'covered': 3223, 'trusted': 3224, 'preboard': 3225, 'horrid': 3226, 'haul': 3227, 'talks': 3228, 'pack': 3229, 'fran': 3230, 'recieved': 3231, 'aint': 3232, 'prime': 3233, 'strike': 3234, 'president': 3235, '703': 3236, '1472': 3237, 'fiasco': 3238, 'pray': 3239, 'ua936': 3240, 'ms': 3241, 'moon': 3242, 'troubleshoot': 3243, 'vallarta': 3244, 'smoothly': 3245, 'utterly': 3246, 'lounges': 3247, '120': 3248, 'outrageous': 3249, 'oma': 3250, 'upgrading': 3251, 'texting': 3252, 'caller': 3253, 'batting': 3254, 'checkpoint': 3255, 'rectify': 3256, 'auh': 3257, '435': 3258, '737': 3259, 'deck': 3260, 'nola': 3261, 'cincy': 3262, 'paulo': 3263, 'pants': 3264, 'checkins': 3265, 'section': 3266, 'earlybird': 3267, 'remembered': 3268, 'citizen': 3269, 'slightly': 3270, 'stayed': 3271, 'stewardesses': 3272, '4x': 3273, 'backlog': 3274, 'thousands': 3275, 'robbed': 3276, 'btv': 3277, 'sayin': 3278, '51': 3279, 'lives': 3280, '11th': 3281, 'reinstate': 3282, 'celebrate': 3283, '545': 3284, 'unaware': 3285, 'consumers': 3286, 'blocked': 3287, '3060': 3288, '737800': 3289, 'goal': 3290, 'heaven': 3291, 'sentiment': 3292, 'voicemail': 3293, 'ping': 3294, 'daytona': 3295, 'nonsense': 3296, 'sept': 3297, 'paint': 3298, 'dial': 3299, 'ep': 3300, 'regardless': 3301, 'puts': 3302, '930am': 3303, 'sexual': 3304, '24h': 3305, 'jumping': 3306, 'gun': 3307, 'proper': 3308, 'bot': 3309, 'flgt': 3310, 'ali': 3311, 'philippines': 3312, 'concert': 3313, 'grateful': 3314, 'nature': 3315, '1701': 3316, 'disabled': 3317, 'brain': 3318, 'college': 3319, 'ffl': 3320, 'redirect': 3321, 'memory': 3322, 'wreck': 3323, 'madness': 3324, 'removal': 3325, 'cessnas': 3326, '747s': 3327, 'protocol': 3328, 'merging': 3329, 'woaw': 3330, 'protect': 3331, 'perth': 3332, 'snowy': 3333, 'jumped': 3334, 'louisville': 3335, '550': 3336, 'hoped': 3337, 'kit': 3338, 'register': 3339, 'logo': 3340, 'c26': 3341, '5pm': 3342, 'childs': 3343, '80s': 3344, 'itself': 3345, 'proactive': 3346, 'overseas': 3347, 'cnx': 3348, 'waived': 3349, '218': 3350, 'glass': 3351, 'altitude': 3352, 'bathrooms': 3353, 'kc': 3354, '89': 3355, 'entered': 3356, 'caught': 3357, 'blankets': 3358, 'replaced': 3359, 'janet': 3360, 'holy': 3361, 'metro': 3362, 'bro': 3363, 'joanna': 3364, 'furious': 3365, 'turnaround': 3366, 'nicer': 3367, 'foot': 3368, 'instructed': 3369, 'scott': 3370, '1081': 3371, 'exhausted': 3372, 'cert': 3373, '740': 3374, '475': 3375, 'pressurization': 3376, 'unveils': 3377, 'searching': 3378, 'google': 3379, 'ct': 3380, 'throw': 3381, 'capacity': 3382, 'plate': 3383, 'colleague': 3384, '6232': 3385, 'pst': 3386, 'convo': 3387, 'craziness': 3388, 'stations': 3389, 'jj': 3390, 'horror': 3391, 'shipped': 3392, 'stow': 3393, '720': 3394, 'c42': 3395, '838': 3396, 'seven': 3397, 'comm': 3398, 'action': 3399, 'jane': 3400, 'forecast': 3401, 'layovers': 3402, 'donation': 3403, 'rant': 3404, 'ages': 3405, 'tail': 3406, 'phil': 3407, '1100': 3408, '2222': 3409, 'nvr': 3410, 'greatest': 3411, 'teams': 3412, 'bogota': 3413, 'sunglasses': 3414, 'manners': 3415, 'decency': 3416, '919': 3417, 'tourist': 3418, 'larger': 3419, '2hr': 3420, 'sits': 3421, 'wld': 3422, 'physically': 3423, 'birmingham': 3424, 'props': 3425, 'laws': 3426, 'dot': 3427, 'bitch': 3428, 'theyll': 3429, 'slip': 3430, 'chs': 3431, 'painless': 3432, '404': 3433, '37': 3434, 'wks': 3435, 'hoops': 3436, 'stranding': 3437, '210': 3438, 'proceed': 3439, 'int': 3440, 'calendar': 3441, 'created': 3442, 'argument': 3443, '430am': 3444, 'crowded': 3445, 'heck': 3446, 'hurt': 3447, 'expedited': 3448, 'approaching': 3449, 'oscar': 3450, 'fra': 3451, 'mid': 3452, 'bagage': 3453, 'risk': 3454, 'range': 3455, 'econ': 3456, 'frigid': 3457, 'mtg': 3458, 'tremendous': 3459, 'officer': 3460, '73': 3461, 'dancing': 3462, '221': 3463, 'inadequate': 3464, 'aas': 3465, 'dr': 3466, 'assisting': 3467, 'waits': 3468, 'locals': 3469, 'verify': 3470, '1359': 3471, 'repeated': 3472, 'practices': 3473, 'bougth': 3474, 'jets': 3475, 'opposite': 3476, 'encountered': 3477, 'norm': 3478, 'cramped': 3479, 'steal': 3480, 'runways': 3481, 'present': 3482, 'irresponsible': 3483, 'neglect': 3484, 'recommended': 3485, 'oversize': 3486, 'typo': 3487, 'buyer': 3488, 'beware': 3489, 'apt': 3490, 'handed': 3491, 'recline': 3492, 'derrick': 3493, 'bussey': 3494, 'ho': 3495, 'darn': 3496, 'closes': 3497, 'b11': 3498, 'elderly': 3499, 'fc': 3500, 'cargo': 3501, 'responsible': 3502, 'deny': 3503, '430': 3504, 'wyou': 3505, 'coverage': 3506, 'hopes': 3507, 'qantas': 3508, 'b6': 3509, 'strikes': 3510, 'fewer': 3511, 'agt': 3512, 'kick': 3513, 'collect': 3514, 'unreliable': 3515, 'normally': 3516, '767': 3517, 'livid': 3518, 'bye': 3519, 'handler': 3520, 'sounded': 3521, 'ua1740': 3522, 'enjoyable': 3523, 'bottle': 3524, 'thurs': 3525, 'advertising': 3526, 'bothered': 3527, 'circle': 3528, 'affordable': 3529, 'town': 3530, '9hour': 3531, 'sauce': 3532, 'pat': 3533, 'bout': 3534, 'fiancé': 3535, '304': 3536, 'flattering': 3537, 'wichita': 3538, 'falls': 3539, 'partnership': 3540, 'reputation': 3541, 'jacquie': 3542, 'plitt': 3543, 'inability': 3544, 'staying': 3545, 'base': 3546, 'style': 3547, 'severe': 3548, 'dublin': 3549, 'packed': 3550, 'parking': 3551, 'debacle': 3552, 'orleans': 3553, 'clever': 3554, 'magazine': 3555, 'chrome': 3556, 'blank': 3557, 'butt': 3558, 'reinstated': 3559, 'tryin': 3560, 'numerous': 3561, 'definition': 3562, 'bruh': 3563, 'impressive': 3564, 'assignments': 3565, 'plain': 3566, 'durango': 3567, 'hitting': 3568, 'comedy': 3569, 'promptly': 3570, 'apologizing': 3571, 'sched': 3572, 'pressure': 3573, 'feed': 3574, 'arrogant': 3575, 'jacked': 3576, 'lowered': 3577, '50000': 3578, 'happier': 3579, 'girlfriend': 3580, 'crewmember': 3581, 'incorrect': 3582, 'improvement': 3583, 'jeokoo': 3584, 'cue': 3585, 'seatac': 3586, 'dude': 3587, 'basket': 3588, 'preflight': 3589, 'patrick': 3590, 'deadhead': 3591, 'annoyed': 3592, 'shoutout': 3593, 'manchester': 3594, 'weak': 3595, 'confusing': 3596, 'codeshare': 3597, 'duffle': 3598, 'tonights': 3599, 'cxld': 3600, 'orig': 3601, 'misleading': 3602, 'snowboard': 3603, 'aboard': 3604, '15min': 3605, '634': 3606, 'strongly': 3607, 'forms': 3608, 'awe': 3609, 'argued': 3610, 'downgrade': 3611, 'cheese': 3612, 'wing': 3613, '445': 3614, 'crewmembers': 3615, 'community': 3616, 'dry': 3617, 'nd': 3618, 'kicking': 3619, 'provides': 3620, '1220': 3621, 'hopeful': 3622, 'exceptions': 3623, 'shoulder': 3624, 'compared': 3625, '1020': 3626, 'ranked': 3627, '715': 3628, 'tomorrows': 3629, 'practical': 3630, 'idiots': 3631, 'specified': 3632, 'b787': 3633, 'winds': 3634, '4251': 3635, 'blasting': 3636, 'quoted': 3637, '2016': 3638, 'shocking': 3639, 'chicken': 3640, 'fairs': 3641, 'channel': 3642, 'praise': 3643, 'err': 3644, 'hometown': 3645, 'personally': 3646, 'stock': 3647, '1583': 3648, 'mercy': 3649, '2hours': 3650, 'txt': 3651, 'performing': 3652, 'vomit': 3653, 'rented': 3654, 'internationally': 3655, 'discrimination': 3656, 'responsibility': 3657, 'headaches': 3658, 'pounds': 3659, 'decent': 3660, '645': 3661, 'solo': 3662, 'announces': 3663, '441': 3664, 'pleasure': 3665, 'midland': 3666, 'deserved': 3667, '4pm': 3668, 'divert': 3669, 'responsive': 3670, 'delhi': 3671, 'inconvenienced': 3672, 'tue': 3673, 'severely': 3674, 'rudest': 3675, 'sxm': 3676, '4am': 3677, 'callers': 3678, '44': 3679, '85': 3680, 'airbus': 3681, 'planet': 3682, 'logistics': 3683, '10a': 3684, 'comped': 3685, 'goin': 3686, 'owner': 3687, 'pia': 3688, 'lindsey': 3689, 'intercom': 3690, 'greetings': 3691, 'besides': 3692, 'qualify': 3693, 'hanger': 3694, 'invalid': 3695, 'guidelines': 3696, 'hero': 3697, 'favor': 3698, 'understands': 3699, 'ont': 3700, 'pacific': 3701, 'menu': 3702, 'gary': 3703, 'julie': 3704, 'andrews': 3705, 'procedures': 3706, '10000': 3707, 'cherry': 3708, 'idiot': 3709, 'strong': 3710, 'hundred': 3711, 'condition': 3712, 'indicates': 3713, 'anxious': 3714, 'increase': 3715, 'suspect': 3716, '620': 3717, 'belize': 3718, 'chg': 3719, 'madrid': 3720, 'cr': 3721, 'knees': 3722, 'misplaced': 3723, '556': 3724, 'lighting': 3725, 'restrictions': 3726, 'detail': 3727, 'ups': 3728, 'efficiency': 3729, 'captive': 3730, 'concept': 3731, '62': 3732, 'tb': 3733, '79': 3734, 'pink': 3735, 'france': 3736, 'aruba': 3737, 'immediate': 3738, 'sees': 3739, 'increased': 3740, '123': 3741, 'carried': 3742, 'pjs': 3743, '30k': 3744, 'speedy': 3745, 'gotcha': 3746, 'market': 3747, 'expiring': 3748, 'notifying': 3749, 'evoucher': 3750, 'xna': 3751, 'adopting': 3752, 'reminded': 3753, 'etihad': 3754, 'wc': 3755, 'coworkers': 3756, 'volumes': 3757, 'hosting': 3758, 'celebrating': 3759, 'tour': 3760, 'compliment': 3761, 'played': 3762, 'appreciates': 3763, 'centers': 3764, 'punta': 3765, 'cana': 3766, 'content': 3767, 'sudden': 3768, 'assured': 3769, 'indicated': 3770, 'revs': 3771, 'heavily': 3772, 'jfklax': 3773, 'caring': 3774, 'hits': 3775, 'fucken': 3776, 'username': 3777, 'updating': 3778, '0016': 3779, 'cousin': 3780, 'terminals': 3781, 'resolving': 3782, 'considered': 3783, 'videos': 3784, 'segments': 3785, 'isis': 3786, 'lh': 3787, 'deplaning': 3788, 'detailed': 3789, 'educate': 3790, 'testing': 3791, 'saver': 3792, 'warnings': 3793, 'vaca': 3794, 'redirected': 3795, 'explanations': 3796, 'oversold': 3797, 'physical': 3798, 'separated': 3799, 'exists': 3800, 'downhill': 3801, 'gmail': 3802, 'excuses': 3803, 'silly': 3804, 'inbox': 3805, 'meds': 3806, 'waa': 3807, 'hats': 3808, 'christmas': 3809, 'destroyed': 3810, '10hrs': 3811, '1500': 3812, 'offices': 3813, 'orbitz': 3814, 'choices': 3815, 'refer': 3816, 'sean': 3817, 'submitting': 3818, 'addition': 3819, 'tick': 3820, 'lmfao': 3821, 'repeatedly': 3822, 'anybody': 3823, 'srsly': 3824, 'eco': 3825, 'evry': 3826, 'direction': 3827, 'purchaseerrorinvalid': 3828, 'priceless': 3829, 'hdn': 3830, 'wrongfully': 3831, '65000': 3832, 'afraid': 3833, 'aviv': 3834, 'cruel': 3835, 'aa1675': 3836, 'unorganized': 3837, 'geg': 3838, 'danger': 3839, 'unbelievably': 3840, 'patronizing': 3841, 'tagged': 3842, 'helpless': 3843, 'avon': 3844, 'rez': 3845, 'expenses': 3846, 'noooo': 3847, 'deedee': 3848, 'selections': 3849, 'horse': 3850, 'inquire': 3851, 'trustget': 3852, 'regulation': 3853, 'headache': 3854, 'disappears': 3855, 'spelling': 3856, 'insanity': 3857, 'x2': 3858, 'clutch': 3859, 'wayne': 3860, '9148445695': 3861, 'regards': 3862, 'bounced': 3863, 'cpap': 3864, 'gogo': 3865, 'pnr': 3866, 'virginamerica': 3867, 'airborne': 3868, 'thus': 3869, 'package': 3870, 'terms': 3871, 'disappoints': 3872, 'amazon': 3873, 'competitor': 3874, 'protection': 3875, 'diversions': 3876, 'settled': 3877, 'creative': 3878, 'vegan': 3879, 'tables': 3880, 'floors': 3881, 'spite': 3882, 'ftw': 3883, 'challenges': 3884, 'priorities': 3885, 'urgent': 3886, 'battling': 3887, '35000': 3888, 'bold': 3889, 'woohoo': 3890, 'cried': 3891, 'fallow': 3892, 'spoiled': 3893, 'books': 3894, 'childish': 3895, 'counted': 3896, 'suffering': 3897, 'rare': 3898, 'fr': 3899, 'mitchell': 3900, 'goodwill': 3901, 'blew': 3902, 'breeze': 3903, 'pleaseeee': 3904, 'shirt': 3905, 'miracle': 3906, 'worker': 3907, 'killeen': 3908, '3yr': 3909, 'hotspot': 3910, 'misses': 3911, '816': 3912, 'involve': 3913, 'blown': 3914, 'geeks': 3915, 'plug': 3916, 'advisories': 3917, 'completed': 3918, 'compliments': 3919, 'upgd': 3920, 'certificates': 3921, 'reissued': 3922, 'processing': 3923, 'confirmations': 3924, 'tshirt': 3925, 'burn': 3926, 'warmth': 3927, 'dark': 3928, 'flex': 3929, '445pm': 3930, 'research': 3931, 'par': 3932, 'yell': 3933, 'developers': 3934, 'charm': 3935, 'companies': 3936, 'arguing': 3937, 'orange': 3938, 'county': 3939, '1389': 3940, 'clicked': 3941, '1010': 3942, 'lacked': 3943, 'oc': 3944, 'rated': 3945, 'convinced': 3946, '930': 3947, 'mold': 3948, 'us3825': 3949, 'recovered': 3950, 'aa2402': 3951, 'misinformation': 3952, 'damages': 3953, 'observe': 3954, 'displeased': 3955, '1099': 3956, 'radio': 3957, 'wa': 3958, 'amazed': 3959, '40th': 3960, 'centre': 3961, 'monthly': 3962, '8th': 3963, 'curiosity': 3964, 'patterns': 3965, 'provo': 3966, 'retain': 3967, 'wudda': 3968, 'abilities': 3969, 'refueling': 3970, '4ward': 3971, 'sandwich': 3972, 'dispatch': 3973, 'insight': 3974, 'meanwhile': 3975, 'festivities': 3976, 'weighs': 3977, 'stealing': 3978, 'distribution': 3979, 'supplies': 3980, '1am': 3981, 'breath': 3982, 'foreign': 3983, 'rocked': 3984, 'arrange': 3985, 'arbitrary': 3986, 'buddy': 3987, 'context': 3988, 'planets': 3989, 'smashed': 3990, 'youi': 3991, 'dispute': 3992, 'gesture': 3993, 'shifts': 3994, 'transferable': 3995, 'syr': 3996, 'removed': 3997, '2692': 3998, 'supporting': 3999, 'receipts': 4000, 'execution': 4001, 'accidentally': 4002, 'advising': 4003, 'hemisphere': 4004, 'belong': 4005, 'overheard': 4006, 'gentleman': 4007, 'jackson': 4008, 'disinfectant': 4009, 'competitors': 4010, '830am': 4011, '1140': 4012, 'measured': 4013, 'billions': 4014, 'oki': 4015, 'syracuse': 4016, 'tides': 4017, 'tide': 4018, 'drawing': 4019, 'tourists': 4020, 'coasts': 4021, 'controllers': 4022, 'indianapolis': 4023, 'addresses': 4024, 'disability': 4025, 'doo': 4026, 'screws': 4027, 'weds': 4028, 'isp': 4029, 'station': 4030, 'boatstyle': 4031, 'swivel': 4032, 'satisfactory': 4033, 'investigated': 4034, 'thrilled': 4035, 'experiencing': 4036, 'hangup': 4037, 'elaborate': 4038, 'havoc': 4039, 'inconsistent': 4040, 'enforcing': 4041, '917': 4042, '2500': 4043, 'jammed': 4044, 'j': 4045, 'msgs': 4046, 'difficulty': 4047, 'ensuring': 4048, 'grab': 4049, 'gracious': 4050, 'beautifully': 4051, 'informative': 4052, 'soul': 4053, 'apologizes': 4054, 'preferably': 4055, 'memorial': 4056, 'fritz': 4057, 'booted': 4058, 'twitterdm': 4059, 'tpadfwlax': 4060, 'ruth': 4061, '2012': 4062, 'onhold': 4063, 'chnge': 4064, 'tul': 4065, 'loooooong': 4066, 'stunning': 4067, 'midght': 4068, 'ailing': 4069, 'parent': 4070, 'integrate': 4071, 'thanked': 4072, 'equip': 4073, 'laxgtjfk': 4074, '165': 4075, 'math': 4076, 'hurry': 4077, 'bulkhead': 4078, 'ohead': 4079, '1b': 4080, 'slowly': 4081, 'wandered': 4082, 'ripoff': 4083, 'discover': 4084, 'arkansas': 4085, 'são': 4086, 'amateurish': 4087, 'nicest': 4088, '101': 4089, 'lemme': 4090, 'university': 4091, 'queues': 4092, 'wx': 4093, 'grabbed': 4094, 'mattersits': 4095, 'thick': 4096, 'tear': 4097, 'skin': 4098, 'survive': 4099, 'bom': 4100, 'map': 4101, 'cloud': 4102, 'ru': 4103, '15lb': 4104, 'joined': 4105, 'pity': 4106, 'suitcases': 4107, 'motto': 4108, 'birthdate': 4109, 'forgotten': 4110, 'leads': 4111, 'goodbye': 4112, '3xweekly': 4113, '900': 4114, 'gpu': 4115, 'waitlisted': 4116, '23rd': 4117, 'lt': 4118, 'stone': 4119, 'previously': 4120, 'associated': 4121, '1181': 4122, 'whammie': 4123, 'voided': 4124, '2470': 4125, 'naming': 4126, 'blast': 4127, 'obnoxious': 4128, 'guests': 4129, 'faces': 4130, 'phlmia': 4131, 'flexibility': 4132, '7700': 4133, 'destinationdragons': 4134, 'restore': 4135, 'b40': 4136, 'marshaled': 4137, 'plague': 4138, 'humiliating': 4139, 'sleet': 4140, 'disrupted': 4141, 'clueless': 4142, 'plot': 4143, 'prem': 4144, 'maria': 4145, 'beanie': 4146, 'outdated': 4147, 'proving': 4148, '1357': 4149, 'amongst': 4150, 'steel': 4151, 'frequency': 4152, 'companys': 4153, 'faulty': 4154, 'shrug': 4155, 'separately': 4156, 'attended': 4157, 'targeting': 4158, 'rearrange': 4159, 'blumanity': 4160, 'fyicall': 4161, 'stilling': 4162, 'dialing': 4163, 'rapids': 4164, 'screenshot': 4165, 'reminds': 4166, 'failures': 4167, 'partnerships': 4168, 'tip': 4169, 'generated': 4170, 'students': 4171, 'arizona': 4172, 'television': 4173, 'rum': 4174, 'coke': 4175, 'upstate': 4176, 'timco': 4177, 'advised': 4178, 'realtime': 4179, 'react': 4180, 'cattle': 4181, '3883': 4182, '38e': 4183, 'hypocrisy': 4184, '1055': 4185, '24hr': 4186, 'preciate': 4187, 'knoxville': 4188, '1098': 4189, 'reno': 4190, 'establish': 4191, 'opal': 4192, 'woven': 4193, 'murdering': 4194, 'ear': 4195, '2168': 4196, 'goto': 4197, 'relaxing': 4198, 'fiancée': 4199, 'transported': 4200, 'gunna': 4201, 'various': 4202, 'requests': 4203, 'port': 4204, 'deodorant': 4205, 'shampoo': 4206, '4914': 4207, 'bgm': 4208, 'colo': 4209, 'swamped': 4210, 'mass': 4211, 'unaccompanied': 4212, 'intro': 4213, 'trading': 4214, 'greedy': 4215, 'shortage': 4216, '3104': 4217, 'mcogtcmh': 4218, 'momma': 4219, 'deciding': 4220, 'maneuver': 4221, 'grievance': 4222, 'labor': 4223, 'monitoring': 4224, 'occasions': 4225, '910': 4226, 'workaround': 4227, 'sj': 4228, 'airplanes': 4229, 'entrance': 4230, 'beforeafter': 4231, 'liable': 4232, 'waivers': 4233, 'maintained': 4234, '788': 4235, '188': 4236, 'followup': 4237, 'alt': 4238, 'lists': 4239, 'mn': 4240, 'trains': 4241, 'slower': 4242, 'publicity': 4243, 'burning': 4244, 'chkd': 4245, 'referred': 4246, 'pet': 4247, 'fron': 4248, 'fairly': 4249, 'trash': 4250, 'birth': 4251, '226': 4252, '200er': 4253, '400er': 4254, 'forgiven': 4255, 'll': 4256, 'bright': 4257, 'financial': 4258, 'fas': 4259, 'pulse': 4260, 'loud': 4261, '820pm': 4262, 'dispatcher': 4263, 'intent': 4264, 'yesso': 4265, 'aug': 4266, 'dawn': 4267, '56': 4268, 'contingency': 4269, 'des': 4270, 'moines': 4271, 'lay': 4272, 'unloaded': 4273, 'oy': 4274, 'remaining': 4275, '15mins': 4276, 'defend': 4277, 'jack': 4278, 'ua469': 4279, '1808': 4280, '245': 4281, 'prioritize': 4282, 'chef': 4283, 'miguel': 4284, 'allende': 4285, 'shenanigans': 4286, 'user': 4287, 'hidden': 4288, 'discontinued': 4289, 'ideal': 4290, 'sittin': 4291, 'urgency': 4292, 'focused': 4293, 'personalized': 4294, 'build': 4295, 'tnx': 4296, 'oregon': 4297, 'barbara': 4298, 'supposedly': 4299, '1700': 4300, 'eps': 4301, 'finger': 4302, 'painted': 4303, 'eyw': 4304, '386': 4305, 'remotely': 4306, 'capable': 4307, 'wave': 4308, '227': 4309, 'phn': 4310, 'delicious': 4311, 'lodging': 4312, 'tool': 4313, 'oops': 4314, 'weekends': 4315, '98': 4316, 'became': 4317, 'holds': 4318, 'sue': 4319, 'empathy': 4320, 'prince': 4321, 'relief': 4322, 'pro': 4323, 'signs': 4324, 'learning': 4325, 'strange': 4326, 'scam': 4327, 'n598jb': 4328, 'dice': 4329, 'con': 4330, 'snowstorm': 4331, 'surrounding': 4332, '26f': 4333, 'dominican': 4334, 'gso': 4335, '1a': 4336, '2nite': 4337, 'lexington': 4338, 'avis': 4339, 'resulted': 4340, 'kul': 4341, 'entry': 4342, 'perform': 4343, 'iberia': 4344, 'urgently': 4345, 'impression': 4346, 'hail': 4347, 'mary': 4348, 'hsv': 4349, 'painfully': 4350, 'inexperienced': 4351, 'alive': 4352, 'fing': 4353, 'permanently': 4354, 'inop': 4355, 'phi': 4356, 'proactively': 4357, 'rolling': 4358, 'improvements': 4359, 'meantime': 4360, 'preference': 4361, 'duped': 4362, 'shift': 4363, 'mike': 4364, 'sensitive': 4365, 'inclement': 4366, 'appeared': 4367, 'a321': 4368, 'neglected': 4369, 'entertain': 4370, 'misunderstood': 4371, '5957': 4372, 'quit': 4373, 'visible': 4374, 'antonio': 4375, 'burger': 4376, 'budget': 4377, 'embarrassment': 4378, '95': 4379, 'approx': 4380, 'postcode': 4381, 'ireland': 4382, 'dcabos': 4383, 'flawed': 4384, '1106': 4385, '8hr': 4386, 'sanitized': 4387, 'huntsville': 4388, 'eagle': 4389, '22nd': 4390, 'placing': 4391, 'cream': 4392, 'smoothest': 4393, 'combination': 4394, 'pictures': 4395, 'addl': 4396, 'nbr': 4397, 'booze': 4398, 'houstonbogota': 4399, 'energy': 4400, 'perk': 4401, 'hmmm': 4402, 'caribbean': 4403, '950pm': 4404, 'bots': 4405, 'grown': 4406, 'tears': 4407, 'timed': 4408, 'laugh': 4409, 'everybody': 4410, 'slight': 4411, '462': 4412, 'discovered': 4413, 'participate': 4414, 'legit': 4415, 'chk': 4416, 'sos': 4417, 'youth': 4418, 'nasdaqjblu': 4419, 'reaches': 4420, 'nh': 4421, 'atx': 4422, 'clown': 4423, 'unspecified': 4424, '1657': 4425, 'ua938': 4426, 'bandwidth': 4427, 'buttons': 4428, 'wins': 4429, '894': 4430, 'lbs': 4431, 'stars': 4432, 'shoe': 4433, 'ga': 4434, 'dialogue': 4435, '930pm': 4436, 'shoulders': 4437, 'rerouting': 4438, 'alleviate': 4439, 'agnt': 4440, '4me': 4441, 'scattered': 4442, '110': 4443, 'veers': 4444, '1627': 4445, 'burbank': 4446, 'dance': 4447, 'yikes': 4448, 'pops': 4449, 'health': 4450, 'bgr': 4451, '49': 4452, 'lined': 4453, 'lan': 4454, 'disorganization': 4455, 'uncalled': 4456, '249': 4457, 'stopping': 4458, 'gray': 4459, 'inspected': 4460, 'soooo': 4461, 'refrain': 4462, 'army': 4463, 'cots': 4464, '310': 4465, 'reactivate': 4466, 'papers': 4467, 'oil': 4468, 'technology': 4469, 'joking': 4470, 'input': 4471, 'preventing': 4472, 'doctors': 4473, 'sing': 4474, 'loc': 4475, 'adjacent': 4476, 'hugely': 4477, 'hop': 4478, 'rudely': 4479, '411': 4480, '989': 4481, 'rip': 4482, 'breast': 4483, 'ap': 4484, 'mates': 4485, 'cb': 4486, 'sanity': 4487, 'sunshine': 4488, 'killed': 4489, 'challenge': 4490, 'dissatisfaction': 4491, 'prebooked': 4492, 'mammoth': 4493, 'bull': 4494, 'uncool': 4495, 'shaking': 4496, 'covering': 4497, 'san68059m': 4498, 'unitedfirst': 4499, 'spf': 4500, 'spam': 4501, '1861': 4502, '18004337300': 4503, 'cases': 4504, 'behave': 4505, 'condescending': 4506, 'instructions': 4507, 'arrivals': 4508, 'aa199': 4509, 'mxpjfk': 4510, '28th': 4511, '619': 4512, 'albuquerque': 4513, 'trick': 4514, 'ʖ': 4515, 'mc': 4516, 'overselling': 4517, 'recheck': 4518, 'quoting': 4519, 'thousand': 4520, '160': 4521, 'carrie': 4522, 'srq': 4523, 'hungry': 4524, 'systemwide': 4525, 'vital': 4526, 'royally': 4527, 'conveyer': 4528, 'c4': 4529, 'likes': 4530, '805': 4531, 'accts': 4532, 'larry': 4533, 'consistency': 4534, 'events': 4535, '1hour': 4536, 'conflicting': 4537, 'endless': 4538, '174': 4539, 'woo': 4540, 'requiring': 4541, 'bio': 4542, 'understatement': 4543, 'h': 4544, 'jerk': 4545, 'hoot': 4546, '757': 4547, 'guessing': 4548, 'gng': 4549, 'wat': 4550, 'temp': 4551, 'aa76': 4552, 'gems': 4553, 'jimmy': 4554, 'samartzis': 4555, 'vice': 4556, 'seg': 4557, 'btr': 4558, '539': 4559, 'thatd': 4560, 'rubber': 4561, 'probs': 4562, 'replied': 4563, 'pig': 4564, 'followback': 4565, 'fresno': 4566, 'bigger': 4567, 'dick': 4568, '952': 4569, 'chimid': 4570, 'satisfaction': 4571, 'sfofll': 4572, 'reddit': 4573, 'pita': 4574, 'browser': 4575, 'compatible': 4576, 'oversized': 4577, 'legally': 4578, 'cldnt': 4579, 'drops': 4580, 'kevin': 4581, 'baggages': 4582, 'everythings': 4583, 'compliant': 4584, 'anxiety': 4585, 'vicky': 4586, 'ouch': 4587, 'jam': 4588, 'beverages': 4589, '3494': 4590, 'ordywg': 4591, 'violation': 4592, '1679': 4593, 'prepares': 4594, 'shuffle': 4595, 'bellagio': 4596, 'diverting': 4597, 'staffed': 4598, 'timeliness': 4599, '1m': 4600, 'efficient': 4601, 'freaked': 4602, 'began': 4603, 'pages': 4604, 'safari': 4605, 'gfc': 4606, 'wut': 4607, 'gay': 4608, 'sunset': 4609, '10am': 4610, 'outsourcing': 4611, 'boise': 4612, 'gaga': 4613, 'therefore': 4614, 'troubling': 4615, 'colombia': 4616, 'rhonda': 4617, 'redeemed': 4618, 'badge': 4619, 'peanut': 4620, 'allergy': 4621, 'winner': 4622, 'reviewed': 4623, '127': 4624, 'remedy': 4625, 'cali': 4626, 'fligt': 4627, 'coworker': 4628, 'memories': 4629, '1547': 4630, 'woulda': 4631, 'improved': 4632, 'billing': 4633, 'desert': 4634, 'snapchat': 4635, 'likelihood': 4636, 'denphx': 4637, 'regional': 4638, '1557': 4639, 'taiwan': 4640, 'corner': 4641, 'setting': 4642, 'incl': 4643, 'george': 4644, 'vp': 4645, 'pooling': 4646, '2396': 4647, '1898': 4648, 'assholes': 4649, 'platitudes': 4650, '1137': 4651, 'gracias': 4652, '1171': 4653, 'athletes': 4654, 'significantly': 4655, 'believing': 4656, 'clesfo': 4657, 'jfkgtsfo': 4658, 'robin': 4659, 'reuniting': 4660, 'decline': 4661, 'q3': 4662, '10th': 4663, 'ooh': 4664, 'ops': 4665, '1027': 4666, 'onplane': 4667, 'overheating': 4668, '43': 4669, 'airway': 4670, 'ads': 4671, 'untz': 4672, 'globe': 4673, 'blatant': 4674, 'tyr': 4675, 'minimum': 4676, 'marked': 4677, 'vinyl': 4678, 'prize': 4679, 'stunned': 4680, 'yards': 4681, 'pointless': 4682, 'enuf': 4683, 'dre': 4684, 'qualifies': 4685, 'grace': 4686, 'friendliest': 4687, '680': 4688, 'catered': 4689, 'org': 4690, 'readers': 4691, 'potentially': 4692, 'mvp': 4693, 'casimir': 4694, '1140am': 4695, 'shed': 4696, 'pure': 4697, 'awesomeness': 4698, 'tim': 4699, '4524': 4700, 'b1': 4701, '125': 4702, 'harsh': 4703, 'remorse': 4704, 'meelan': 4705, 'woof': 4706, 'max': 4707, '360': 4708, 'laxiad': 4709, '4464': 4710, 'myers': 4711, 'typically': 4712, 'cruise': 4713, 'austrian': 4714, '4348': 4715, '644': 4716, 'dare': 4717, 'laughing': 4718, 'grp': 4719, '1h': 4720, 'sync': 4721, 'assets': 4722, 'windows': 4723, 'num': 4724, 'backpack': 4725, '135': 4726, '64gb': 4727, 'jobs': 4728, '4420': 4729, '35x': 4730, 'setup': 4731, 'deiced': 4732, 'subscribe': 4733, 'specifics': 4734, 'wd40': 4735, 'weatherrelate': 4736, '210pm': 4737, 'ann': 4738, 'project': 4739, 'peace': 4740, 'athlete': 4741, '6176533040': 4742, 'integration': 4743, 'valentine': 4744, 'noticing': 4745, 'swapping': 4746, 'q': 4747, 'managing': 4748, 'kewl': 4749, 'planehow': 4750, 'gains': 4751, 'wiped': 4752, 'feces': 4753, 'sprinkled': 4754, 'indication': 4755, 'skilled': 4756, 'represents': 4757, 'desired': 4758, 'staffing': 4759, 'recognition': 4760, 'supervisors': 4761, 'thanx': 4762, '1109': 4763, 'spilled': 4764, 'attitudes': 4765, 'recorded': 4766, 'sanitizer': 4767, 'restr': 4768, 'pn': 4769, '320008a': 4770, 'deflator': 4771, 'chapter': 4772, 'amm': 4773, 'priced': 4774, 'grk': 4775, 'clearing': 4776, 'projects': 4777, 'thaw': 4778, 'hangar': 4779, '1533': 4780, 'threatens': 4781, '1917': 4782, '640': 4783, 'rachel': 4784, 'inferior': 4785, 'nonweather': 4786, 'co': 4787, 'l8r': 4788, 'meh': 4789, 'operation': 4790, 'woke': 4791, 'exercise': 4792, 'browsers': 4793, 'css': 4794, 'spelled': 4795, 'manch': 4796, 'travellers': 4797, '1625': 4798, 'cockpit': 4799, 'sooo': 4800, 'neighbors': 4801, 'reaccommodation': 4802, 'dramatically': 4803, '738': 4804, '1800flowers': 4805, 'forth': 4806, '1971': 4807, 'pt': 4808, 'logged': 4809, '512': 4810, 'glasgow': 4811, '5534': 4812, '2401': 4813, '650am': 4814, '2586': 4815, 'predicted': 4816, 'crated': 4817, 'wouldbe': 4818, 'pets': 4819, '850': 4820, 'norfolk': 4821, 'pieces': 4822, 'carsl': 4823, 'inefficient': 4824, 'misfortune': 4825, 'argue': 4826, '40min': 4827, 'abused': 4828, 'caned': 4829, 'concentrate': 4830, 'reeks': 4831, 'ashley': 4832, 'reverse': 4833, 'boycott': 4834, 'pound': 4835, 'graduate': 4836, 'realistic': 4837, 'contd': 4838, 'happiness': 4839, '555': 4840, 'arms': 4841, 'packing': 4842, '217': 4843, 'smoking': 4844, '195': 4845, '686': 4846, 'insist': 4847, 'partly': 4848, 'nigga': 4849, '2b': 4850, 'android': 4851, 'bein': 4852, 'relatives': 4853, 'blocking': 4854, 'mouth': 4855, 'solving': 4856, 'skiing': 4857, '1826': 4858, 'rectified': 4859, '220': 4860, '713': 4861, 'dnt': 4862, 'sld': 4863, 'rollers': 4864, 'unsafe': 4865, 'emv': 4866, 'lights': 4867, 'resulting': 4868, 'cos': 4869, 'compare': 4870, 'montego': 4871, 'uncaring': 4872, 'aw': 4873, 'bucket': 4874, 'complains': 4875, 'season': 4876, 'pays': 4877, 'dissapointed': 4878, 'unload': 4879, 'c25': 4880, 'settle': 4881, 'chips': 4882, 'duh': 4883, 'grandfather': 4884, 'milan': 4885, 'version': 4886, 'differently': 4887, 'raving': 4888, 'unrelate': 4889, 'rear': 4890, 'erj145': 4891, 'filing': 4892, '4840': 4893, 'fm': 4894, 'asks': 4895, 'rely': 4896, 'beers': 4897, 'disorganized': 4898, 'blowing': 4899, '615': 4900, '6000': 4901, 'witnessed': 4902, 'jac': 4903, 'alls': 4904, 'mht': 4905, 'gents': 4906, 'hat': 4907, 'ad': 4908, '1970': 4909, 'inch': 4910, 'tailwind': 4911, 'former': 4912, 'flexible': 4913, 'criminal': 4914, 'pleasantly': 4915, 'fab': 4916, 'asset': 4917, '3days': 4918, 'conveniently': 4919, 'balls': 4920, 'dalaus': 4921, 'zoom': 4922, 'tisk': 4923, 'complained': 4924, 'avoided': 4925, 'cushions': 4926, 'modifications': 4927, 'charles': 4928, 'adam': 4929, 'b12': 4930, 'stall': 4931, 'stndby': 4932, 'beating': 4933, 'stranger': 4934, 'thirty': 4935, 'xoxo': 4936, 'nicedismissive': 4937, 'apparent': 4938, 'tips': 4939, 'rivets': 4940, 'engaging': 4941, 'clarifying': 4942, 'angel': 4943, 'taylor': 4944, 'established': 4945, 'unwilling': 4946, 'admit': 4947, 'returns': 4948, 'mix': 4949, 'exist': 4950, 'unusable': 4951, 'mideast': 4952, 'housing': 4953, 'w3': 4954, 'hawaiian': 4955, 'speaks': 4956, 'kim': 4957, 'pafe': 4958, '15hr': 4959, 'parker': 4960, 'reads': 4961, 'shits': 4962, 'idk': 4963, 'alternative': 4964, 'averted': 4965, 'clarence': 4966, 'roger': 4967, '683': 4968, 'nitrogen': 4969, 'chain': 4970, '799': 4971, 'directtv': 4972, 'intern': 4973, '152': 4974, 'genius': 4975, 'cnxn': 4976, 'boots': 4977, 'mgr': 4978, 'loaner': 4979, 'relative': 4980, 'transfers': 4981, 'infants': 4982, 'overwhelmed': 4983, 'recap': 4984, 'starving': 4985, 'loose': 4986, 'ignores': 4987, 'repeating': 4988, 'strollers': 4989, 'ems': 4990, 'complaining': 4991, 'reclining': 4992, 'cushion': 4993, 'awww': 4994, 'flightno': 4995, 'clouds': 4996, 'active': 4997, 'ath': 4998, 'thread': 4999, 'competent': 5000, 'any1': 5001, 'tom': 5002, 'paypal': 5003, 'prolonged': 5004, 'prds': 5005, 'product': 5006, 'caffeine': 5007, 'thks': 5008, 'payed': 5009, 'donate': 5010, 'spanish': 5011, 'ordeal': 5012, 'fu': 5013, '304min': 5014, 'pump': 5015, 'aside': 5016, 'inaccurate': 5017, 'us1562': 5018, 'ric2dfw': 5019, '610pm': 5020, 'est4': 5021, 'imo': 5022, 'invited': 5023, 'wings': 5024, 'greater': 5025, '1712': 5026, '355': 5027, 'individual': 5028, 'okyou': 5029, 'imma': 5030, 'checks': 5031, 'tweeter': 5032, 'awkward': 5033, 'l': 5034, 'younger': 5035, 'tn': 5036, 'thinks': 5037, 'loosing': 5038, 'movement': 5039, 'reversed': 5040, 'eb': 5041, 'sally': 5042, 'oct': 5043, '31': 5044, '440': 5045, 'coordinate': 5046, '2258': 5047, '769': 5048, 'yearly': 5049, 'describe': 5050, '225': 5051, 'sample': 5052, 'wide': 5053, 'fate': 5054, 'noone': 5055, 'presented': 5056, '9pm': 5057, 'praying': 5058, 'flashlight': 5059, 'richard': 5060, 'batteries': 5061, 'eu': 5062, 'delighted': 5063, 'nearby': 5064, 'timing': 5065, 'ethiopia': 5066, 'cha': 5067, 'intact': 5068, 'siting': 5069, 'toddlers': 5070, 'gee': 5071, '755': 5072, 'sarcasm': 5073, 'flightua1750': 5074, 'a3': 5075, 'bumper': 5076, '11a': 5077, 'ferry': 5078, 'schedules': 5079, 'adopted': 5080, 'pedro': 5081, 'mailing': 5082, '3659': 5083, '104': 5084, 'scotch': 5085, 'ta': 5086, 'occur': 5087, 'easiest': 5088, 'ricoh': 5089, '27l': 5090, 'bench': 5091, 'shawn': 5092, 'susan': 5093, 'explaining': 5094, 'owes': 5095, 'tammy': 5096, 'attentiveness': 5097, 'ardent': 5098, 'poughkeepsie': 5099, 'bonuses': 5100, '5238': 5101, 'accomplished': 5102, 'nvm': 5103, 'slots': 5104, 'publicly': 5105, 'russia': 5106, 'formally': 5107, 'enroll': 5108, 'retired': 5109, 'eligible': 5110, '1503': 5111, 'cincinnati': 5112, 'massive': 5113, 'emailing': 5114, '8004284322': 5115, 'thrown': 5116, 'telephone': 5117, 'motel': 5118, 'classes': 5119, 'singing': 5120, 'ua5396': 5121, 'closing': 5122, 'linking': 5123, 'andrew': 5124, 'sma': 5125, 'hve': 5126, 'flght': 5127, 'irritating': 5128, 'conection': 5129, 'knowledge': 5130, 'taste': 5131, 'largest': 5132, 'taxis': 5133, '2xday': 5134, 'ref': 5135, 'allowance': 5136, 'aa3186': 5137, '605': 5138, 'verbal': 5139, '4050': 5140, 'complicated': 5141, 'reminding': 5142, '945': 5143, 'pin': 5144, 'searched': 5145, 'resoled': 5146, '436': 5147, 'a320s': 5148, 'lo': 5149, 'pregnant': 5150, 'selfies': 5151, 'cp': 5152, 'troubadour': 5153, '130am': 5154, 'tuned': 5155, '1729': 5156, 'craving': 5157, 'ref2990176298': 5158, 'investigate': 5159, 'gluten': 5160, 'exclusively': 5161, 'conversations': 5162, 'formula': 5163, '212': 5164, '46hrs': 5165, '1997': 5166, 'lawsuit': 5167, '30mins': 5168, 'capital': 5169, 'b8': 5170, 'thy': 5171, 'homeless': 5172, 'finds': 5173, 'fri': 5174, 'tokyo': 5175, '10min': 5176, '2yr': 5177, 'historical': 5178, 'panic': 5179, '96': 5180, 'purely': 5181, 'diabetic': 5182, 'squared': 5183, 'appreciation': 5184, 'ticked': 5185, 'luggages': 5186, 'ottawa': 5187, '140pm': 5188, 'bravo': 5189, 'toledo': 5190, 'creates': 5191, '1300': 5192, 'ploughs': 5193, 'lone': 5194, 'furrow': 5195, 'court': 5196, 'instagram': 5197, 'secret': 5198, 'gainesville': 5199, 'particular': 5200, 'adore': 5201, 'biggie': 5202, 'dec': 5203, 'seatbelt': 5204, 'injured': 5205, '911': 5206, 'portion': 5207, 'measure': 5208, 'problemss': 5209, 'aa45': 5210, 'hayes': 5211, 'island': 5212, 'outta': 5213, 'callbacks': 5214, 'acquisition': 5215, '1843': 5216, 'lodge': 5217, '1142': 5218, 'gosh': 5219, 'c11': 5220, 'bk': 5221, 'hashtag': 5222, 'reduce': 5223, 'ins': 5224, 'filling': 5225, 'flaw': 5226, 'regularly': 5227, 'standards': 5228, 'miriam': 5229, 'occupied': 5230, 'recruiting': 5231, '580815': 5232, 'emp': 5233, 'kci': 5234, '6f': 5235, 'expedient': 5236, 'pics': 5237, '636': 5238, 'reunion': 5239, '1230am': 5240, 'shld': 5241, 'digging': 5242, 'morn': 5243, 'fake': 5244, 'rings': 5245, 'shortcomings': 5246, 'lag': 5247, 'spagnuolo': 5248, 'coached': 5249, 'awhile': 5250, 'lima': 5251, 'display': 5252, 'upload': 5253, 'ondemand': 5254, '2013': 5255, 'forecasts': 5256, '1856': 5257, 'fueled': 5258, 'profile': 5259, 'invite': 5260, 'weary': 5261, 'jealous': 5262, 'tryna': 5263, 'reopens': 5264, 'overflight': 5265, 'becomes': 5266, '1580': 5267, 'goods': 5268, 'series': 5269, '1159': 5270, 'downtown': 5271, 'los': 5272, 'angeles': 5273, 'operate': 5274, 'flightledflight': 5275, 'zurich': 5276, 'attendees': 5277, 'handy': 5278, 'construction': 5279, 'tkts': 5280, '505': 5281, '635': 5282, '1041': 5283, 'cellphone': 5284, 'waitin': 5285, 'scanned': 5286, 'hmm': 5287, 'usaa': 5288, 'registers': 5289, 'reserv': 5290, 'culture': 5291, 'wsj': 5292, 'border': 5293, 'kate': 5294, 'sisters': 5295, 'quiet': 5296, 'grouchy': 5297, 'reactions': 5298, '502': 5299, '13001885409': 5300, 'ctr': 5301, 'innovation': 5302, 'rubbish': 5303, 'sch': 5304, 'sass': 5305, 'memo': 5306, 'applying': 5307, '167': 5308, 'holiday': 5309, 'draft': 5310, 'invest': 5311, 'gsp': 5312, 'mastercard': 5313, 'vm': 5314, 'mentions': 5315, '1535': 5316, 'eight': 5317, 'celebrates': 5318, '15year': 5319, 'colleagues': 5320, 'education': 5321, '600117': 5322, 'korea': 5323, 'swu': 5324, 'passive': 5325, 'mothers': 5326, 'ua1116': 5327, '1951': 5328, 'impact': 5329, 'nasdaq': 5330, 'bohol': 5331, '501c3': 5332, 'columbia': 5333, 'sc': 5334, 'carpet': 5335, 'kay': 5336, 'paste': 5337, '953': 5338, 'anchorage': 5339, 'logging': 5340, 'italy': 5341, 'approved': 5342, 'refsd': 5343, 'bora': 5344, 'atleast': 5345, 'fella': 5346, 'transf': 5347, '623': 5348, 'confidence': 5349, '4473': 5350, '597': 5351, 'aadfw': 5352, 'gma': 5353, 'amso': 5354, 'trvlove': 5355, 'ons': 5356, 'sjo': 5357, 'refusing': 5358, 'addtl': 5359, 'rifle': 5360, 'grades': 5361, 'increasing': 5362, 'female': 5363, '472': 5364, 'partial': 5365, 'storage': 5366, 'hd': 5367, 'capture': 5368, 'tock': 5369, 'impress': 5370, '255': 5371, 'sentinel': 5372, '777200': 5373, 'ordpvg': 5374, 'downgraded': 5375, 'th': 5376, 'minneapolis': 5377, 'frontier': 5378, 'pros': 5379, 'frankly': 5380, '200pm': 5381, '7pm': 5382, 'blames': 5383, '669': 5384, 'xx': 5385, 'oak': 5386, 'wht': 5387, '50lbs': 5388, 'speeds': 5389, 'americas': 5390, 'sm': 5391, 'opinion': 5392, 'babies': 5393, '103': 5394, 'panamerican': 5395, '7d': 5396, 'soft': 5397, 'asia': 5398, 'bless': 5399, 'dsm': 5400, 'anthony': 5401, '15minutes': 5402, 'everywhere': 5403, 'perfectly': 5404, 'serves': 5405, 'gnv': 5406, '2xdaily': 5407, 'principle': 5408, 'committed': 5409, 'bttr': 5410, 'md80': 5411, 'musicians': 5412, 'stairs': 5413, 'sw900001vyil1xklrog24fs918j': 5414, 'jx4s2t': 5415, 'damper': 5416, 'iy': 5417, 'holler': 5418, '45minutes': 5419, 'clog': 5420, 'alreadycrowded': 5421, 'mosiac': 5422, 'ua1568': 5423, 'ua1543': 5424, 'uplink': 5425, 'ase24766m': 5426, '3336': 5427, 'swas': 5428, 'ua3426': 5429, 'stretching': 5430, 'exhausting': 5431, 'wernicke': 5432, '132': 5433, '350pm': 5434, 'hrsthere': 5435, 'problemsbtwthe': 5436, '10d': 5437, 'informationstill': 5438, '622': 5439, 'temporary': 5440, '6491': 5441, 'ua1297': 5442, 'businessfirst': 5443, 'valuables': 5444, 'interim': 5445, 'disrespected': 5446, 'undone': 5447, '1914': 5448, 'buggy': 5449, 'valentines': 5450, 'daynot': 5451, 'itpretend': 5452, 'workin': 5453, 'wcustomer': 5454, 'droped': 5455, 'agentsno': 5456, 'preparedhonestly': 5457, 'furnish': 5458, 'often5': 5459, 'ua1270': 5460, 'descending': 5461, 'farce': 5462, 'unserviceable': 5463, '1110p': 5464, 'botched': 5465, 'absurdity': 5466, 'insisted': 5467, 'pdw': 5468, '1855': 5469, 'purse': 5470, 'comin': 5471, 'h8': 5472, 'ua4689': 5473, 'yhzewr': 5474, 'posmia': 5475, 'pandora': 5476, 'com': 5477, 'apnea': 5478, 'misjudging': 5479, 'deliberate': 5480, 'expens': 5481, 'expediatheres': 5482, '6mos': 5483, 'refresh': 5484, 'le2v9d': 5485, 'numbered': 5486, 'iatanbul': 5487, 'whatd': 5488, 'alternatively': 5489, 'pitt': 5490, 'resort': 5491, 'evennotified': 5492, 'theflight': 5493, 'isdelayed': 5494, 'emailtextphone': 5495, 'callif': 5496, 'wererunning': 5497, '235': 5498, 'gent': 5499, 'bosmco': 5500, 'newsflt': 5501, 'reuse': 5502, 'welcomed': 5503, 'dcazero': 5504, 'costumers': 5505, 'belfast': 5506, 'disloyal': 5507, 'downloaded': 5508, 'government': 5509, 'approval': 5510, 'appointments': 5511, 'steamed': 5512, 'conjunction': 5513, '7hour': 5514, 'noodles': 5515, 'peas': 5516, 'zukes': 5517, 'nonvegan': 5518, 'yogurt': 5519, 'dencle': 5520, '1ker': 5521, 'gassing': 5522, '1120': 5523, 'donkey': 5524, 'dicks': 5525, 'auscun': 5526, '2bestfriends': 5527, 'unnecessarily': 5528, 'moar': 5529, 'loft': 5530, '2000': 5531, 'posts': 5532, 'fullyear': 5533, 'net': 5534, 'mrobinson': 5535, 'hahnot': 5536, 'delacy': 5537, 'compassionate': 5538, 'in2y': 5539, 'bourbon': 5540, 'flavors': 5541, 'ingredients': 5542, 'preggo': 5543, 'hormones': 5544, 'sjcgtlax': 5545, 'now3': 5546, '20288': 5547, 'wee': 5548, 'baking': 5549, 'remain': 5550, 'comcast': 5551, 'ringing': 5552, 'intended': 5553, 'sivi': 5554, 'stewart': 5555, 'popped': 5556, 'chargesi': 5557, '7500': 5558, 'hunkydory': 5559, 'wn3946': 5560, 'sansfo': 5561, 'rita': 5562, 'deoderant': 5563, 'quitting': 5564, 'elevatethey': 5565, 'uphelp': 5566, 'staffers': 5567, 'tiday': 5568, 'tequila': 5569, 'c22': 5570, 'us558': 5571, '216': 5572, 'crewi': 5573, 'ceases': 5574, 'amazefor': 5575, 'sundays': 5576, '4016688561': 5577, 'mga': 5578, '826': 5579, 'mbj': 5580, 'herb': 5581, 'otis': 5582, 'wires': 5583, 'wrestle': 5584, 'accruing': 5585, 'queuing': 5586, 'crutches': 5587, 'force': 5588, 'sis': 5589, 'mega': 5590, 'evenings': 5591, 'servers': 5592, 'frequently': 5593, 'paypals': 5594, 'boslas': 5595, 'aggravated': 5596, 'natt': 5597, 'premiers': 5598, '4q': 5599, 'closings': 5600, 'assurance': 5601, '6090': 5602, 'aa977': 5603, 'miacur': 5604, 'ithica': 5605, 'temps': 5606, 'checkinbag': 5607, 'blueblackish': 5608, 'surveying': 5609, 'teaching': 5610, 'overpriced': 5611, 'sub': 5612, 'becky': 5613, 'piela': 5614, 'need2know': 5615, 'todayrather': 5616, 'maf': 5617, 'reebooked': 5618, 'lvdfw': 5619, '1250pm': 5620, '1215': 5621, 'unprepared': 5622, 'unsympathetic': 5623, 'overcarry': 5624, 'incomprehensible': 5625, 'flight16': 5626, '672': 5627, '1147': 5628, 'referral': 5629, 'milageplus': 5630, '1031': 5631, 'fedexed': 5632, 'ensued': 5633, 'marcos': 5634, 'concierge': 5635, 'gru': 5636, 'sorting': 5637, 'spectacularfed': 5638, 'amazings': 5639, 'spaces': 5640, 'incompetency': 5641, 'sweatshirt': 5642, 'seetonight': 5643, 'warmest': 5644, 'ers': 5645, 'curtesy': 5646, 'tsapre': 5647, 'accessing': 5648, '1802': 5649, 'credibility': 5650, 'crosswords': 5651, '1225': 5652, 'safealone': 5653, '9h': 5654, 'authors': 5655, 'fiction': 5656, '02282015': 5657, '03032015': 5658, 'offload': 5659, '3763': 5660, 'iadsat': 5661, 'outdoor': 5662, 'blow': 5663, 'transports': 5664, 'resourcesratings': 5665, 'controller': 5666, 'agianand': 5667, 'bankruptcies': 5668, 'awesomebright': 5669, 'vibrant': 5670, 'habitrails': 5671, 'taxing': 5672, 'hurricane': 5673, 'sol': 5674, 'reallythey': 5675, 'of40i': 5676, '1039': 5677, 'sests': 5678, 'bergstrom': 5679, '737s': 5680, '1528': 5681, '909': 5682, 'unscheduled': 5683, 'pbampj': 5684, 'careers': 5685, 'swing': 5686, 'fairway': 5687, 'overlooking': 5688, '17th': 5689, 'baejet': 5690, 'amirite': 5691, '2350': 5692, 'wendell': 5693, 'holton': 5694, 'feesbut': 5695, 'highway': 5696, 'usable': 5697, 'majority': 5698, 'cameras': 5699, '209': 5700, 'disconnecting': 5701, 'ua4935': 5702, 'cocktails': 5703, 'portauprince': 5704, 'orphan': 5705, 'dayi': 5706, '1783': 5707, 'nthin': 5708, '157': 5709, '4606': 5710, '6373': 5711, 'transparency': 5712, 'sabe': 5713, 'bossan': 5714, 'evasive': 5715, 'whining': 5716, 'refreshing': 5717, '3138': 5718, 'diversion': 5719, 'laish': 5720, 'comparing': 5721, '525': 5722, 'urged': 5723, 'sloppy': 5724, 'raised': 5725, 'applaud': 5726, 'environment': 5727, '2646': 5728, 'disheartening': 5729, 'familyand': 5730, 'spain': 5731, 'xt': 5732, 'f1571aus': 5733, 'syscon': 5734, 'honululu': 5735, 'wether': 5736, '20k': 5737, '705': 5738, 'fracat': 5739, 'zigzagging': 5740, 'movements': 5741, 'becuase': 5742, 'readded': 5743, 'asha': 5744, 'planing': 5745, 'sapphire': 5746, 'presidential': 5747, 'overloads': 5748, 'saturdays': 5749, 'permanent': 5750, '5348': 5751, 'airmiles': 5752, 'dope': 5753, 'numerical': 5754, 'headerelevateusernumofpointsavailable': 5755, 'dependable': 5756, 'western': 5757, 'skyteam': 5758, '75yo': 5759, 'audience': 5760, 'loner': 5761, 'expressed': 5762, 'disapptment': 5763, 'leadership': 5764, 'counts': 5765, '1115': 5766, 'nightdeplaned': 5767, '1240': 5768, '4994': 5769, 'wyoming': 5770, '2ndary': 5771, 'wipes': 5772, '12888155964': 5773, 'handicapped': 5774, '2334': 5775, '4007': 5776, 'av8b': 5777, 'xw': 5778, 'd4': 5779, 'helped2': 5780, 'multinational': 5781, 'laptoplarge': 5782, 'lil': 5783, 'tyspent': 5784, 'restrooms': 5785, 'pir': 5786, 'spell': 5787, 'mobility': 5788, 'wannaa': 5789, 'grounds': 5790, 'connectns': 5791, 'hotl': 5792, 'savings': 5793, 'negotiate': 5794, 'resolutions': 5795, 'melting': 5796, 'restructured': 5797, 'brotha': 5798, 'bd': 5799, 'wproj': 5800, 'cond': 5801, 'additionally': 5802, 'spontaneously': 5803, '362': 5804, 'grnd': 5805, 'obey': 5806, 'racist': 5807, 'waitingcan': 5808, 'icloud': 5809, '250pm': 5810, '18feb': 5811, 'herba': 5812, 'prn': 5813, 'older': 5814, '805am': 5815, 'drinking': 5816, 'pleasent': 5817, 'forgets': 5818, 'ricky': 5819, 'bosphl': 5820, 'swipe': 5821, 'flailing': 5822, 'foodnot': 5823, 'bite': 5824, 'benes': 5825, '1610': 5826, 'ua871': 5827, 'fyvrfn': 5828, 'tickt': 5829, 'snaps': 5830, 'cups': 5831, 'peggy': 5832, 'pissedvery': 5833, 'evil': 5834, 'aa3230': 5835, '245hrs': 5836, 'seriousness': 5837, 'del': 5838, 'ewrbrudel': 5839, 'somethingwhich': 5840, 'nothinghoping': 5841, 'waynot': 5842, '695': 5843, 'stagnant': 5844, 'gmas': 5845, 'circling': 5846, 'timesomeone': 5847, 'locally': 5848, 'compartments': 5849, 'umpteen': 5850, 'encourage': 5851, 'reinterview': 5852, 'sole': 5853, '6166': 5854, 'blatantly': 5855, 'stable': 5856, 'wating': 5857, '1675': 5858, '1665': 5859, 'difficultieswhat': 5860, 'pbijfk': 5861, '25hours': 5862, 'hatch': 5863, 'nl': 5864, 'disappointments': 5865, 'inflation': 5866, 'veg': 5867, 'brazil': 5868, 'cunewr': 5869, '255pm': 5870, 'koalaxphlord': 5871, 'savr': 5872, 'awrd': 5873, 'koalaxphxord': 5874, 'spotty': 5875, 'stressors': 5876, 'desparately': 5877, 'bnagt': 5878, '1032': 5879, '437': 5880, 'phxgtord': 5881, 'ab': 5882, 'pensacola': 5883, '3670': 5884, '175': 5885, 'fkn': 5886, '1542': 5887, '1045pm': 5888, '1079871763': 5889, 'flightchng': 5890, 'affiliates': 5891, 'afiliates': 5892, 'greeted': 5893, 'flamethrowers': 5894, 'plow': 5895, 'yaayy': 5896, 'prom': 5897, 'populate': 5898, 'ua1641': 5899, 'ewrmco': 5900, 'engagements': 5901, 'tarmat': 5902, '5418': 5903, 'cstsvc': 5904, 'honors': 5905, 'rcd': 5906, 'atlhou': 5907, '574': 5908, 'comms': 5909, 'mis': 5910, 'refueled': 5911, 'retards': 5912, 'minutesand': 5913, 'modify': 5914, 'circulation': 5915, 'slash': 5916, 'engagement': 5917, 'cooler': 5918, 'ua246': 5919, 'mrn': 5920, 'desirable': 5921, 'ua978': 5922, 'accomplish': 5923, 'ots': 5924, 'thatthis': 5925, 'royal': 5926, 'commission': 5927, 'atct': 5928, '1815': 5929, 'n747uw': 5930, '57': 5931, 'integrating': 5932, 'crabby': 5933, 'delayedno': 5934, '559': 5935, 'ordseriously': 5936, 'mkwlkr': 5937, 'vacay': 5938, 'sarita': 5939, 'clues': 5940, 'reclaim': 5941, 'directing': 5942, 'msn': 5943, 'rx': 5944, 'eyeglasses': 5945, 'weatherbackup': 5946, 'disconnection': 5947, 'wear': 5948, 'xxx': 5949, 'curse': 5950, 'twin': 5951, 'olds': 5952, 'lifesaver': 5953, 'comenity': 5954, 'copay': 5955, 'swap': 5956, 'fool': 5957, '5a': 5958, '3359': 5959, 'bruhreal': 5960, '78': 5961, 'w8': 5962, '4424': 5963, 'n813ma': 5964, 'misguided': 5965, 'reopen': 5966, '1285': 5967, 'growing': 5968, 'career': 5969, 'possible2': 5970, 'italian': 5971, 'stahp': 5972, 'aye': 5973, 'hepl': 5974, 'seam': 5975, 'busted': 5976, 'zippers': 5977, '11132012': 5978, 'raising': 5979, '1748': 5980, '1219': 5981, 'boiled': 5982, 'upholding': 5983, 'fete': 5984, '800iflyswa': 5985, 'undies': 5986, '9may5sep': 5987, 'upfare': 5988, 'equal': 5989, 'pek': 5990, 'wlil': 5991, 'laissez': 5992, 'faire': 5993, 'dumps': 5994, 'planeso': 5995, '4454': 5996, 'reservationchange': 5997, 'tablets': 5998, '1599': 5999, 'wireless': 6000, '7unnecessary': 6001, '5431': 6002, 'bailed': 6003, '5001': 6004, 'positionhow': 6005, '1773': 6006, 'attach': 6007, '94lxa62': 6008, 'e2kvm4': 6009, 'thansk': 6010, 'mommy': 6011, 'daddy': 6012, 'aa3181': 6013, 'depression': 6014, '800number': 6015, 'chaotic': 6016, 'uncertainty': 6017, 'undue': 6018, 'reqing': 6019, 'awe1701': 6020, 'backyard': 6021, 'competes': 6022, 'aal65': 6023, 'declared': 6024, 'squawking': 6025, 'lefteven': 6026, 'jperhi': 6027, 'helpva': 6028, 'grossthe': 6029, 'bozos': 6030, 'fi': 6031, '3511': 6032, 'orddca': 6033, 'cheque': 6034, 'evedidnt': 6035, 'giants': 6036, '2488': 6037, '49min': 6038, 'groundstill': 6039, 'debit': 6040, '0303': 6041, 'thickens': 6042, 'ticketnow': 6043, 'ownership': 6044, 'toplay': 6045, '423': 6046, 'races': 6047, 'optin': 6048, 'verified': 6049, 'todaywhats': 6050, '1226pm': 6051, 'thanking': 6052, '4461': 6053, 'braving': 6054, 'mdwgtmem': 6055, 'suspended': 6056, 'tvsmusic': 6057, 'xmas': 6058, 'razor': 6059, 'awfulness': 6060, '1133': 6061, 'n353jb': 6062, 'thoughand': 6063, 'represent': 6064, 'bagits': 6065, 'reflection': 6066, 'extinct': 6067, 'rozana': 6068, 'laxnyc': 6069, '190': 6070, '2gether': 6071, 'ua994': 6072, '833': 6073, 'helene': 6074, 'b15': 6075, 'brave': 6076, 'vulnerable': 6077, 'thieves': 6078, 'specials': 6079, '8a': 6080, 'hints': 6081, 'wnothing': 6082, 'extralight': 6083, 'beought': 6084, 'unexpactable': 6085, 'monica': 6086, '3487': 6087, 'overwhelming': 6088, 'ampwebsite': 6089, 'airport2': 6090, 'hint': 6091, 'deemed': 6092, 'oxgen': 6093, 'tank': 6094, 'rescue': 6095, '184': 6096, 'holdcan': 6097, '4972': 6098, 'staticy': 6099, 'lea': 6100, 'cushy': 6101, 'lile': 6102, 'brands': 6103, 'nolaorlando': 6104, 'inconveniently': 6105, 'phonehung': 6106, 'onall': 6107, 'enrolled': 6108, 'workersinstead': 6109, 'mouse': 6110, 'pad': 6111, 'b44': 6112, 'mpagent': 6113, 'pres': 6114, 'eqms': 6115, 'aa919': 6116, 'freaks': 6117, 'surreal': 6118, 'ua1764': 6119, 'screakjmf': 6120, '1848': 6121, '5015': 6122, 'groups': 6123, '1089': 6124, 'ohi': 6125, 'itover': 6126, 'responsedisappointed': 6127, '5203': 6128, '19jun6sep': 6129, '300s': 6130, 'dos': 6131, 'donts': 6132, 'announcer': 6133, '651': 6134, 'supp': 6135, 'tabitha': 6136, 'surgeryhelp': 6137, 'deliveredhotel': 6138, 'elizabeth': 6139, 'liars': 6140, 'agreed': 6141, 'professor': 6142, 'progressed': 6143, 'hour9196750985': 6144, 'chewey': 6145, 'oatmeal': 6146, 'monfr': 6147, 'callwhats': 6148, 'triedits': 6149, 'commutation': 6150, 'ua1532': 6151, 'reconsidering': 6152, 'a3zz0f': 6153, 'flightstart': 6154, 'bcn': 6155, '2448': 6156, 'initiative': 6157, '4035': 6158, 'kcthanks': 6159, 'c9': 6160, 'faults': 6161, 'authority': 6162, 'labeled': 6163, 'occupy': 6164, 'musical': 6165, 'toothpaste': 6166, '70oz': 6167, 'frustratingit': 6168, '1016': 6169, '655am': 6170, 'unfamiliar': 6171, 'outcome': 6172, 'upsellladen': 6173, '8088': 6174, 'sxmgtjfk': 6175, 'stockhouse': 6176, 'fathers': 6177, 'minors': 6178, 'mediocre': 6179, 'combo': 6180, 'ahem': 6181, 'airpt': 6182, '9999999999': 6183, '4125': 6184, 'impaired': 6185, 'insider': 6186, 'hill': 6187, '815p': 6188, 'winks': 6189, 'heartless': 6190, 'cozy': 6191, 'hah': 6192, 'hahahah': 6193, '12th': 6194, 'februaryi': 6195, 'aa106': 6196, 'musician': 6197, '1050': 6198, 'jfkyou': 6199, 'rethink': 6200, 'brendan': 6201, 'shortlyrs': 6202, 'ecom': 6203, 'jeopardy': 6204, '13015': 6205, 'substitutes': 6206, 'qqbmug': 6207, 'reticketed': 6208, 'hfjkto': 6209, 'slowdown': 6210, 'ind43728m': 6211, 'gt30mins': 6212, 'kat': 6213, 'tasty': 6214, 'nbd': 6215, 'muchas': 6216, 'grassy': 6217, 'alamo': 6218, 'tatiana': 6219, 'rcvd': 6220, '8090': 6221, 'whereas': 6222, 'jetgreen': 6223, 'jetred': 6224, '845am': 6225, '2672': 6226, 'damion': 6227, 'noob': 6228, 'refreshments': 6229, 'exicted': 6230, 'weathers': 6231, '1925': 6232, 'cheeze': 6233, 'groupa': 6234, 'honey': 6235, '714': 6236, 'problemjust': 6237, 'fifth': 6238, 'todayall': 6239, 'issuesshe': 6240, 'effect': 6241, '2463': 6242, 'gt2': 6243, 'embassy': 6244, 'suites': 6245, '13341': 6246, 'woodland': 6247, 'herndon': 6248, 'virginia': 6249, '20171': 6250, '17034640200': 6251, 'waives': 6252, 'jana': 6253, 'acosta': 6254, '247': 6255, 'iahhnl': 6256, 'reactive': 6257, '1145am': 6258, 'delayedthats': 6259, '89ish': 6260, 'unsat': 6261, 'contaced': 6262, 'eyewitness': 6263, 'blizzard': 6264, 'makechange': 6265, '2516': 6266, '2244': 6267, 'datetime': 6268, 'nonstops': 6269, 'fudgin': 6270, 'reboarding': 6271, 'a49': 6272, '12h30am': 6273, 'statusawaiting': 6274, 'asgmnt': 6275, '1015am': 6276, '17a': 6277, 'timeshand': 6278, 'letterwent': 6279, 'airportcalledplease': 6280, 'tpadfwaus': 6281, 'iahdfw': 6282, 'interchangeably': 6283, 'travelled': 6284, 'scl': 6285, 'iha': 6286, '21l': 6287, 'oopsno': 6288, '702': 6289, 'bait': 6290, 'tactic': 6291, 'possibility': 6292, 'born': 6293, 'cst': 6294, '7apr': 6295, '28mar': 6296, 'faundation': 6297, 'judeo': 6298, 'cristian': 6299, 'ideologias': 6300, 'customerits': 6301, 'rise': 6302, 'q4': 6303, 'anni': 6304, 'mustve': 6305, 'mixtapethough': 6306, 'recordi': 6307, 'shutting': 6308, 'callbackthe': 6309, 'concerning': 6310, 'sht': 6311, '3586': 6312, '70s': 6313, 'inner': 6314, 'pop': 6315, '2339': 6316, 'unhappyspend': 6317, 'balloons': 6318, 'ua1416': 6319, '10minute': 6320, 'rett': 6321, 'cavan': 6322, 'gofundme': 6323, 'warmer': 6324, 'bleed': 6325, 'leeds': 6326, 'historically': 6327, 'lifeline': 6328, 'worldhungry': 6329, 'moderate': 6330, 'syastem': 6331, '56680': 6332, 'idaho': 6333, 'electronic': 6334, 'lampf': 6335, 'dcamanual': 6336, '128': 6337, 'prerecorded': 6338, 'assuage': 6339, 'indignation': 6340, '85681': 6341, '307': 6342, '15minsits': 6343, '22614': 6344, 'weblink': 6345, 'issuing': 6346, 'headphone': 6347, 'sleepbut': 6348, 'replies': 6349, 'droppeditoffyet': 6350, 'denewr': 6351, 'begun': 6352, 'issuesmy': 6353, 'delayedconnection': 6354, 'menow': 6355, 'tf': 6356, 'unplanned': 6357, 'pleasehow': 6358, 'maybemange': 6359, 'alittlebetter': 6360, 'inconsiderate': 6361, 'okayyyy': 6362, 'irons': 6363, 'lineoh': 6364, 'correspondence': 6365, 'selectionchange': 6366, 'compete': 6367, 'expiration': 6368, 'films': 6369, 'regrading': 6370, '639p': 6371, 'danbury': 6372, 'employeefaceless': 6373, 'trivialize': 6374, 'connetion': 6375, 'wthat': 6376, 'kax': 6377, 'reopened': 6378, 'wd': 6379, '3875': 6380, 'womens': 6381, 'tennis': 6382, '2jul': 6383, 'geneva': 6384, 'spaghetti': 6385, 'bafore': 6386, 'spamjunk': 6387, 'casenothing': 6388, 'handedly': 6389, 'useable': 6390, 'cho': 6391, 'itwhy': 6392, 'businessso': 6393, 'reativation': 6394, 'sms': 6395, '29': 6396, 'betch': 6397, 'israel': 6398, 'miscounting': 6399, 'downthanks': 6400, 'holidays': 6401, '851ticket': 6402, 'diane': 6403, 'complt': 6404, '295lav': 6405, 'pln': 6406, 'lnded': 6407, 'nite': 6408, '4968': 6409, 'n8325d': 6410, 'welcoming': 6411, 'cud': 6412, 'holdguess': 6413, 'wcomputer': 6414, 'ticket12': 6415, 'unmanned': 6416, 'agtb': 6417, 'forfeited': 6418, '8003352247': 6419, '261093929756': 6420, '1449': 6421, 'aggravation': 6422, 'bid': 6423, 'laxgtsea': 6424, '1249': 6425, 'discouraging': 6426, '37d': 6427, 'phillip': 6428, 'heller': 6429, 'ifc': 6430, 'buck': 6431, 'songs': 6432, 'inserted': 6433, 'f5r3zz': 6434, '5903': 6435, 'handshake': 6436, 'nailed': 6437, 'bcuz': 6438, 'unprofessionalism': 6439, 'threat': 6440, 'au': 6441, 'ongoing': 6442, 'earthquake': 6443, 'failurethen': 6444, 'anna': 6445, 'medal': 6446, '4609': 6447, 'stepping': 6448, 'periods': 6449, 'vuelo24es': 6450, 'vuelos24es': 6451, 'madnyc': 6452, 'webs': 6453, '666': 6454, 'n615jb': 6455, 'sox': 6456, '1150': 6457, '46mins': 6458, 'wipe': 6459, '13001408092': 6460, 'phldfw': 6461, 'wilmington': 6462, 'motions': 6463, '460': 6464, 'coffeemaker': 6465, 'ft1892': 6466, 'be4': 6467, 'coma': 6468, 'waiving': 6469, 'zip': 6470, 'sendingposting': 6471, 'bussines': 6472, 'ua1069': 6473, 'cleanliness': 6474, 'smells': 6475, 'tickethotel': 6476, 'delayedover': 6477, 'sugafly': 6478, 'rebecca': 6479, 'levi': 6480, 'nycas': 6481, 'definitive': 6482, '312': 6483, 'relay': 6484, 'howwhy': 6485, 'allowabl': 6486, 'emily': 6487, '7f': 6488, 'passngr': 6489, 'stl2atl': 6490, 'whens': 6491, 'tomorrowwould': 6492, 'stuffy': 6493, 'aggravating': 6494, 'foolish': 6495, '2275': 6496, 'pp': 6497, 'rechecked': 6498, 'eservicecom': 6499, 'bg0kwm': 6500, 'narayanan': 6501, 'mayweather': 6502, 'pacquiao': 6503, 'bingo': 6504, 'noah': 6505, 'sounding': 6506, 'bitchslapped': 6507, 'flutter': 6508, 'inconveniences': 6509, 'joplin': 6510, 'jln': 6511, 'ummmm': 6512, 'airs': 6513, '2069': 6514, '3750': 6515, 'lord': 6516, 'parizad': 6517, 'pe': 6518, 'prepare': 6519, 'graduation': 6520, 'breakdown': 6521, 'surcharge': 6522, 'bosgtlas': 6523, '1239': 6524, '2302': 6525, 'boarddeplane': 6526, 'smaller': 6527, 'requirements': 6528, 'backpacks': 6529, 'naval': 6530, 'commands': 6531, 'pummeled': 6532, '759': 6533, '1000pm': 6534, 'relieved': 6535, 'neighboring': 6536, 'promofly': 6537, 'rnd': 6538, 'aa5ba1506': 6539, '771': 6540, 'denbna': 6541, 'crewand': 6542, 'ozs': 6543, 'flightget': 6544, '1001': 6545, 'glitchy': 6546, 'sneaky': 6547, '1014am': 6548, '919pm': 6549, 'relationships': 6550, 'accomidating': 6551, 'redheaded': 6552, '3389': 6553, 'flightledtried': 6554, 'impending': 6555, 'justify': 6556, '547': 6557, 'portal': 6558, 'ltr': 6559, 'prchase': 6560, 'retailer': 6561, 'l8': 6562, 'keepmy': 6563, 'gnight': 6564, 'pos': 6565, 'unresolved': 6566, '25yrs': 6567, 'tulsa': 6568, 'jfksea': 6569, 'core': 6570, 'config': 6571, 'alas': 6572, 'witty': 6573, 'repartee': 6574, 'cling': 6575, 'spotify': 6576, 'shavon': 6577, 'evn': 6578, 'dayreward': 6579, '9c': 6580, 'denverboston': 6581, '994': 6582, 'bostondenver': 6583, '493': 6584, 'crumbs': 6585, 'eaten': 6586, 'hellomy': 6587, 'invoices': 6588, '3076': 6589, 'incase': 6590, 'logic': 6591, 'poc': 6592, 'nonprofit': 6593, 'organizations': 6594, 'actualy': 6595, 'situationsyour': 6596, 'hostel': 6597, 'fakesnow': 6598, 'misunderstanding': 6599, 'redo': 6600, 'champagne': 6601, 'aa153': 6602, 'ordnrt': 6603, 'flightrfor': 6604, 'unsuitable': 6605, 'govt': 6606, 'incompetenceunderstaffing': 6607, 'compounding': 6608, 'aa1679': 6609, 'successful': 6610, 'thatbut': 6611, 'seatstray': 6612, 'purifier': 6613, 'fiscal': 6614, '4200': 6615, '335': 6616, 'subterfuge': 6617, 'themed': 6618, 'fluid': 6619, 'ua475': 6620, 'gently': 6621, 'whipped': 6622, 'contain': 6623, 'herself': 6624, 'discussing': 6625, 'havana': 6626, 'photography': 6627, 'muchneeded': 6628, 'cri': 6629, 'lgaord': 6630, '711': 6631, 'dca48810m': 6632, 'soooooo': 6633, 'sleepy': 6634, 'considerably': 6635, 'bach': 6636, 'ordgtmsy': 6637, 'obscene': 6638, 'chicagolaxphx': 6639, 'spotting': 6640, 'homefamily': 6641, 'unprecedented': 6642, 'travelpoints': 6643, 'hopin': 6644, 'brink': 6645, 'bankruptcy': 6646, 'ld': 6647, 'flightsrefunds': 6648, 'churchmouse': 6649, 'ltltltltlt': 6650, 'shoddy': 6651, 'whatsoever': 6652, 'mhtt': 6653, 'txtemail': 6654, 'xox': 6655, '1101': 6656, 'crashes': 6657, 'avoiding': 6658, '630am': 6659, 'javascript': 6660, 'stylesheets': 6661, 'checkincorrect': 6662, 'pulls': 6663, '5283': 6664, 'theft': 6665, 'invitation': 6666, 'erewards': 6667, 'pssngrs': 6668, 'assistanceyou': 6669, 'functionally': 6670, '835': 6671, 'streetwise': 6672, 'reverted': 6673, '5minute': 6674, 'stocking': 6675, 'moments': 6676, 'blazer': 6677, 'kooples': 6678, 't3': 6679, 'morninghow': 6680, 'expand': 6681, 'albums': 6682, 'gig': 6683, 'screencap': 6684, 'geez': 6685, 'flt2417': 6686, 'ordlhr': 6687, 'arbitrarily': 6688, 'userperceived': 6689, 'flightncy': 6690, 'bands': 6691, '1644': 6692, 'mislead': 6693, 'aligned': 6694, 'mobay': 6695, 'ampsock': 6696, 'pleeeease': 6697, 'cache': 6698, 'refreshed': 6699, '159': 6700, 'uncle': 6701, 'plane4': 6702, 'steaming': 6703, 'stevie': 6704, '605pm': 6705, '7403607771': 6706, '276': 6707, 'lucas': 6708, 'drives': 6709, 'eager': 6710, 'vision': 6711, 'vancouver': 6712, '655pm': 6713, 'firstboth': 6714, 'appointment': 6715, 'discourteous': 6716, 'authorize': 6717, 'unnoticed': 6718, 'broad': 6719, 'borderline': 6720, 'graded': 6721, 'eqp': 6722, 'unsettling': 6723, 'extraordinary': 6724, 'midnite': 6725, 'cabcelled': 6726, 'geeeeezzzzz': 6727, 'montrose': 6728, 'questionare': 6729, 'onboad': 6730, 'volt': 6731, 'gabriela': 6732, 'employeeworking': 6733, 'mialga': 6734, '86d': 6735, 'advan': 6736, '1080': 6737, 'ua5631': 6738, 'interpreting': 6739, 'sarcastic': 6740, 'madhouse': 6741, 'breavement': 6742, '4565': 6743, 'meit': 6744, 'travelbank': 6745, 'recouping': 6746, 'mqxc64': 6747, 'mpwnc2': 6748, 'subsequently': 6749, 'deceptive': 6750, 'granting': 6751, 'neverflyunited': 6752, 'bff': 6753, 'a380s': 6754, 'ser': 6755, 'chatting': 6756, 'stdby': 6757, 'fligths': 6758, 'crjs': 6759, 'airstairs': 6760, 'valet': 6761, '1020pm': 6762, 'berlin': 6763, 'unprofessionally': 6764, 'checkinbut': 6765, 'centricity': 6766, 'capabilities': 6767, '871': 6768, 'firefox': 6769, 'submits': 6770, 'wmiles': 6771, '50m': 6772, '1tix': 6773, 'toby': 6774, 'instant': 6775, 'awheelchair': 6776, 'lgabwi': 6777, '14am': 6778, 'familiar': 6779, 'waaaaaaiting': 6780, '834': 6781, '3078': 6782, 'foodnothing': 6783, 'thanksare': 6784, 'personallyabout': 6785, 'atlno': 6786, 'vx399': 6787, 'dirtiest': 6788, 'respondingmy': 6789, 'utevgw': 6790, 'cheapest': 6791, '2morrow': 6792, 'compd': 6793, 'xd': 6794, 'barrel': 6795, '600mph': 6796, 'cable': 6797, 'mans': 6798, 'portable': 6799, 'gt1': 6800, 'whichever': 6801, '1907': 6802, 'lgaiah': 6803, 'worseoh': 6804, 'lonflight': 6805, '1534': 6806, 'hep': 6807, '1222': 6808, 'customerservice': 6809, 'surfboard': 6810, 'bqn': 6811, 'lunchtime': 6812, 'robocalls': 6813, 'haa': 6814, 'brent': 6815, '70plus': 6816, '496': 6817, 'humphrey': 6818, 'fitz': 6819, 'bwibos': 6820, 'kybilc': 6821, 'isle': 6822, 'eriord': 6823, 'eriewr': 6824, 'walmart': 6825, 'dismissed': 6826, 'phantom': 6827, 'apeared': 6828, 'bevies': 6829, 'alcohol': 6830, 'suree': 6831, 'outin': 6832, 'helpfulim': 6833, 'cathy': 6834, 'hooking': 6835, 'fidencio': 6836, '2118': 6837, 'pumps': 6838, '42415': 6839, '1131': 6840, '1208': 6841, 'estplatinumeventually': 6842, '1613': 6843, 'coastcoast': 6844, 'amend': 6845, 'ow': 6846, 'emerald': 6847, 'flightsdelays': 6848, 'quickest': 6849, 'silicon': 6850, 'valley': 6851, 'ceos': 6852, 'columbian': 6853, '2ambut': 6854, 'suuuuper': 6855, 'angriest': 6856, 'angstiest': 6857, 'tasha': 6858, 'rage': 6859, 'veterans': 6860, 'mcokeep': 6861, '6yearold': 6862, 'nippon': 6863, 'midwaychicago': 6864, '8thapril': 6865, 'doubtful': 6866, 'mde': 6867, 'memorize': 6868, 'fiveword': 6869, 'phrase': 6870, 'verbally': 6871, 'cussed': 6872, '721': 6873, 'laxmad': 6874, 'booklet': 6875, 'acknowledgement': 6876, '4649': 6877, 'routine': 6878, 'nyt': 6879, 'c29': 6880, 'a18': 6881, 'carts': 6882, 'handicap': 6883, 'discusses': 6884, 'possibilities': 6885, 'nhl': 6886, 'arena': 6887, 'affiliate': 6888, 'noreplycom': 6889, 'filters': 6890, 'dns': 6891, 'admin': 6892, '2062': 6893, 'wailing': 6894, 'travelocity': 6895, 'realizing': 6896, 'mask': 6897, 'instantly': 6898, 'avenue': 6899, 'offensively': 6900, 'particulars': 6901, 'aa953': 6902, 'store': 6903, 'alabama': 6904, '1019': 6905, 'plainly': 6906, 'compmech': 6907, 'aunts': 6908, 'guysfor': 6909, 'truthful': 6910, 'initiated': 6911, 'victoria': 6912, 'structures': 6913, 'reduced': 6914, 'hated': 6915, 'throne': 6916, 'inaccuratemisleading': 6917, 'us2065': 6918, 'duck': 6919, 'md': 6920, 'svu': 6921, 'outward': 6922, 'laxsyd': 6923, 'bummed': 6924, 'satellite': 6925, 'nm': 6926, 'cebu': 6927, 'educational': 6928, 'againlate': 6929, '200trip': 6930, 'touching': 6931, 'ignorant': 6932, '1707': 6933, 'hoom': 6934, 'unrealistic': 6935, 'childridiculous': 6936, 'revers': 6937, 'lane': 6938, 'caren': 6939, '1348': 6940, 'ua381': 6941, 'bored': 6942, 'incurring': 6943, 'sfolaxsalclo': 6944, '1h45m': 6945, 'av': 6946, '2086': 6947, 'cnxns': 6948, 'neveind': 6949, 'ment': 6950, 'effective': 6951, 'surfboardbag': 6952, '4471': 6953, '4827': 6954, 'elm': 6955, 'addressusername': 6956, 'signon': 6957, 'helpbeen': 6958, '1117': 6959, 'barklays': 6960, 'bookin': 6961, 'sarah': 6962, 'stocker': 6963, 'colours': 6964, 'uncontrollably': 6965, 'siberia': 6966, 'misplace': 6967, '1pm1015': 6968, 'ted': 6969, 'mini': 6970, 'mysterious': 6971, '2301': 6972, 'iove': 6973, 'wresos': 6974, 'combative': 6975, 'hury': 6976, 'cheer': 6977, 'bila': 6978, '5080': 6979, 'hopingpraying': 6980, 'goose': 6981, 'labrador': 6982, 'lofty': 6983, 'freejust': 6984, 'hip': 6985, 'sirius': 6986, 'xm': 6987, 'situationagain': 6988, 'followers': 6989, 'soc': 6990, 'okayd': 6991, 'mainline': 6992, 'retweets': 6993, 'overtime': 6994, 'divident': 6995, 'fedora': 6996, 'citing': 6997, 'allergies': 6998, '8oz': 6999, 'benadryl': 7000, 'epipens': 7001, 'unconscionable': 7002, 'relayed': 7003, 'infobag': 7004, 'ri': 7005, '540': 7006, 'comically': 7007, 'strives': 7008, 'centric': 7009, '1415': 7010, 'reassign': 7011, '1152': 7012, 'ltltnow': 7013, 'fuckin': 7014, 'seet': 7015, 'mcogtiad': 7016, 'ihop': 7017, '3xdaily': 7018, '4jun': 7019, 'tripping': 7020, '125k': 7021, '6170': 7022, '4469': 7023, '779': 7024, '38950': 7025, 'hoo': 7026, 'timedout': 7027, 'sharon': 7028, 'saviour': 7029, 'signup': 7030, 'decorum': 7031, 'revisiting': 7032, 'robertsamps1': 7033, 'swift': 7034, 'programming': 7035, 'goddamn': 7036, 'listens': 7037, 'unnerving': 7038, 'dmv': 7039, 'latrice': 7040, 'inappropriately': 7041, '1838': 7042, '1401': 7043, '25a': 7044, 'reseated': 7045, 'belligerent': 7046, 'ranting': 7047, 'flightchange': 7048, 'n33103': 7049, 'taxies': 7050, 'ua26': 7051, 'liberty': 7052, 'ua6357': 7053, 'overcharging': 7054, 'sombrons': 7055, 'arpt': 7056, 'aa2450': 7057, 'jobslose': 7058, 'statusand': 7059, 'transition': 7060, 'nws': 7061, '1851': 7062, '1769': 7063, 'compares': 7064, 'tys': 7065, 'agts': 7066, '4369': 7067, 'wbuses': 7068, 'rookie': 7069, 'thrueverything': 7070, 'rack': 7071, 'latte': 7072, 'anyone40min': 7073, '751': 7074, 'pasta': 7075, 'tastes': 7076, 'consumption': 7077, 'employer': 7078, 'undefined': 7079, 'workingfamily': 7080, 'cgroup': 7081, '905': 7082, 'bked': 7083, 'pty': 7084, 'nationwide': 7085, 'airlinesyour': 7086, '657': 7087, 'candice': 7088, '53': 7089, '305pm': 7090, '322': 7091, '803': 7092, 'honeymooni': 7093, 'bride': 7094, 'lipstick': 7095, '36min': 7096, 'countingphoto': 7097, 'daysplans': 7098, 'aa3490': 7099, 'delaypending': 7100, 'openin': 7101, 'countryshes': 7102, 'marchand': 7103, 'forecasted': 7104, 'unknowledgeable': 7105, 'lifting': 7106, 'spirits': 7107, 'agentbooked': 7108, '2707': 7109, '2212015': 7110, 'sfogtsna': 7111, 'infinity': 7112, 'dwell': 7113, 'encouragement': 7114, 'mistreated': 7115, 'smalls': 7116, 'worrisome': 7117, 'rscheduling': 7118, 'vents': 7119, '1777': 7120, 'clearance': 7121, 'dedicated': 7122, 'engadget': 7123, 'theverge': 7124, 'wired': 7125, 'draws': 7126, 'absurdly': 7127, 'vía': 7128, 'inedible': 7129, 'shrimp': 7130, 'cocktail': 7131, 'built': 7132, 'crossbrowser': 7133, 'gal': 7134, 'hood': 7135, 'noc': 7136, '1491': 7137, 'lining': 7138, 'blind': 7139, 'sharp': 7140, '213': 7141, 'absorb': 7142, 'remained': 7143, 'svcs': 7144, 'slide': 7145, '90mins': 7146, 'texarkana': 7147, '730a': 7148, '1123': 7149, 'lasted': 7150, 'redeeming': 7151, 'brothaaaaaa': 7152, 'comedian': 7153, 'stage': 7154, 'manuel': 7155, 'ua22': 7156, 'warrants': 7157, '67': 7158, 'ampfeel': 7159, 'mismanagement': 7160, 'nyers': 7161, 'ewrord': 7162, '5491': 7163, '5644': 7164, 'connex': 7165, 'n76200': 7166, 'doorclose': 7167, 'drinkssnacks': 7168, 'selfupgraded': 7169, 'oaaret': 7170, 'kelsey': 7171, 'burroughs': 7172, 'rosetta': 7173, '6457': 7174, 'dan': 7175, 'wasappreciated': 7176, 'febs': 7177, 'edition': 7178, '4146': 7179, '32742': 7180, 'tweetin': 7181, 'doin': 7182, 'anythin': 7183, 'wiser': 7184, 'displaced': 7185, 'limbo': 7186, 'stillbut': 7187, 'tks': 7188, 'potus': 7189, 'dvr': 7190, 'scream': 7191, 'charlote': 7192, 'istead': 7193, 'lick': 7194, 'compensates': 7195, 'gangway': 7196, 'massages': 7197, 'stretch': 7198, 'crashedeverywhere': 7199, '5268': 7200, 'horizon': 7201, '3hours': 7202, 'twenty': 7203, '890': 7204, '5136': 7205, 'usvi': 7206, 'staffcust': 7207, 'plse': 7208, 'methe': 7209, 'hungary': 7210, '253': 7211, 'melbourne': 7212, 'straightened': 7213, 'tore': 7214, 'hid': 7215, 'devalued': 7216, 'welllllll': 7217, 'retaining': 7218, 'retweeted': 7219, '2498': 7220, 'investment': 7221, 'worldwide': 7222, '2321': 7223, '1217pm': 7224, 'upc': 7225, 'swimsuits': 7226, 'fs4ve7': 7227, 'nutsamp': 7228, '4302': 7229, 't24': 7230, 'rebookplease': 7231, 'entrusted': 7232, 'gt250k': 7233, 'mojave': 7234, 'demolish': 7235, 'amnt': 7236, 'topdown': 7237, '533': 7238, 'emergencies': 7239, 'sdf': 7240, 'f623': 7241, 'attndt': 7242, 'wrecking': 7243, '1715': 7244, 'tanpa': 7245, 'changesdeval': 7246, 'advisorynow': 7247, 'gohelp': 7248, 'restless': 7249, 'canadaair': 7250, 'lauderdalebogotá': 7251, 'colombian': 7252, 'hasshe': 7253, 'loststolen': 7254, 'farmington': 7255, 'slopes': 7256, 'awaywhy': 7257, 'ressie': 7258, '4285': 7259, 'lasalle': 7260, 'gimme': 7261, 'stmt': 7262, 'surveyemail': 7263, 'gifting': 7264, '375': 7265, '823': 7266, 'uppp': 7267, 'insure': 7268, 'fricken': 7269, 'responsibilityamp': 7270, '240': 7271, 'kms': 7272, 'inpolite': 7273, 'geography': 7274, 'trite': 7275, 'await': 7276, 'kys': 7277, 'bestfriend': 7278, 'dallasfort': 7279, '5320': 7280, 'twa': 7281, 'wigs': 7282, 'achieves': 7283, 'profitability': 7284, 'lostfound': 7285, 'delightful': 7286, 'audition': 7287, 'q2': 7288, 'stamp': 7289, 'rich': 7290, 'westagard': 7291, 'att': 7292, 'nancy': 7293, 'airportheld': 7294, 'eliza': 7295, 'jfkeven': 7296, 'jockeying': 7297, 'flightive': 7298, 'marriage': 7299, 'islands': 7300, '4595': 7301, 'hourslove': 7302, 'pedophile': 7303, '1254': 7304, 'welcomes': 7305, 'ratchet': 7306, 'itboarding': 7307, 'untzlike': 7308, 'interior': 7309, 'faaaannntastic': 7310, 'ua1564': 7311, 'ua4232': 7312, 'pats': 7313, 'wsmall': 7314, 'fehqne': 7315, '21feb15': 7316, 'dcarsw': 7317, 'ua748': 7318, 'reservationwe': 7319, 'corrective': 7320, 'bridges': 7321, 'gatestill': 7322, 'hahah': 7323, '955': 7324, 'stoked': 7325, 'dreadful': 7326, 'pretend': 7327, 'unaccommodating': 7328, 'grrrrrrrr': 7329, 'reposted': 7330, '750pm': 7331, 'revue': 7332, 'virgins': 7333, 'apathy': 7334, 'flycould': 7335, 'sabotaging': 7336, 'waitstill': 7337, 'choppiest': 7338, 'whiplash': 7339, 'boggling': 7340, 'demoted': 7341, 'goldsdiscriminationangry': 7342, 'dcadsm': 7343, 'valued': 7344, 'building': 7345, 'va370': 7346, 'bowl': 7347, 'powers': 7348, 'miracles': 7349, 'gt30': 7350, 'coathanging': 7351, 'talent': 7352, 'porn': 7353, 'dungeon': 7354, 'boardingpass': 7355, '1035': 7356, '920': 7357, 'tied': 7358, 'proposal': 7359, '27th': 7360, 'gala': 7361, 'boundless': 7362, 'pissing': 7363, 'lift': 7364, '1130am': 7365, '1001pm': 7366, '22214': 7367, 'fistfights': 7368, 'txting': 7369, 'greenfield': 7370, 'reporter': 7371, 'jfksfo': 7372, 'towed': 7373, 'corrupt': 7374, '2851': 7375, '336': 7376, 'recvd': 7377, 'sucksi': 7378, '40k': 7379, 'tckt': 7380, '3403': 7381, 'rec': 7382, 'affects': 7383, 'vacancies': 7384, 'ws': 7385, 'milwaukee': 7386, 'circles': 7387, 'sitecomplicated': 7388, 'ordering': 7389, 'huston': 7390, 'commitments': 7391, '8d': 7392, 'incls': 7393, 'airlinegave': 7394, 'multimillion': 7395, 'tracing': 7396, 'turquoise': 7397, '5302': 7398, '551': 7399, '620still': 7400, 'aa1657': 7401, 'thier': 7402, 'lusaka': 7403, 'zambia': 7404, 'redeye': 7405, 'teamim': 7406, 'a9': 7407, 'ua276': 7408, 'sked': 7409, 'shades': 7410, 'ed': 7411, '1030a': 7412, '400a': 7413, 'rigorous': 7414, 'marys': 7415, 'dishonest': 7416, 'robbing': 7417, 'mtn': 7418, 'stains': 7419, 'extending': 7420, 'creditwhats': 7421, 'ltaljx': 7422, 'breathe': 7423, 'undelay': 7424, 'exboyfriend': 7425, 'flightedflight': 7426, 'teeth': 7427, 'ua1127': 7428, 'ua1616': 7429, 'lagging': 7430, 'stream': 7431, 'menus': 7432, 'encounter': 7433, 'outright': 7434, 'shhhh': 7435, 'dallasaustin': 7436, '889': 7437, 'ketr': 7438, 'slides': 7439, 'taxiway': 7440, 'tulsanot': 7441, 'servicelooks': 7442, 'aa3688': 7443, 'weigh': 7444, 'conveyor': 7445, 'depot': 7446, 'overflowed': 7447, 'sprawled': 7448, 'dunkin': 7449, 'donuts': 7450, 'hazard': 7451, 'rubbed': 7452, 'anticipating': 7453, '410': 7454, 'trivia': 7455, '0736': 7456, 'connecticut': 7457, 'ua3882': 7458, 'crewe': 7459, 'deeply': 7460, 'mere': 7461, 'velour': 7462, 'showentered': 7463, 'helpcomplaint': 7464, 'applies': 7465, 'lin': 7466, 'gem': 7467, 'gears': 7468, 'grinding': 7469, 'muscles': 7470, 'frown': 7471, 'flyin': 7472, 'availableyour': 7473, 'ux': 7474, 'flow': 7475, 'situations': 7476, 'trial': 7477, 'unfollow': 7478, 'reschedules': 7479, '2hr15min': 7480, 'lock': 7481, 'olympic': 7482, 'selves': 7483, 'influx': 7484, 'mgmt': 7485, 'seek': 7486, 'unmoving': 7487, 'julian': 7488, 'unaccomidating': 7489, 'bpdfpp': 7490, 'barzegar': 7491, 'euros': 7492, 'tent': 7493, 'village': 7494, 'fwa': 7495, 'substantial': 7496, 'blacked': 7497, 'platter': 7498, 'abundance': 7499, 'frontend': 7500, 'backend': 7501, 'european': 7502, 'fabrice': 7503, '540pm': 7504, 'pins': 7505, '494': 7506, '745': 7507, '815': 7508, 'thu': 7509, 'uninformed': 7510, 'unapologetic': 7511, 'ducttaped': 7512, 'inspiring': 7513, 'brooklyn': 7514, 'bone': 7515, 'wsomeone': 7516, 'okayim': 7517, 'avatars': 7518, 'kitty': 7519, 'disproportionate': 7520, 'smell': 7521, 'inampdidnt': 7522, 'undelayed': 7523, 'sprint': 7524, 'iceday': 7525, 'reload': 7526, 'onlineuseless': 7527, 'jax2bna': 7528, 'bypass': 7529, 'inputted': 7530, 'qualification': 7531, 'iahmnl': 7532, '411541715': 7533, 'advertised': 7534, '1038': 7535, 'bookable': 7536, 'unanswered': 7537, 'yayayay': 7538, 'seeking': 7539, 'fhk2te': 7540, '8hh4p2': 7541, '2416': 7542, 'orlandoridiculous': 7543, 'norway': 7544, 'shrugging': 7545, 'timemoney': 7546, 'poop': 7547, 'tbd': 7548, 'usd': 7549, 'quotations': 7550, 'luved': 7551, '372': 7552, 'ramps': 7553, '5141': 7554, 'tarmacthanks': 7555, 'apostrophe': 7556, 'surname': 7557, '1798': 7558, 'clarify': 7559, '320': 7560, 'doubled': 7561, 'inquiring': 7562, 'punished': 7563, '2147251966': 7564, 'waitlol': 7565, '356': 7566, '26th': 7567, 'sarcastically': 7568, 'bops': 7569, 'newspaper': 7570, 'clunky': 7571, 'happenedwhat': 7572, 'rescued': 7573, 'blacklist': 7574, '1857': 7575, '5182': 7576, 'retrain': 7577, '3837': 7578, 'itenary': 7579, 'heckbooked': 7580, 'marty': 7581, 'prepurchase': 7582, 'lovegratitudempower': 7583, 'werin': 7584, 'vipswagbags': 7585, 'tedious': 7586, 'vote': 7587, 'destn': 7588, '59way': 7589, 'prevented': 7590, 'ua3782': 7591, '17mph': 7592, 'sfogtbos': 7593, 'competitively': 7594, '179': 7595, '324': 7596, 'ohing': 7597, 'jackass': 7598, 'metars': 7599, 'tempting': 7600, 'cluecould': 7601, 'rollerboards': 7602, 'art': 7603, 'prompted': 7604, 'doubletriple': 7605, 'abbreve': 7606, 'auction': 7607, 'postmasters': 7608, 'invitational': 7609, 'milage': 7610, 'delayednot': 7611, 'passengersdont': 7612, 'mccarran': 7613, 'c16': 7614, 'dcaewr': 7615, 'il': 7616, 'centerl': 7617, 'possessions': 7618, 'ensured': 7619, '455': 7620, 'functional': 7621, 'digit': 7622, '407': 7623, 'nationalized': 7624, 'nations': 7625, 'fwhei6': 7626, 'recordings': 7627, 'yyzua70435': 7628, '2y': 7629, 'constructive': 7630, 'criticism': 7631, 'ua5029': 7632, 'ua507': 7633, 'ua423': 7634, 'sides': 7635, 'roomsthat': 7636, 'phonenot': 7637, 'thanksseat': 7638, 'flightsyearmy': 7639, 'jokers': 7640, 'constitution': 7641, 'declaration': 7642, 'independence': 7643, 'navy': 7644, '10x': 7645, 'continentals': 7646, 'feat': 7647, 'terminology': 7648, 'brings': 7649, 'verbiage': 7650, '2559': 7651, '855': 7652, '9000': 7653, 'electric': 7654, 'skateboard': 7655, 'wiil': 7656, 'op': 7657, 'passenegers': 7658, 'jorge': 7659, 'overbookedgng': 7660, 'destfeel': 7661, 'bec': 7662, 'erring': 7663, 'sev': 7664, '2k': 7665, '2mins': 7666, 'wishing': 7667, 'folk': 7668, 'argueing': 7669, '5163': 7670, '6so': 7671, '3751': 7672, 'flightrexcept': 7673, 'wfares': 7674, '39way': 7675, 'exits': 7676, 'wonked': 7677, 'clusterfucks': 7678, 'complainers': 7679, 'inperson': 7680, 'robyn': 7681, 'approproately': 7682, 'hinted': 7683, 'abandonment': 7684, '6212massive': 7685, 'lmfaooooo': 7686, 'seemless': 7687, 'mdwfll': 7688, 'marsha': 7689, 'myrtle': 7690, 'fouryrolds': 7691, 'capn': 7692, 'separating': 7693, 'delaykilling': 7694, 'chicagos': 7695, 'suffer': 7696, 'extent': 7697, 'depending': 7698, 'determination': 7699, 'liza': 7700, 'supported': 7701, 'sa': 7702, 'gladys': 7703, 'es': 7704, 'amiga': 7705, 'assure': 7706, '3618': 7707, 'structure': 7708, 'diminishes': 7709, 'certs': 7710, 'scandal': 7711, '950am': 7712, 'dallasnext': 7713, '21415': 7714, 'expanding': 7715, '670': 7716, 'lh7631': 7717, '21215': 7718, 'selecting': 7719, 'needlessly': 7720, 'gum': 7721, 'earphone': 7722, 'api': 7723, 'deficiency': 7724, 'teaampnot': 7725, 'airtran': 7726, 'q4vnmb': 7727, 'emailcall': 7728, 'cmhiad': 7729, 'bagcould': 7730, 'negatively': 7731, 'affect': 7732, 'integrity': 7733, 'bossju': 7734, '519': 7735, 'qualified': 7736, 'scratching': 7737, 'versace': 7738, 'biceps': 7739, 'overheads': 7740, 'mty': 7741, 'devastated': 7742, 'protected': 7743, 'kerry': 7744, 'shattered': 7745, 'fl382': 7746, '2238': 7747, 'd6': 7748, 'a15': 7749, 'sameday': 7750, 'salisbury': 7751, 'ua1516': 7752, 'stupidly': 7753, '4097': 7754, 'ua3774': 7755, 'renting': 7756, 'amp250': 7757, 'sand': 7758, 'inbrowser': 7759, 'hover': 7760, 'intrusive': 7761, 'firm': 7762, 'flight424': 7763, 'comedic': 7764, 'othr': 7765, 'playlist': 7766, 'ahoy': 7767, '904': 7768, 'princess': 7769, 'tweak': 7770, 'skip': 7771, 'rating': 7772, 'mait': 7773, 'formality': 7774, 'rudelyreturning': 7775, 'reader': 7776, 'equals': 7777, 'grandmothers': 7778, 'cabine': 7779, 'sao': 7780, 'placedranked': 7781, 'smallerthinner': 7782, 'flightu': 7783, 'wifey': 7784, 'vday': 7785, 'keeper': 7786, 'holla': 7787, 'mikehertz7com': 7788, 'amazingly': 7789, 'cocktailor': 7790, 'presenting': 7791, 'impressions': 7792, 'funerals': 7793, 'plundering': 7794, 'hardearned': 7795, '5012': 7796, '5559': 7797, 'yyc': 7798, 'lightbulb': 7799, 'subscription': 7800, '802': 7801, 'aaaand': 7802, '6amstuck': 7803, 'hotelhows': 7804, 'citystrangeand': 7805, 'prospective': 7806, 'schools': 7807, 'customary': 7808, 'impersonal': 7809, 'impatient': 7810, 'swfollowed': 7811, 'usxlon': 7812, '521': 7813, '522': 7814, 'laps': 7815, '20years': 7816, '55min': 7817, 'us755aa2595': 7818, '2595': 7819, 'nonrefundable': 7820, 'fraction': 7821, 'graders': 7822, 'science': 7823, '94': 7824, 'workforces': 7825, '325': 7826, 'hoursi': 7827, '58pm': 7828, 'russ': 7829, 'anarchy': 7830, 'battle': 7831, 'nytimes': 7832, 'ua647': 7833, 'improper': 7834, 'gills': 7835, 'rtbgtiah': 7836, 'cigarettes': 7837, 'stbernard': 7838, 'managers': 7839, 'consoled': 7840, 'leathery': 7841, 'pho': 7842, 'bosbna': 7843, 'delayconsequence': 7844, '4124': 7845, 'ontarmac': 7846, '1881': 7847, 'donaldaroberts1com': 7848, 'frontrunner': 7849, 'buzz': 7850, '10mins': 7851, '235pm': 7852, 'usdelayways': 7853, 'my8yb4': 7854, 'clarita': 7855, 'jaramillo': 7856, 'mejia': 7857, 'twist': 7858, 'unsecured': 7859, 'a60': 7860, '3107952210': 7861, 'creating': 7862, 'iti': 7863, 'maps': 7864, 'electronics': 7865, 'aa215': 7866, 'behaves': 7867, 'unannounced': 7868, 'rn': 7869, 'gt60': 7870, 'thoughtful': 7871, 'malaysia': 7872, '0011': 7873, '80055558000': 7874, 'kuala': 7875, 'lumpur': 7876, 'swear': 7877, 'dildo': 7878, 'kangaroos': 7879, 'ua3576': 7880, 'ray': 7881, '736': 7882, '405': 7883, 'erie': 7884, 'jaipur': 7885, 'dehli': 7886, 'multicity': 7887, '1of': 7888, 'ump': 7889, '0162424965446': 7890, '192': 7891, 'rndtrp': 7892, '43055': 7893, 'itis': 7894, 'aged': 7895, 'internally': 7896, 'froward': 7897, 'slammed': 7898, 'advisoryreally': 7899, 'achieve': 7900, '21515': 7901, 'bufclt': 7902, 'flight1407': 7903, 'vocab': 7904, 'ua1459': 7905, 'hughes': 7906, 'automobiles': 7907, 'edinburgh': 7908, '50min': 7909, '6amp8': 7910, 'registering': 7911, 'mag': 7912, 'laflying': 7913, 'reiterate': 7914, '691': 7915, 'iiiii': 7916, '275': 7917, 'tap': 7918, 'hiccups': 7919, 'pleeeeease': 7920, 'pits': 7921, 'meanit': 7922, 'fib': 7923, 'que': 7924, 'loudly': 7925, 'throug': 7926, 'dimmed': 7927, 'weekly': 7928, 'dump': 7929, 'voucherconfirmation': 7930, 'checkout': 7931, '4491': 7932, 'ewrfll': 7933, 'unclear': 7934, '1person': 7935, 'rockys': 7936, 'bdng': 7937, 'freddie': 7938, 'sibling': 7939, 'steamboat': 7940, 'cld': 7941, 'mk': 7942, 'cultural': 7943, 'appropriation': 7944, 'versa': 7945, 'shanese': 7946, 'bryantmelton': 7947, 'grandmother': 7948, 'wiggle': 7949, 'daysits': 7950, 'listened': 7951, 'diamond': 7952, 'ua688': 7953, 'sympathize': 7954, 'reweather': 7955, '4minute': 7956, 'ewrsti': 7957, '35a': 7958, 'betting': 7959, 'paseengers': 7960, '0510': 7961, 'santo': 7962, 'domingo': 7963, '9hrs': 7964, 'timenot': 7965, '1337': 7966, '1316': 7967, 'nawww': 7968, 'lugging': 7969, 'tests': 7970, 'chemistry': 7971, 'howdy': 7972, 'erroring': 7973, 'hired': 7974, 'fist': 7975, 'bumphigh': 7976, 'shuttles': 7977, 'flightsand': 7978, 'phrased': 7979, '25m': 7980, 'superb': 7981, 'glitches': 7982, 'localized': 7983, 'copypaste': 7984, 'ua5025': 7985, 'makers': 7986, 'mindset': 7987, '2wks': 7988, 'flightledrebooked': 7989, 'daydelayed': 7990, 'sby': 7991, 'customersyou': 7992, 'howabout': 7993, 'ar': 7994, '277': 7995, 'tke': 7996, 'aa223': 7997, 'sloooooow': 7998, 'congested': 7999, 'dissapointing': 8000, 'shotwest': 8001, 'inclusion': 8002, 'marry': 8003, 'lamp': 8004, 'desperate': 8005, 'drivers': 8006, 'grief': 8007, '0400': 8008, 'gnvltltltfsd': 8009, '219221': 8010, 'offenders': 8011, 'conversational': 8012, 'exiting': 8013, 'inline': 8014, 'w2': 8015, 'insensitive': 8016, 'lifethreatening': 8017, 'unsolicited': 8018, 'uneducated': 8019, 'opinions': 8020, 'reckless': 8021, 'dangerous': 8022, '4663': 8023, 'vacationing': 8024, 'denise': 8025, '5721': 8026, 'pitiad': 8027, 'c130': 8028, 'unreasonable': 8029, 'laughed': 8030, 'transcontinental': 8031, '72h': 8032, 'pleasurerelief': 8033, '10f': 8034, '1510': 8035, 'referencing': 8036, 'alb': 8037, 'millions': 8038, '8uxzj2': 8039, 'napkins': 8040, 'flt1533': 8041, 'carta': 8042, 'uphold': 8043, 'taxes': 8044, 'frowny': 8045, '940pm': 8046, 'sidewhy': 8047, 'worn': 8048, 'diet': 8049, 'cokenice': 8050, 'bizness': 8051, 'tara': 8052, 'joanne': 8053, 'phenomenal': 8054, 'intel': 8055, 'bizarre': 8056, 'focus': 8057, 'aprilmay': 8058, 'peanutsnuts': 8059, 'contradictory': 8060, 'callah': 8061, '901': 8062, 'representing': 8063, 'alistey': 8064, 'guru': 8065, 'resending': 8066, 'origami': 8067, 'quarter': 8068, 'logistically': 8069, 'expeditious': 8070, 'mentioning': 8071, 'mortified': 8072, 'acted': 8073, 'machines': 8074, '1581': 8075, 'invoice': 8076, 'delayedcancelled': 8077, 'blackmailed': 8078, 'nullified': 8079, 'lagos': 8080, 'nigeria': 8081, 'ou': 8082, 'ordealsigh': 8083, 'nastiest': 8084, 'yesterdayrubber': 8085, 'slime': 8086, 'backfas': 8087, 'pto': 8088, 'packages': 8089, '1706': 8090, 'nondelayed': 8091, 'ua90': 8092, '2030': 8093, 'spoil': 8094, 'cdglas': 8095, 'transpacific': 8096, '4553': 8097, '1f': 8098, 'impolite': 8099, 'callbag': 8100, 'justifiable': 8101, 'soured': 8102, 'measles': 8103, 'outbreak': 8104, 'sexy': 8105, 'tattoo': 8106, 'ua6': 8107, '1562': 8108, 'marcus': 8109, 'unavailableto': 8110, 'dtwase': 8111, 'potatoes': 8112, 'portfolio': 8113, '9143290185': 8114, 'married': 8115, 'rebookedarrived': 8116, 'aging': 8117, 'occasion': 8118, 'hurts': 8119, 'trbl': 8120, 'sway': 8121, 'bmi': 8122, 'blanket': 8123, 'i6ep18': 8124, 'lgafllpoor': 8125, 'cave': 8126, 'hotter': 8127, 'sfoyyj': 8128, 'crackerjack': 8129, 'unpredictable': 8130, 'exasperating': 8131, 'undergoing': 8132, 'hahayeah': 8133, 'spends': 8134, 'immensely': 8135, 'brooding': 8136, 'fllgtsfo': 8137, 'meetingsinterviews': 8138, 'outpost': 8139, 'lucia': 8140, 'antigua': 8141, 'ebook': 8142, 'reinstating': 8143, 'kosher': 8144, 'strip': 8145, 'backattempt': 8146, 'personable': 8147, '1136': 8148, 'gettin': 8149, 'fancy': 8150, 'distressed': 8151, 'pointed': 8152, 'startling': 8153, 'himself': 8154, 'conversed': 8155, 'appropriately': 8156, 'lolol': 8157, 'responsiveness': 8158, '4720': 8159, 'statuswill': 8160, 'rotten': 8161, 'dale': 8162, 'boot': 8163, 'aa1401': 8164, '855pm': 8165, 'fwwe7f': 8166, 'ant': 8167, 'phoneonline': 8168, 'resting': 8169, 'elbows': 8170, 'seatmate': 8171, 'retroactively': 8172, 'flightsmilespoints': 8173, 'patriarc': 8174, 'excruciatingly': 8175, '2160': 8176, '1030pm': 8177, '5530': 8178, 'retrieved': 8179, '122322': 8180, 'spin': 8181, 'vetr': 8182, 'inc': 8183, 'translation': 8184, 'reinvest': 8185, 'squashed': 8186, 'stupidity': 8187, 'laura': 8188, 'shortlycb': 8189, '1170': 8190, 'guidance': 8191, 'published': 8192, 'paradise': 8193, 'costwhy': 8194, 'c14': 8195, '1791': 8196, 'ranging': 8197, 'enters': 8198, 'deteriorating': 8199, 'assurances': 8200, 'potential': 8201, 'acting': 8202, 'shortshorts': 8203, 'mumbled': 8204, 'akron': 8205, 'wbroken': 8206, 'witness': 8207, 'bounce': 8208, 'walls': 8209, 'familys': 8210, 'approximate': 8211, 'simplify': 8212, 'visors': 8213, '1530': 8214, 'busiest': 8215, 'cents': 8216, 'adress': 8217, 'terriblebeen': 8218, 'brushing': 8219, 'buys': 8220, 'burned': 8221, '3387': 8222, 'hopped': 8223, '1mnth': 8224, 'bcs': 8225, 'additonal': 8226, 'rising': 8227, 'bitchy': 8228, 'e36': 8229, 'groan': 8230, 'notfriendly': 8231, 'winclement': 8232, '3739': 8233, '3611': 8234, '510pm': 8235, '734pm': 8236, 'oveur': 8237, 'murdock': 8238, '4828': 8239, 'marshall': 8240, '3349': 8241, 'manana': 8242, '2208': 8243, 'clewould': 8244, 'a20': 8245, 'aimed': 8246, 'satisfy': 8247, 'nanosmattering': 8248, 'whispering': 8249, 'pointing': 8250, 'struts': 8251, 'nozzle': 8252, 'calibrated': 8253, 'dorns': 8254, 'tooooo': 8255, 'command': 8256, 'resorting': 8257, 'afterward': 8258, 'preventative': 8259, '3709': 8260, 'unforeseeable': 8261, 'senses': 8262, 'diffused': 8263, 'applications': 8264, 'positions': 8265, 'airportwide': 8266, 'unlucky': 8267, 'fridgethat': 8268, 'dorm': 8269, 'w25': 8270, 'travis': 8271, 'stink': 8272, 'yummy': 8273, 'xtra': 8274, '1642': 8275, 'heyyyy': 8276, 'guyyyys': 8277, 'onlineapp': 8278, 'employeeslack': 8279, 'ute': 8280, 'dulleswashington': 8281, '763s': 8282, 'dfword': 8283, 'alittle': 8284, 'evolved': 8285, 'horrific': 8286, '730pmtold': 8287, '150am': 8288, 'helpinfo': 8289, 'laxshe': 8290, 'drag': 8291, 'markets': 8292, 'bureau': 8293, 'maui': 8294, 'misspelled': 8295, 'sports': 8296, 'unloading': 8297, 'writes': 8298, 'hormonal': 8299, 'teenager': 8300, 'manufactured': 8301, 'quirkiness': 8302, 'mmm': 8303, 'captiveaudience': 8304, 'trials': 8305, 'delyd': 8306, 'lasden': 8307, 'hamsters': 8308, 'rabbits': 8309, 'z1': 8310, 'proceeded': 8311, 'underway': 8312, 'query': 8313, 'scrum': 8314, '528': 8315, 'gagent': 8316, 'danny': 8317, 'us628': 8318, 'dfwclt': 8319, 'irrops': 8320, 'thaiairways': 8321, 'thai': 8322, 'acts': 8323, 'dkyde6': 8324, '4583gt36': 8325, '3636gt606gt36': 8326, '4404gt36': 8327, 'banning': 8328, 'allergic': 8329, 'pnut': 8330, 'dust': 8331, 'slogan': 8332, 'toiletries': 8333, 'losers': 8334, 'snowfall': 8335, 'uggh': 8336, 'wmass': 8337, 'ua7985': 8338, 'coshared': 8339, 'multix': 8340, 'wheelchairs': 8341, 'narrower': 8342, 'bloated': 8343, 'wholly': 8344, 'shucks': 8345, 'deceiving': 8346, 'reprehensible': 8347, 'onafter': 8348, 'aa1344': 8349, '623544': 8350, 'intelligent': 8351, 'microsecond': 8352, 'multimedia': 8353, 'kickin': 8354, 'plains': 8355, 'whereabouts': 8356, 'greeeaat': 8357, '337': 8358, 'measurements': 8359, 'tia': 8360, 'billed': 8361, 'nose': 8362, 'bwiboston': 8363, 'fixedcertain': 8364, 'tracks': 8365, 'mashing': 8366, 'tones': 8367, 'themestimated': 8368, 'ccwhy': 8369, 'rumors': 8370, 'tvmovie': 8371, 'installing': 8372, 'absoulutely': 8373, 'ua6465': 8374, 'manbut': 8375, 'thisor': 8376, '2600': 8377, 'horriblewent': 8378, 'button4thatcalled': 8379, 'ampwait': 8380, 'minsampput': 8381, '800ampit': 8382, 'hungupnohelp': 8383, 'detailsu': 8384, 'hn': 8385, 'ua1130': 8386, 'servicehaving': 8387, 'systemic': 8388, '15369214203': 8389, 'disallows': 8390, 'stucked': 8391, 'flightsairports': 8392, 'bwiewrmco': 8393, 'captured': 8394, 'brittany': 8395, '3m': 8396, 'pri': 8397, 'opsec': 8398, '1k2mm': 8399, 'airlinehave': 8400, 'yestwicefor': 8401, 'brandi': 8402, 'zabsonre': 8403, 'delight': 8404, 'fcking': 8405, 'annamarie': 8406, 'norris': 8407, 'recognized': 8408, '0600': 8409, 'cmhord': 8410, '0638': 8411, 'chargersclothescoatcontact': 8412, 'lenses': 8413, 'consultant': 8414, '100s': 8415, 'luvin': 8416, 'f38ish': 8417, 'herbal': 8418, 'drinker': 8419, 'gah': 8420, 'disorganised': 8421, 'lister': 8422, 'aa3390': 8423, '425pm': 8424, 'clehelp': 8425, '52': 8426, 'hourhope': 8427, 'relying': 8428, '716': 8429, '348': 8430, 'geraghty': 8431, 'brag': 8432, '1669': 8433, '3781': 8434, '1217': 8435, 'amateur': 8436, 'nikon': 8437, 'nonprofits': 8438, 'exclusive': 8439, 'zones': 8440, 'onlinewas': 8441, 'pqms': 8442, 'pqds': 8443, 'disservice': 8444, 'will1531': 8445, 'downnnnn': 8446, 'himy': 8447, 'assistants': 8448, 'emphasize': 8449, 'vape': 8450, 'disciplined': 8451, 'manifests': 8452, 'sep': 8453, 'f3kxb8': 8454, 'tree': 8455, 'unsure': 8456, '2020': 8457, 'newest': 8458, '1235ordlga': 8459, 'ua1266': 8460, 'timeand': 8461, 'seatback': 8462, 'ua1260': 8463, 'complaintquestions': 8464, 'hogs': 8465, '11c': 8466, 'itineraryconfirmation': 8467, 'bully': 8468, 'mentality': 8469, 'fostering': 8470, 'inspiration': 8471, 'phxphl': 8472, 'pointy': 8473, '1050am': 8474, 'tmm': 8475, 'caching': 8476, 'preferences': 8477, '863': 8478, '757300': 8479, 'laxwhen': 8480, 'planesplane': 8481, 'screenslousy': 8482, 'ticks': 8483, 'acquired': 8484, 'kravitz': 8485, 'trublue': 8486, 'answeringdont': 8487, 'missingstollen': 8488, 'anyones': 8489, 'reliablefriendly': 8490, 'repexper': 8491, 'steering': 8492, 'baggageridiculous': 8493, 'ito': 8494, 'teamagain': 8495, 'nickeled': 8496, 'stonewalled': 8497, 've': 8498, 'percentage': 8499, 'yout': 8500, 'sectionturn': 8501, 'aisles': 8502, 'tricities': 8503, 'famous': 8504, 'fifty': 8505, 'regard': 8506, 'expressing': 8507, '526': 8508, 'kisses': 8509, 'snacksthank': 8510, 'maltese': 8511, 'puppy': 8512, '1384': 8513, '1544': 8514, 'burgundy': 8515, '27d': 8516, 'wentook3': 8517, '1274': 8518, 'unproductive': 8519, 'to1030': 8520, 'ua1429': 8521, 'entertained': 8522, 'gtgt': 8523, '1228': 8524, 'minwow': 8525, 'rockers': 8526, 'knock': 8527, 'volumecan': 8528, 'lekvhg': 8529, 'lindsay': 8530, 'chantilly': 8531, '1046': 8532, 'saddening': 8533, 'doctor': 8534, 'tomorro': 8535, 'languages': 8536, 'latinamerican': 8537, 'knowexpect': 8538, 'leakingwhats': 8539, 'stops': 8540, 'tk': 8541, 'spk': 8542, 'aa1061': 8543, 'spvsr': 8544, 'overcharged': 8545, 'ua1619': 8546, 'outlook': 8547, 'secondary': 8548, 'screenings': 8549, 'acknowledgment': 8550, '0372389047497': 8551, 'yow': 8552, 'yxu': 8553, 'longterm': 8554, 'issuenot': 8555, 'skibootbag': 8556, 'persisting': 8557, '25oct': 8558, '1447': 8559, 'n351jb': 8560, 'westchester': 8561, 'republic': 8562, 'cousins': 8563, 'validity': 8564, 'disappearing': 8565, 'classiq': 8566, 'greetingz': 8567, 'reevaluate': 8568, 'accumulation': 8569, '1055pm': 8570, '882': 8571, 'podium': 8572, 'inquired': 8573, 'sauvignon': 8574, 'blanc': 8575, 'pronounce': 8576, 'airspace': 8577, 'jkf': 8578, '24951170': 8579, '1229': 8580, 'wconnection': 8581, '1120am': 8582, 'emptied': 8583, 'nightyour': 8584, 'overchging': 8585, 'bg': 8586, 'herded': 8587, 'cattle2slaughter': 8588, '9hours': 8589, 'incidentally': 8590, 'sheila': 8591, '1242': 8592, '0530': 8593, 'ultimately': 8594, 'bicycle': 8595, 'bike': 8596, 'fla': 8597, 'involuntarily': 8598, 'virtual': 8599, 'boooo': 8600, 'mp': 8601, 'insurance': 8602, 'ua3710': 8603, 'todaythis': 8604, 'abi': 8605, 'pmcan': 8606, 'airports1st': 8607, 'flexes': 8608, 'lessening': 8609, 'parts': 8610, 'belabor': 8611, 'pointbut': 8612, '689': 8613, 'moveup': 8614, 'todayno': 8615, 'gjqx6j': 8616, 'a587cw': 8617, 'lex': 8618, 'unserved': 8619, 'hasty': 8620, 'unwise': 8621, 'pushback': 8622, 'plows': 8623, 'versus': 8624, '3500pts': 8625, 'partnerrewards': 8626, 'dishonoring': 8627, 'faves': 8628, 'ua125': 8629, 'dons': 8630, 'aadavantage': 8631, 'accidents': 8632, 'ktm': 8633, 'reveals': 8634, 'travelpulse': 8635, 'tixs': 8636, '15yr': 8637, '102': 8638, '74': 8639, 'rainy': 8640, 'lynchburg': 8641, 'orl': 8642, 'char': 8643, '1amp2': 8644, 'noooooooooooooooooooooope': 8645, 'totaled': 8646, 'nght': 8647, 'flightedmechprobs': 8648, 'flightedsnow': 8649, 'cls': 8650, 'wise': 8651, 'communicationdetails': 8652, 'jburg': 8653, 'skypewell': 8654, 'tools': 8655, 'minenow': 8656, 'surfer': 8657, 'cltnyc': 8658, 'notion': 8659, 'actively': 8660, 'correlate': 8661, '8hrs': 8662, 'wylie': 8663, 'ua863': 8664, 'rtn': 8665, 'noworse': 8666, 'headphonesbut': 8667, 'expansion': 8668, 'mpls': 8669, 'inquiries': 8670, 'prison': 8671, '6delays': 8672, 'miamiphl': 8673, 'twitteremailweb': 8674, '4411': 8675, 'nh10': 8676, '5713': 8677, '3277': 8678, 'ticketeven': 8679, 'neededwhy': 8680, 'whod': 8681, 'bearable': 8682, 'd9': 8683, 'miscalculation': 8684, 'rly': 8685, '830a': 8686, '9a': 8687, '930a': 8688, '1130a': 8689, '1318': 8690, 'unheard': 8691, 'americans': 8692, 'ecuador': 8693, 'levels': 8694, 'realistically': 8695, 'lufthansa': 8696, 'multi': 8697, 'austinbergstrom': 8698, 'lanes': 8699, 'flighthis': 8700, 'evv': 8701, 'lieflat': 8702, 'conflict': 8703, 'erased': 8704, 'endlessly': 8705, 'dimensions': 8706, 'ringling': 8707, 'barnum': 8708, 'bailey': 8709, 'peeled': 8710, 'miamii': 8711, 'itthen': 8712, 'margo': 8713, 'houstons': 8714, 'intercontinental': 8715, 'itin': 8716, 'surveys': 8717, 'quintana': 8718, 'roo': 8719, 'newly': 8720, '614': 8721, 'reassess': 8722, 'surliness': 8723, 'sgf': 8724, '106': 8725, 'protocols': 8726, 'contracts': 8727, 'ack': 8728, 'grouping': 8729, 'reviewing': 8730, 'hardcase': 8731, 'golfbags': 8732, 'instruments': 8733, 'daysno': 8734, 'usairway': 8735, '1151': 8736, 'bounces': 8737, 'delayedagainevery': 8738, 'infanttoddler': 8739, 'ua922': 8740, '29115': 8741, '10215': 8742, 'bool': 8743, 'niggaz': 8744, 'communicating': 8745, 'for40': 8746, 'for4': 8747, 'ams': 8748, 'downright': 8749, 'hostile': 8750, 'rnp': 8751, 'numberthe': 8752, 'tracker': 8753, 'tripitpro': 8754, 'teen': 8755, 'pereira': 8756, 'cartago': 8757, 'streets': 8758, 'awaynow': 8759, 'concrete': 8760, 'snuck': 8761, 'cookie': 8762, 'organizational': 8763, 'mdwsan': 8764, 'websites': 8765, 'spectacular': 8766, 'lhrdfw': 8767, '604': 8768, '1278': 8769, 'bsuxlu': 8770, '5lbs': 8771, '1427': 8772, '333': 8773, 'frustratingly': 8774, 'replyour': 8775, 'brokeni': 8776, '781': 8777, '879': 8778, '4505': 8779, 'fjbfsc': 8780, '77620': 8781, '656xx': 8782, 'winstonsalem': 8783, 'pastor': 8784, 'homeschool': 8785, 'spirited': 8786, 'prefundia': 8787, 'yer': 8788, 'nycgtpdx': 8789, 'nycgtpghwish': 8790, 'swair': 8791, 'tortured': 8792, 'assisted': 8793, 'unanticipated': 8794, 'overfilled': 8795, '87': 8796, '43rd': 8797, 'uhmmm': 8798, 'dallastx': 8799, 'trashy': 8800, 'stowaway': 8801, 'guns': 8802, 'excitement': 8803, 'programmers': 8804, 'announcing': 8805, '2426': 8806, 'activate': 8807, 'surf': 8808, 'expedia': 8809, 'usaw': 8810, 'responsivethoughts': 8811, 'cal': 8812, 'earliest': 8813, 'h2o': 8814, '1797': 8815, 'dooronly': 8816, 'fuelamplikely': 8817, 'destroying': 8818, 'lively': 8819, 'hug': 8820, 'crickets': 8821, 'screaming': 8822, 'thnk': 8823, 'responseall': 8824, 'wother': 8825, '4001': 8826, '1215pm': 8827, 'nudgenudge': 8828, '1180': 8829, 'ua6255': 8830, 'ua1059': 8831, 'willmake': 8832, 'communist': 8833, 'misconnected': 8834, 'siteits': 8835, 'correctness': 8836, 'behalf': 8837, 'laughedhard': 8838, '730am': 8839, 'posting': 8840, 'fllight': 8841, 'vouchercompensation': 8842, 'dependents': 8843, 'phoneinperson': 8844, 'maddening': 8845, 'thxu': 8846, '457': 8847, 'nasbwi': 8848, 'birder': 8849, 'trap': 8850, 'etd': 8851, 'swa1004': 8852, 'coffeeat': 8853, 'flightline': 8854, 'securing': 8855, 'pleasecan': 8856, 'followdm': 8857, '3841': 8858, 'jail': 8859, 'press': 8860, 'countries': 8861, 'ua1534': 8862, 'ids': 8863, 'stuckon': 8864, 'unitedfail': 8865, 'customerrelationscom': 8866, 'suggesting': 8867, 'seevery': 8868, 'unbelieavle': 8869, 'unaccpetable': 8870, 'failback': 8871, 'ltltltltltlt': 8872, 'extortion': 8873, 'investigatedmy': 8874, 'anythingjust': 8875, '6wks': 8876, '48hrs': 8877, 'freaky': 8878, 'interviewed': 8879, 'recruiter': 8880, 'swapped': 8881, 'radish': 8882, 'vastly': 8883, 'waitabout': 8884, '1perhr': 8885, 'allready': 8886, 'fulleven': 8887, 'voucherno': 8888, 'z': 8889, '1265': 8890, 'cartagena': 8891, 'praises': 8892, 'pact': 8893, 'realise': 8894, 'noshow': 8895, 'scoot': 8896, 'sac': 8897, '1491plane': 8898, 'printers': 8899, 'mfps': 8900, 'insta': 8901, 'produce': 8902, 'limits': 8903, 'exe': 8904, 'rim': 8905, 'repeatably': 8906, 'casual': 8907, 'receives': 8908, 'analysts': 8909, 'legacy': 8910, 'fr152015': 8911, 'sr': 8912, 'servicecare': 8913, 'liar': 8914, 'pacify': 8915, 'foolthats': 8916, 'butnot': 8917, 'wdeicingthree': 8918, 'sill': 8919, '950': 8920, 'melinda': 8921, 'greensboro': 8922, 'jewel': 8923, 'ua1159': 8924, 'recheduled': 8925, 'footage': 8926, 'players': 8927, 'chgd': 8928, 'acoustic': 8929, 'honesty': 8930, 'supporter': 8931, 'jesus': 8932, 'portrayed': 8933, 'homosexual': 8934, 'judas': 8935, 'performs': 8936, '343': 8937, 'confuses': 8938, '6in': 8939, 'hair': 8940, 'synch': 8941, '117': 8942, 'fred': 8943, 'flintstone': 8944, '24hours': 8945, 'expense': 8946, 'parameters': 8947, 'redirects': 8948, 'lolz': 8949, 'nw': 8950, 'holdover': 8951, 'deactivated': 8952, 'deactivate': 8953, '1553': 8954, 'shiver': 8955, 'ravioli': 8956, 'chickenidiot': 8957, 'snowbound': 8958, 'booo': 8959, 'lubbock': 8960, 'paperampsaid': 8961, 'airporthave': 8962, 'foreveranyone': 8963, 'lacking': 8964, 'interrupted': 8965, 'aa2401': 8966, '763': 8967, 'crucial': 8968, '655but': 8969, 'approvals': 8970, 'tad': 8971, 'pair3': 8972, 'bringin': 8973, 'chalk': 8974, 'ua3728': 8975, '35hrs': 8976, 'coatunfortunately': 8977, 'aal': 8978, 'janna': 8979, 'negligent': 8980, '1065': 8981, 'pple': 8982, '8h': 8983, 'luxuries': 8984, '1150pm': 8985, 'cars': 8986, 'miraculously': 8987, 'ua862': 8988, 'nonenglish': 8989, 'substitute': 8990, 'empathizes': 8991, '1stclass': 8992, 'wnonworking': 8993, 'entertainmnt': 8994, 'designated': 8995, 'pasengers': 8996, 'humanity': 8997, 'plants': 8998, 'productivity': 8999, 'ky': 9000, 'oscarworthy': 9001, 'lovedoll': 9002, 'themhence': 9003, 'huxleyesque': 9004, 'cpus': 9005, 'flightingdelaying': 9006, 'ahhhhh': 9007, 'thankyou': 9008, 'classed': 9009, 'sexually': 9010, '464': 9011, '3574': 9012, 'todaychecked': 9013, 'sylvie': 9014, 'chocked': 9015, 'unmet': 9016, 'completing': 9017, 'installation': 9018, '18th': 9019, '8fkqw': 9020, 'b3': 9021, '1299': 9022, 'm13': 9023, 'swiss': 9024, 'lx009': 9025, 'aback': 9026, 'squarely': 9027, 'accelerate': 9028, 'trade': 9029, 'suffered': 9030, '5392': 9031, 'flightflew': 9032, 'lgacleden': 9033, 'footrest': 9034, 'shelf': 9035, 'a330': 9036, 'unimpressed': 9037, '10m': 9038, '1h40m': 9039, 'heroes': 9040, '416': 9041, '514': 9042, 'unpleased': 9043, 'angelo': 9044, 'tolerable': 9045, 'novemberdecember': 9046, 'dualcam': 9047, 'tic': 9048, 'finals': 9049, 'winters': 9050, 'cus': 9051, 'alan': 9052, 'lve': 9053, 'wopen': 9054, 'alarm': 9055, 'senseless': 9056, 'beijing': 9057, '8yr': 9058, 'us84': 9059, 'flightwouldve': 9060, 'liked': 9061, 'ella': 9062, 'phishing': 9063, 'n8661a': 9064, '7378h4': 9065, 'vouchersany': 9066, 'sham': 9067, 'sizer': 9068, 'continentalunited': 9069, 'fl1289sfoewr': 9070, 'defective': 9071, 'sweepstakesit': 9072, 'plebes': 9073, 'venetia': 9074, 'crook': 9075, 'burden': 9076, 'canister': 9077, 'powder': 9078, 'divider': 9079, 'ballbag': 9080, '16132440': 9081, 'wowthx': 9082, 'greg': 9083, 'earnings': 9084, 'aa1103': 9085, 'lastly': 9086, 'themon': 9087, 'crappiest': 9088, 'enemy': 9089, 'teyana': 9090, 'till11': 9091, 'hooray': 9092, 'aiecraft': 9093, 'weatherbut': 9094, 'easter': 9095, 'flightgotta': 9096, 'differ': 9097, 'equivalent': 9098, 'dirt': 9099, 'plt': 9100, '5hours': 9101, 'stuffing': 9102, 'sweat': 9103, '206': 9104, 'screening': 9105, 'restroom': 9106, 'sink': 9107, '5639': 9108, 'eri': 9109, 'agoyet': 9110, 'miaewr': 9111, 'ewriad': 9112, '3866': 9113, '25mins': 9114, 'warehouse': 9115, 'reunite': 9116, 'usas': 9117, 'fashion': 9118, '77min': 9119, 'recd': 9120, 'alison': 9121, 'bobbi': 9122, '964012': 9123, '964077': 9124, '964078': 9125, 'spruce': 9126, 'moose': 9127, 'againto': 9128, 'accountable': 9129, 'statusdelays': 9130, 'muh': 9131, 'startled': 9132, 'description': 9133, 'expanded': 9134, 'siblings': 9135, 'overchargedampunderserved': 9136, '1572': 9137, 'galaxy': 9138, 's4': 9139, 'scroll': 9140, 'sailor': 9141, 'attained': 9142, 'scooby': 9143, 'ua768': 9144, 'rollercoaster': 9145, 'profiting': 9146, 'hurting': 9147, 'labyrinth': 9148, 'swindle': 9149, 'narita': 9150, 'snowice': 9151, 'tu': 9152, 'pmwe': 9153, 'leeway': 9154, 'ruin': 9155, '1373': 9156, 'argh': 9157, 'amenity': 9158, 'kits': 9159, 'liftin': 9160, 'sweetheart': 9161, 'scramble': 9162, 'countingthanks': 9163, '1071': 9164, 'rudestaff': 9165, 'incompetentmanagers': 9166, 'hopeless': 9167, 'masters': 9168, 'smf': 9169, 'yday': 9170, 'gt90min': 9171, 'drenched': 9172, 'hmmmseems': 9173, 'bfs': 9174, 'insulin': 9175, '1903': 9176, 'c19': 9177, 'allright': 9178, 'grk13575m': 9179, 'angering': 9180, 'slowness': 9181, 'nicole': 9182, 'quito': 9183, 'professionalnice': 9184, 'begrudgingly': 9185, 'encouraged': 9186, 'uncles': 9187, 'considerate': 9188, 'retweet': 9189, 'trickling': 9190, 'misery': 9191, 'breach': 9192, 'admitted': 9193, 'whacked': 9194, 'overhaul': 9195, 'extenuating': 9196, 'distributor': 9197, 'resource': 9198, 'delayscancelled': 9199, 'agenti': 9200, '7min': 9201, 'mighty': 9202, 'sour': 9203, 'farmy': 9204, 'nas': 9205, '2023': 9206, '60th': 9207, 'tripnever': 9208, 'policyfees': 9209, 'sime': 9210, 'entertaining': 9211, 'struggle': 9212, '2324': 9213, 'robert': 9214, 'blade': 9215, '129': 9216, 'utmost': 9217, 'w4840': 9218, 'ridicules': 9219, 'genuinely': 9220, 'comparable': 9221, 'terra': 9222, 'barelyexpired': 9223, '694': 9224, 'artisanal': 9225, 'pairing': 9226, 'reunited': 9227, 'delinquent': 9228, 'homeward': 9229, 'flightledthor': 9230, '15hrs': 9231, 'advis': 9232, 'nashvilleshould': 9233, 'vague': 9234, 'pie': 9235, 'serviced': 9236, 'stahhppp': 9237, 'anticonsumer': 9238, 'b46': 9239, '1086': 9240, 'begging': 9241, 'againestimated': 9242, 'induce': 9243, 'jason': 9244, 'takr': 9245, '1100pm': 9246, 'wothers': 9247, 'peopleon': 9248, 'humiliated': 9249, 'uncompromising': 9250, 'blindsided': 9251, 'jeanette': 9252, '2102': 9253, '1205': 9254, 'outage': 9255, 'unrivalled': 9256, 'onestop': 9257, 'yearround': 9258, 'gthour': 9259, 'topnews': 9260, 'arab': 9261, 'beaches': 9262, 'badbadbad': 9263, 'thousandth': 9264, 'cycles': 9265, 'luvits': 9266, 'imdetermined': 9267, 'halfthought': 9268, 'whiskey': 9269, 'twicegot': 9270, 'bills': 9271, 'helpphone': 9272, 'lou': 9273, 'ourguest': 9274, '5223': 9275, '958': 9276, 'nt': 9277, 'waters': 9278, 'goodness': 9279, 'reallyyou': 9280, 'flightstill': 9281, 'skycaps': 9282, 'uhi': 9283, 'illiterate': 9284, 'bewhat': 9285, 'issucks': 9286, '757s': 9287, 'btwn': 9288, 'ports': 9289, 'torture': 9290, 'candace': 9291, 'paycheck': 9292, 'lip': 9293, 'inconceivable': 9294, 'tomrw': 9295, '1457': 9296, '912': 9297, 'herman': 9298, 'ambassador': 9299, 'chathes': 9300, '2spooky': 9301, 'm8': 9302, 'spook': 9303, 'scare': 9304, 'satisfactorily': 9305, 'trending': 9306, 'willsunday': 9307, 'flywere': 9308, 'nonprofitcant': 9309, 'remembers': 9310, 'excusegeez': 9311, 'adapted': 9312, 'us1765': 9313, '587': 9314, 'incompetentrude': 9315, 'untd': 9316, 'mp3': 9317, 'player': 9318, 'usage': 9319, 'inventory': 9320, '3a8c': 9321, 'hannah': 9322, 'surgeries': 9323, 'requiresshe': 9324, 'helppls': 9325, 'donatert': 9326, 'bagswhich': 9327, 'makeup': 9328, 'us643': 9329, 'sailed': 9330, 'pounding': 9331, 'downgrading': 9332, 'boozefood': 9333, 'legitimately': 9334, 'summit': 9335, 'ought': 9336, 'radioi': 9337, 'didinteresting': 9338, 'addr': 9339, 'signin': 9340, '5hs': 9341, '20yr': 9342, 'restrm': 9343, 'row7': 9344, 'myselfothers': 9345, 'installed': 9346, 'workng': 9347, 'et': 9348, 'pushy': 9349, 'versions': 9350, 'sprinted': 9351, 'coughed': 9352, 'lung': 9353, 'wakes': 9354, 'crewnow': 9355, '3200': 9356, 'mebe': 9357, 'mikes': 9358, 'miserably': 9359, 'lgjw7b': 9360, 'voluntarily': 9361, '8b': 9362, 'hating': 9363, 'bracket': 9364, 'problemive': 9365, '3960': 9366, 'aa1691': 9367, 'hassles': 9368, 'prebook': 9369, 'prfriendly': 9370, 'sourhwest': 9371, 'booksampmedicine': 9372, 'orphanage': 9373, 'phoneeeee': 9374, '4278': 9375, 'ohk': 9376, 'inexpensive': 9377, 'airfares': 9378, 'outsourced': 9379, 'knack': 9380, 'substandard': 9381, 'ease': 9382, 'wrench': 9383, 'wounded': 9384, 'vet': 9385, 'healing': 9386, 'launched': 9387, 'freeze': 9388, 'avp': 9389, 'tgif': 9390, 'treacherous': 9391, 'utilize': 9392, 'interrogated': 9393, 'princesses': 9394, 'wdw': 9395, 'valuing': 9396, 'specialist': 9397, 'gt70': 9398, 'reduction': 9399, '737900s': 9400, 'conf\\xa0fvf9yw': 9401, 'swrr\\xa0298033455': 9402, 'origindestinationdates': 9403, 'namemarried': 9404, '50no': 9405, 'docs': 9406, 'nowhereland': 9407, 'enraging': 9408, '2008': 9409, 'hugeeeee': 9410, 'awwweesssooomee': 9411, 'finalizing': 9412, 'imessage': 9413, 'pigeon': 9414, 'warn': 9415, '101030': 9416, '4016': 9417, '529557': 9418, 'brd': 9419, 'nowfrustrated': 9420, 'tld': 9421, 'messcng': 9422, 'overbk': 9423, '63446373': 9424, 'sfodfw': 9425, '1576': 9426, 'sfoord': 9427, 'demonstration': 9428, 'corny': 9429, 'distress': 9430, 'freakin': 9431, 'ud': 9432, 'retrn': 9433, 'pickng': 9434, 'phoneonly': 9435, 'avios': 9436, 'largesize': 9437, '2464': 9438, 'sfonew': 9439, 'badmaybe': 9440, 'g6455c': 9441, 'restriction': 9442, 'silence': 9443, 'activities': 9444, '0162431184663': 9445, 'okaaaaay': 9446, 'rqstd': 9447, 'bcz': 9448, '134': 9449, 'flythroughs': 9450, 'inflght': 9451, 'clothessuit': 9452, 'paged': 9453, 'spaced': 9454, '12b': 9455, '41g': 9456, 'wilco': 9457, 'done0': 9458, 'distinguish': 9459, 'canld': 9460, 'resch': 9461, '130if': 9462, 'opt': 9463, 'cng': 9464, 'skymalls': 9465, 'ua14': 9466, 'drinksnack': 9467, 'honorable': 9468, 'economic': 9469, 'looong': 9470, 'capability': 9471, 'getconnected': 9472, 'weekmakes': 9473, 'srv': 9474, 'lt5': 9475, 'inquiry': 9476, 'universally': 9477, 'digg': 9478, '3923': 9479, 'disguised': 9480, 'mario': 9481, 'bros': 9482, 'gameboy': 9483, 'chging': 9484, 'isit': 9485, 'redemption': 9486, 'redsox': 9487, '319': 9488, 'rang': 9489, 'vendor': 9490, 'nightlife': 9491, 'gvn': 9492, 'citynot': 9493, 'instance': 9494, 'unsuccessful': 9495, 'nonperformance': 9496, 'owen': 9497, 'shaquille': 9498, 'maintenece': 9499, 'grossed': 9500, 'disappointmentyet': 9501, 'againflying': 9502, 'prefference': 9503, '31f': 9504, 'aa1469': 9505, '22215': 9506, '5612': 9507, 'prohibits': 9508, 'bagyet': 9509, 'swallowed': 9510, 'solves': 9511, '5187': 9512, 'dumping': 9513, 'chkin': 9514, 'wsupervisor': 9515, 'kansas': 9516, '2601': 9517, 'chartering': 9518, 'weights': 9519, 'earrings': 9520, 'insubstantial': 9521, 'lieslieslies': 9522, 'idols': 9523, 'sooooo': 9524, 'apron': 9525, 'lookin': 9526, '1818': 9527, 'nooooo': 9528, 'extraspeed': 9529, '37000ft': 9530, 'seabos': 9531, '59pm': 9532, 'dpted': 9533, '830pm': 9534, 'ua3645': 9535, '754pm': 9536, 'jua': 9537, 'appealing': 9538, 'imagined': 9539, 'stubbornly': 9540, 'saddened': 9541, 'saga': 9542, 'jacqueline': 9543, 'closure': 9544, 'chosen': 9545, '0214': 9546, 'workout': 9547, '1584': 9548, 'steve': 9549, 'connolly': 9550, '230am': 9551, '300er': 9552, 'b767400er': 9553, '6may23sep': 9554, '23oct': 9555, 'ua761': 9556, 'companyi': 9557, 'fog': 9558, 'transit': 9559, 'hoursplease': 9560, 'husain': 9561, 'protest': 9562, 'rehman': 9563, 'malik': 9564, 'mimosa': 9565, 'earning': 9566, 'ua1121': 9567, 'w45': 9568, 'toss': 9569, 'ticketits': 9570, 'wit': 9571, '359': 9572, 'bragged': 9573, '1200dont': 9574, 'the15hours': 9575, 'flighttherere': 9576, '463': 9577, 'callcentre': 9578, 'multibillion': 9579, '1005am': 9580, 'smarter': 9581, 'mooks': 9582, 'monsoon': 9583, 'donut': 9584, 'designer': 9585, 'overreacting': 9586, 'swag': 9587, 'topflight': 9588, '880': 9589, 'gateagain': 9590, 'solid': 9591, 'repurchased': 9592, 'piss': 9593, 'farelock': 9594, 'ua4904': 9595, 'luggagecancelled': 9596, 'underweight': 9597, 'mailbox': 9598, 'forwarding': 9599, 'charac': 9600, 'covert': 9601, 'tactics': 9602, 'us728': 9603, 'muzak': 9604, 'astounding': 9605, 'ampamp': 9606, 'ddean': 9607, '925': 9608, 'tlh': 9609, 'dynamite': 9610, 'stare': 9611, 'meright': 9612, '3231dtw': 9613, 'promoting': 9614, 'noneother': 9615, 'reliability': 9616, 'heh': 9617, 'wifiless': 9618, 'midtravel': 9619, 'speechless': 9620, '2plains': 9621, '2fails': 9622, '10x9x17': 9623, '20x157x87': 9624, 'taller': 9625, 'nonservice': 9626, 'phf': 9627, 'colder': 9628, 'telephones': 9629, 'barcodes': 9630, '956': 9631, 'leverage': 9632, 'triple': 9633, 'kta': 9634, 'glenn': 9635, 'coles': 9636, 'buffaloniagara': 9637, 'gin': 9638, 'tonic': 9639, 'probability': 9640, '1330': 9641, '8602947': 9642, 'jon': 9643, 'cuzco': 9644, 'fields': 9645, 'fashioned': 9646, '14a': 9647, 'ua895': 9648, 'listing': 9649, 'resources': 9650, 'bur': 9651, 'detectors': 9652, 'worm': 9653, 'institutional': 9654, 'predictive': 9655, 'analytics': 9656, '1155am': 9657, 'awake': 9658, 'logout': 9659, 'shanghai': 9660, '858': 9661, 'sfosea': 9662, 'buenos': 9663, 'ares': 9664, 'jfknot': 9665, 'sre': 9666, 'alerted': 9667, 'houstonjust': 9668, '1735': 9669, 'conditioning': 9670, 'undetermined': 9671, 'ua649': 9672, 'dobut': 9673, 'timethatll': 9674, 'exchangecredit': 9675, 'shadier': 9676, 'nines': 9677, 'us5268': 9678, 'adjusting': 9679, 'snowstorms': 9680, '1008': 9681, 'bogotáhouston': 9682, '618': 9683, 'zurichnew': 9684, 'strayed': 9685, 'dcapit': 9686, '1135': 9687, 'depends': 9688, 'burrito': 9689, '1119': 9690, 'custy': 9691, 'pvr': 9692, 'earlyconnecting': 9693, '2139': 9694, 'delayshandling': 9695, '4435': 9696, 'ua6016053916': 9697, '1514': 9698, 'puj': 9699, '022015': 9700, 'fro': 9701, 'orf': 9702, 'safetyservice': 9703, 'led': 9704, 'monopoly': 9705, 'honoring': 9706, 'ml315': 9707, 'responsesme': 9708, 'slew': 9709, 'usair4603': 9710, '4591': 9711, 'donna': 9712, 'surprisingly': 9713, 'dmstill': 9714, 'waitingso': 9715, 'activitiesprevention': 9716, 'condomrito': 9717, 'familywe': 9718, '501c3thanks': 9719, 'pullin': 9720, 'sh': 9721, 'us4485': 9722, 'deborah': 9723, 'controlthe': 9724, 'incapable': 9725, '2yo': 9726, 'wack': 9727, 'bueno': 9728, 'shorts': 9729, 'german': 9730, 'deplanes': 9731, 'auf': 9732, 'wiedersehen': 9733, 'roberto': 9734, 'abandoned': 9735, 'flierssomeone': 9736, 'prolly': 9737, 'fulfill': 9738, '4315': 9739, 'n231wn': 9740, 'wendi': 9741, 'acy': 9742, '1002': 9743, 'flyaway': 9744, '7hours': 9745, 'doc': 9746, 'ua3466': 9747, 'bish': 9748, '517': 9749, 'leak': 9750, '9year': 9751, '951pm': 9752, 'laxlas': 9753, 'malcome': 9754, 'replicate': 9755, 'unusual': 9756, '1703': 9757, 'transformative': 9758, 'professionals': 9759, 'dmsccom': 9760, 'hopkins': 9761, '628': 9762, 'twitterliterate': 9763, '18hrs': 9764, 'acc': 9765, '9hr': 9766, 'tryng': 9767, 'rsrv': 9768, 'airserv': 9769, 'contractors': 9770, 'ua1566': 9771, 'calamity': 9772, '3867': 9773, 'retire': 9774, 'ystday': 9775, 'hollywood': 9776, 'mountains': 9777, 'bragging': 9778, 'js': 9779, 'cardholder': 9780, 'opaque': 9781, 'strict': 9782, 'gather': 9783, 'trumping': 9784, 'complex': 9785, 'pulldown': 9786, 'suboption': 9787, 'formsmaddening': 9788, 'pregame': 9789, 'barriers': 9790, 'directs': 9791, 'callings': 9792, 'iahwowjust': 9793, 'escape': 9794, 'raft': 9795, 'squawked': 9796, 'aircraftrunways': 9797, 'todaytomorrow': 9798, 'expireswhy': 9799, 'divided': 9800, 'servicessomething': 9801, 'solar': 9802, 'charger': 9803, 'changer': 9804, 'usb': 9805, 'eticket': 9806, '0162389030167': 9807, '16866853': 9808, '8465981': 9809, 'kristy': 9810, '1051pm': 9811, 'rodeo': 9812, 'whoot': 9813, 'nerd': 9814, 'jacquelyn': 9815, '4110': 9816, 'handoff': 9817, 'nutella': 9818, '5545': 9819, 'b18': 9820, '0769': 9821, '1875': 9822, 'stats': 9823, 'reposting': 9824, 'autoresponse': 9825, 'improving': 9826, '211ord': 9827, 'england': 9828, 'allowable': 9829, 'length': 9830, 'reachable': 9831, 'dandy': 9832, '19b': 9833, '1943': 9834, 'hoursgot': 9835, 'txfd': 9836, 'cncdld': 9837, 'flighttold': 9838, 'stingiest': 9839, '601': 9840, 'ivebeen': 9841, 'ilc0hp': 9842, 'csm': 9843, 'daryl': 9844, 'os': 9845, 'category': 9846, '1839': 9847, 'dfwlax': 9848, '883': 9849, 'signing': 9850, 'credentials': 9851, '80100': 9852, 'mellie': 9853, 'lostyou': 9854, 'infinite': 9855, 'loop': 9856, 'includes': 9857, 'brian': 9858, 'williams': 9859, 'edit': 9860, 'observation': 9861, 'agentthen': 9862, 'csrs': 9863, '170': 9864, '10hour': 9865, 'blizzue': 9866, 'hizouse': 9867, 'cramming': 9868, 'planeno': 9869, '38a': 9870, 'assumed': 9871, '8e': 9872, 'standbys': 9873, 'jetbridge': 9874, 'drivermissed': 9875, 'luxuriesaesthetics': 9876, 'dmangencom': 9877, 'ralph': 9878, 'naders': 9879, 'uals': 9880, 'coupons': 9881, 'neveryamind': 9882, 'segway': 9883, 'infographic': 9884, 'parody': 9885, 'codes': 9886, 'tropic': 9887, 'elected': 9888, 'appointed': 9889, 'hacks': 9890, 'mccaren': 9891, 'claudia': 9892, 'gerne': 9893, 'disappointedunited': 9894, 'appalling': 9895, 'waspaid': 9896, 'sunrises': 9897, 'coded': 9898, 'sugar': 9899, 'sector': 9900, 'whereby': 9901, 'bagsno': 9902, 'offloading': 9903, 'mardi': 9904, 'gras': 9905, 'desition': 9906, 'nade': 9907, 'aa104': 9908, 'safer': 9909, 'evidently': 9910, 'cement': 9911, '648': 9912, '587701925count': 9913, '1579': 9914, 'smith': 9915, 'oust': 9916, '4443we': 9917, '33for': 9918, 'apx': 9919, 'doll': 9920, '261633561838': 9921, 'complainer': 9922, 'downmy': 9923, 'sortawe': 9924, 'aquadilla': 9925, 'braved': 9926, 'severally': 9927, 'bradley': 9928, '6318915722': 9929, 'sections': 9930, 'tahiti': 9931, 'airat': 9932, 'helpthanks': 9933, '3970': 9934, 'bnardu': 9935, 'considerable': 9936, '1the': 9937, 'freezes': 9938, '3a': 9939, 'inflating': 9940, 'malfunctioning': 9941, 'pairings': 9942, '841am': 9943, '857am': 9944, 'pid': 9945, 'ada': 9946, 'selfinterest': 9947, 'contents': 9948, 'weekampinbound': 9949, 'lastnight': 9950, 'nofee': 9951, 'nbr1': 9952, 'helper': 9953, 'applause': 9954, '20hrs': 9955, 'stating': 9956, '16000': 9957, 'embody': 9958, 'nit': 9959, 'sxmclt': 9960, 'lodgingfood': 9961, 'enhance': 9962, 'spade': 9963, 'spiced': 9964, '6600': 9965, 'ua5184': 9966, 'wpg': 9967, 'tryn': 9968, 'comping': 9969, 'siteapp': 9970, 'sellout': 9971, '7hrs': 9972, 'begins': 9973, 'agreement': 9974, 'journalist': 9975, 'troubleshot': 9976, 'paranoid': 9977, 'forum': 9978, 'downhow': 9979, 'blood': 9980, 'appt': 9981, '18009174929': 9982, 'delayedstill': 9983, 'waitingyou': 9984, 'snobby': 9985, 'remarks': 9986, 'poker': 9987, '25hrs': 9988, 'sys': 9989, 'sukhdeep': 9990, 'excusable': 9991, 'sav': 9992, 'sd': 9993, 'handing': 9994, 'indicate': 9995, 'aampc': 9996, 'dreading': 9997, 'sheesh': 9998, 'exams': 9999, 'researching': 10000, 'wclass': 10001, 'gang': 10002, 'flite': 10003, 'g8cvwj': 10004, 'kailua': 10005, 'joy': 10006, 'free5': 10007, 'deed': 10008, 'whoooo': 10009, 'hooooo': 10010, '25367': 10011, 'pace': 10012, '152202': 10013, 'ooookay': 10014, 'wmom': 10015, 'forty': 10016, 'referring': 10017, 'disputed': 10018, 'like12': 10019, 'anyways': 10020, 'facts': 10021, 'pairs': 10022, 'hall': 10023, '8found': 10024, 'crewsignage': 10025, '417pm': 10026, 'fo': 10027, 'cpdone': 10028, 'ewrpdx': 10029, 'test': 10030, 'tomoro': 10031, 'turkish': 10032, 'ua1665': 10033, 'issuecould': 10034, 'callguys': 10035, 'timerest': 10036, 'spots': 10037, 'areas': 10038, 'rush': 10039, 'jetwaywhy': 10040, 'mgood': 10041, 'addressing': 10042, 'fuckinf': 10043, 'contactless': 10044, 'popping': 10045, 'laxsna': 10046, 'hipster': 10047, 'rocking': 10048, 'mcgraw': 10049, 'recycle': 10050, 'bagtag': 10051, 'meaningful': 10052, 'dadeland': 10053, 'affiliated': 10054, '4532': 10055, 'cinnabons': 10056, '86': 10057, 'tissues': 10058, 'in1st': 10059, 'mobil': 10060, 'apathetic': 10061, 'speciifc': 10062, 'character': 10063, 'aaus': 10064, 'greati': 10065, 'shade': 10066, 'distance': 10067, 'countingjust': 10068, 'c68ld9': 10069, '46min': 10070, 'quirky': 10071, 'archaic': 10072, 'accommodates': 10073, '222mdw': 10074, '1687': 10075, 'melissa': 10076, 'belti': 10077, 'ees': 10078, 'k20': 10079, 'chking': 10080, 'schd': 10081, '229': 10082, 'respondi': 10083, '150000': 10084, 'iusair': 10085, 'beautifull': 10086, 'specially': 10087, 'carlton': 10088, '767300': 10089, 'thanksm': 10090, 'destinationrude': 10091, 'heathrownewark': 10092, 'woody': 10093, 'prerookie': 10094, 'drift': 10095, 'jetways': 10096, 'chats': 10097, 'buybacks': 10098, 'harf': 10099, 'iraiq': 10100, 'childrens': 10101, 'nightmarish': 10102, 'nerves': 10103, '2934': 10104, 'banana': 10105, '000114': 10106, '82': 10107, 'qro': 10108, 'messes': 10109, 'respects': 10110, 'taxiing': 10111, 'unitedunimpressed': 10112, 'peeps': 10113, 'unempathetic': 10114, 'fulldont': 10115, 'tlc': 10116, 'negative': 10117, 'steered': 10118, 'flt1088': 10119, 'mall': 10120, 'ben': 10121, 'phxfor': 10122, 'deli': 10123, 'aa973': 10124, '23l': 10125, '9w': 10126, '12h': 10127, 'hrl': 10128, 'briughy': 10129, 'usaiways': 10130, 'aa951': 10131, '2293': 10132, 'natl': 10133, 'loanr5084773604': 10134, 'cap': 10135, '1801': 10136, 'grasshopper': 10137, 'twitterz': 10138, 'kung': 10139, 'pitts': 10140, 'curt': 10141, 'eternal': 10142, 'maarten': 10143, 'ua1470': 10144, 'incidentals': 10145, 'nothingand': 10146, 'thingwill': 10147, 'ypu': 10148, 'opportunities': 10149, 'superiors': 10150, '561': 10151, 'manilla': 10152, 'campaign': 10153, 'foreverrrrrr': 10154, '10p': 10155, 'busfirst': 10156, 'milesaaver': 10157, 'carolinas': 10158, 'raisegreat': 10159, 'fixes': 10160, 'attitudycustomer': 10161, 'navigating': 10162, 'rebooks': 10163, 'flu': 10164, 'wkrb': 10165, 'youdo': 10166, 'sba': 10167, 'happend': 10168, '222i': 10169, 'cavalli': 10170, 'calves': 10171, 'interfering': 10172, 'idiotic': 10173, 'instrument': 10174, 'el': 10175, 'paso': 10176, 'dealsmay': 10177, 'a4': 10178, 'finnair': 10179, 'jfkman': 10180, 'hacked': 10181, 'learnt': 10182, 'tanked': 10183, 'petty': 10184, 'jim': 10185, 'compton': 10186, 'whiny': 10187, 'accommodated': 10188, 'courier': 10189, '5095': 10190, 'cak': 10191, 'fasten': 10192, 'phlord': 10193, 'blegh': 10194, 'periolodicly': 10195, '20th30th': 10196, 'ineligible': 10197, 'undrstnd': 10198, 'wlcm': 10199, 'onbrd': 10200, 'hm': 10201, 'envoy': 10202, 'infuriating': 10203, '3000': 10204, 'characterize': 10205, 'weathered': 10206, 'existence': 10207, 'stacy': 10208, '83': 10209, 'measly': 10210, 'ecertificate': 10211, 'frank': 10212, 'oyu': 10213, 'essence': 10214, 'ua1469': 10215, '2373': 10216, 'chibuf': 10217, '959': 10218, '480': 10219, 'tug': 10220, 'chaperone': 10221, 'soaking': 10222, 'beneficial': 10223, 'longstanding': 10224, 'wthis': 10225, 'hindered': 10226, 'snapped': 10227, 'recovering': 10228, 'condo': 10229, '3899': 10230, 'secrets': 10231, 'emplid': 10232, 'aa67': 10233, '20feb15': 10234, 'glance': 10235, 'starboard': 10236, 'communicationcompetition': 10237, 'ticketi': 10238, 'predawn': 10239, 'ruins': 10240, 'ebhset': 10241, 'fallflorida': 10242, 'everglades': 10243, 'faint': 10244, 'sunburn': 10245, 'awayhere': 10246, 'leather': 10247, 'ay': 10248, 'seams': 10249, 'departments': 10250, 'boofin': 10251, 'adolfo': 10252, 'garcia': 10253, 'explore': 10254, 'you3860': 10255, 'cincyjust': 10256, 'landedyou': 10257, 'ripoffquick': 10258, 'unemployment': 10259, 'npbhd0': 10260, '1531': 10261, 'canadians': 10262, '1800iflyswa': 10263, 'tan': 10264, 'registered': 10265, 'superfast': 10266, 'cxldprotection': 10267, 'beatriz': 10268, 'saves': 10269, 'ex': 10270, 'boyfriends': 10271, 'poorplanning': 10272, '906': 10273, 'alreadygot': 10274, '1000cost': 10275, 'mundane': 10276, 'qs': 10277, 'gov': 10278, 'governor': 10279, 'sb202': 10280, 'legalizes': 10281, 'lgbtcan': 10282, 'lend': 10283, 'planewide': 10284, 'amt': 10285, 'pearl': 10286, 'accrue': 10287, 'cosmetic': 10288, 'flightledcant': 10289, 'ohand': 10290, 'wretched': 10291, 'improves': 10292, 'releasing': 10293, 'lbb': 10294, 'dim': 10295, 'bouncer': 10296, 'fligth': 10297, 'somthing': 10298, 'hardest': 10299, 'pamper': 10300, 'abroad': 10301, 'scoop': 10302, 'smelled': 10303, 'robbedexplain': 10304, 'refers': 10305, 'autorebooked': 10306, 'fairbanks': 10307, 'lmaoooo': 10308, 'checkinout': 10309, 'marriott': 10310, 'segs': 10311, 'c38': 10312, 'us626': 10313, '2031': 10314, 'regretting': 10315, 'ystrdy': 10316, 'wcancelled': 10317, 'combat': 10318, 'becuz': 10319, '2218': 10320, 'probls': 10321, 'wcomm': 10322, 'rtrn': 10323, 'flt5127keeping': 10324, 'smelly': 10325, 'dart': 10326, 'dendfw': 10327, 'basketball': 10328, 'static': 10329, 'graphics': 10330, 'minimal': 10331, 'iconography': 10332, 'ing': 10333, 'refreshes': 10334, 'checkouterror': 10335, '358': 10336, 'dounotwantmybusiness': 10337, 'kindly': 10338, '2046': 10339, 'bosclt': 10340, 'narrow': 10341, 'hournot': 10342, 'mphx': 10343, 'unfollowing': 10344, 'pordes': 10345, '2034': 10346, 'foodso': 10347, 'ua1731': 10348, 'thete': 10349, 'liking': 10350, 'shoulda': 10351, 'maintain': 10352, '747': 10353, 'jfklhr': 10354, '513mph': 10355, 'aftr': 10356, 'bng': 10357, 'hstg': 10358, 'med': 10359, 'fnd': 10360, 'cnceld': 10361, 'pandu': 10362, '1212': 10363, 'noted': 10364, 'oprah': 10365, 'ridic': 10366, 'chatted': 10367, 'lowdown': 10368, 'baked': 10369, 'replys': 10370, 'ricardo': 10371, 'olavarria': 10372, 'owed': 10373, 'lessand': 10374, 'duecto': 10375, 'willl': 10376, 'argentina': 10377, 'timehave': 10378, 'pleads': 10379, 'grrrr': 10380, 'untrue': 10381, '2513': 10382, '1555': 10383, '4179': 10384, 'teamit': 10385, '65hr': 10386, '1172': 10387, '4hr': 10388, 'cancld': 10389, 'discnctany': 10390, 'annnndddd': 10391, '1518': 10392, 'supv': 10393, 'hanged': 10394, 'raps': 10395, 'vacatinn': 10396, 'devalue': 10397, 'baitampswitch': 10398, 'grandparents': 10399, 'yoga': 10400, 'society': 10401, 'afterall': 10402, 'marthas': 10403, 'vineyard': 10404, 'african': 10405, 'festival': 10406, '1015': 10407, 'mv': 10408, 'fulfilled': 10409, 'reqs': 10410, 'venezuela': 10411, 'tonightnot': 10412, 'staring': 10413, 'reservationexplain': 10414, 'ua23': 10415, 'shambles': 10416, 'cinci': 10417, '35k': 10418, 'rtb': 10419, 'wayway': 10420, 'urgentlyget': 10421, 'renewed': 10422, 'jersey': 10423, 'ua1673': 10424, '908': 10425, 'regina': 10426, 'argg': 10427, 'worded': 10428, 'funited': 10429, 'fampampcking': 10430, '420': 10431, 'printer': 10432, 'undermines': 10433, 'intelligence': 10434, 'a30': 10435, 'fights': 10436, 'inaccessibility': 10437, '2009': 10438, 'loans': 10439, 'flowerssmfh': 10440, '25min': 10441, 'honour': 10442, 'snag': 10443, 'temorris2010com': 10444, 'interferes': 10445, 'wellen': 10446, 'concerts': 10447, 'alway': 10448, 'treasure': 10449, 'flightamp': 10450, 'suggests': 10451, '6500': 10452, 'somewhat': 10453, 'egregious': 10454, 'sam': 10455, 'adams': 10456, 'usurious': 10457, 'rivals': 10458, 'booster': 10459, 'tamara': 10460, 'chinese': 10461, 'downstairs': 10462, 'elise': 10463, '1945': 10464, 'allan': 10465, 'kmm24999563v99860l0km': 10466, '41min': 10467, 'comfortably': 10468, 'civilized': 10469, '2702': 10470, '2696': 10471, 'montereyregionalairport': 10472, 'duke': 10473, 'mason': 10474, 'locating': 10475, 'breathing': 10476, 'wdelays': 10477, 'lilly': 10478, 'callplan': 10479, 'planesnot': 10480, 'assuring': 10481, 'synonymous': 10482, 'draw': 10483, 'infrastructure': 10484, 'greyed': 10485, 'bridesmaid': 10486, 'refurbish': 10487, '296': 10488, 'abuse': 10489, 'overcharge': 10490, 'privilege': 10491, 'ref8441639': 10492, 'reupgrade': 10493, 'plowing': 10494, 'leah': 10495, 'pales': 10496, 'comparison': 10497, 'wages': 10498, 'dakota': 10499, 'glamco': 10500, 'graphic': 10501, 'unexplained': 10502, 'eh': 10503, 'copilot': 10504, 'fwd': 10505, 'wayi': 10506, 'cater': 10507, '8544484': 10508, 'helpgot': 10509, 'fraif': 10510, 'youbag': 10511, 'frano': 10512, '240minute': 10513, 'pattern': 10514, 'triedconsiderable': 10515, 'confusionno': 10516, 'announcementno': 10517, 'flightsthis': 10518, 'consult': 10519, 'conferencewe': 10520, '1568': 10521, 'raeann': 10522, 'miasfo': 10523, 'disconnectednew': 10524, 'transpired': 10525, 'tacky': 10526, 'yellow': 10527, 'cac': 10528, 'flipped': 10529, 'dvt': 10530, '630a': 10531, '3933': 10532, 'hunting': 10533, 'pistol': 10534, 'continuesstill': 10535, 'directbag': 10536, '4487': 10537, 'applicable': 10538, 'starbucks': 10539, 'oneasy': 10540, 'reservationhelpful': 10541, 'aa375': 10542, '0223': 10543, 'cncled': 10544, 'arrangement': 10545, '3198': 10546, 'aex': 10547, 'ua2066': 10548, 'ua6194': 10549, 'runners': 10550, 'miscnx': 10551, 'stopover': 10552, 'doumented': 10553, 'ua4727': 10554, 'turrible': 10555, 'girlfriends': 10556, '1146': 10557, 'impossibly': 10558, 'rad': 10559, 'comforting': 10560, 'stationary': 10561, 'missin': 10562, 'increments': 10563, 'wmn4lifecom': 10564, 'w40': 10565, 'goldsapphire': 10566, '9º': 10567, 'anticipation': 10568, 'asus': 10569, '16th': 10570, 'wondered': 10571, '479': 10572, 'maximization': 10573, 'dinosaurs': 10574, 'nap': 10575, 'fp9m6y': 10576, 'jennifercascinocom': 10577, 'foresight': 10578, 'bossf': 10579, 'flexibilitycompassion': 10580, '211': 10581, '2check': 10582, 'ethan': 10583, 'revive': 10584, 'laundry': 10585, 'tabs': 10586, '1512': 10587, 'n924an': 10588, 'corporatepaid': 10589, 'ua1150': 10590, 'escaping': 10591, 'tucking': 10592, 'milesstatus': 10593, 'cxd': 10594, '4011': 10595, 'employ': 10596, 'drone': 10597, 'campus': 10598, '2413': 10599, 'records': 10600, '6533': 10601, 'rwrd': 10602, 'aano': 10603, 'aadv': 10604, 'a319': 10605, 'squeaks': 10606, 'airlineive': 10607, 'fmjtyl': 10608, 'propositioned': 10609, 'attendanttrue': 10610, 'katie': 10611, 'c47': 10612, 'refunddm': 10613, '443min': 10614, 'avoidable': 10615, 'ua1589': 10616, 'jurassic': 10617, 'dinosaurplane': 10618, 'unreachable': 10619, 'handily': 10620, 'exceed': 10621, 'flightdincompetence': 10622, 'enterprise': 10623, '8000': 10624, 'hops': 10625, 'amid': 10626, 'cabins': 10627, 'dtv': 10628, '10yr': 10629, '1108': 10630, '2xmost': 10631, 'stopclaim': 10632, 'paws': 10633, 'patricia': 10634, 'bshave': 10635, 'pressed': 10636, 'staffer': 10637, 'injuries': 10638, 'lax29108m': 10639, 'obsessed': 10640, 'ans': 10641, '6377': 10642, 'agotoday': 10643, '3745': 10644, 'pretending': 10645, 'welfare': 10646, 'messaging': 10647, '1125': 10648, '4040': 10649, 'dallasraisenow': 10650, '3710': 10651, 'colliding': 10652, 'dalmdw': 10653, '12500': 10654, '27000': 10655, '20748': 10656, 'forfeit': 10657, 'inactivity': 10658, 'reveal': 10659, '4500': 10660, 'recommendation': 10661, 'laxogglax': 10662, 'documentation': 10663, 'jfklas': 10664, 'shirts': 10665, 'viable': 10666, 'hahahahaha': 10667, 'language': 10668, 'aa2334': 10669, 'awol': 10670, 'lite': 10671, '3min': 10672, '300am': 10673, '50minssss': 10674, '50th': 10675, 'sweethearts': 10676, 'companions': 10677, 'uvf': 10678, 'interestingagent': 10679, 'presentation': 10680, 'nonempty': 10681, '948': 10682, 'tense': 10683, '2120': 10684, 'proportion': 10685, 'rapidly': 10686, '145pm': 10687, 'fantasy': 10688, 'amounts': 10689, 'apologized': 10690, 'triage': 10691, 'personality': 10692, 'convince': 10693, 'psychological': 10694, 'tricks': 10695, 'colors': 10696, 'lifestop': 10697, 'terror': 10698, 'al': 10699, 'oversorry': 10700, 'preparations': 10701, 'iv': 10702, 'hyperlinked': 10703, 'giggled': 10704, '1874get': 10705, 'attending': 10706, 'earlieror': 10707, 'notreceive': 10708, 'respectful': 10709, 'enzo': 10710, 'pooch': 10711, 'schoolgirl': 10712, 'typing': 10713, 'gtsvyb': 10714, 'airlinehate': 10715, 'loctjycqh': 10716, 'nitenot': 10717, 'pu': 10718, 'unt': 10719, 'aft': 10720, 'phlcrw': 10721, 'disrespectfully': 10722, 'strive': 10723, 'stepped': 10724, 'tower': 10725, 'guesstimate': 10726, 'removing': 10727, 'aircrafts': 10728, '740pm': 10729, 'tmr': 10730, 'lala': 10731, '4210': 10732, 'logically': 10733, 'ladan': 10734, 'annnnnd': 10735, '200fee': 10736, 'thur': 10737, 'couldwanted': 10738, 'adjustment': 10739, 'interupt': 10740, 'staduim': 10741, 'feck': 10742, '1558': 10743, 'compensating': 10744, 'flite454': 10745, '768': 10746, 'gong': 10747, 'enforcement': 10748, 'mysteriously': 10749, 'listsomeone': 10750, 'wouldt': 10751, 'flightlationyou': 10752, 'aok': 10753, 'harass': 10754, 'mistakefurious': 10755, '6yo': 10756, 'everleft': 10757, '297': 10758, 'motherinlaw': 10759, 'answersno': 10760, 'fiancee': 10761, 'diapers': 10762, 'pascucci': 10763, 'peculiar': 10764, 'understandably': 10765, 'edgy': 10766, 'chipper': 10767, 'ubetter': 10768, 'smth': 10769, 'customercant': 10770, 'phlsfo': 10771, 'aa3074': 10772, 'lgasat': 10773, 'us1951us874do': 10774, 'combined': 10775, 'experts': 10776, 'callemail': 10777, 'forelock': 10778, 'block': 10779, 'nonetheless': 10780, '3xs': 10781, '4443': 10782, 'celebs': 10783, 'wk': 10784, '1946': 10785, 'wowd': 10786, 'rachelle': 10787, 'yepused': 10788, 'againget': 10789, 'riot': 10790, 'sporting': 10791, 'milesneed': 10792, 'birthdays': 10793, 'aa3465': 10794, 'unloads': 10795, 'dehydrated': 10796, 'verifies': 10797, '40mins': 10798, 'flightplease': 10799, 'teeming': 10800, 'morons': 10801, 'inept': 10802, 'yeehaw': 10803, 'vent': 10804, 'shiz': 10805, 'barrier': 10806, 'vegetarian': 10807, 'fullfare': 10808, 'gsa': 10809, 'vmail': 10810, 'techcontd': 10811, '4helped': 10812, 'threatening': 10813, 'rem': 10814, 'bangkok': 10815, 'accommodation': 10816, 'smart': 10817, 'partnered': 10818, 'inconvience': 10819, 'yasss': 10820, '947': 10821, 'emer': 10822, 'albuquer': 10823, 'maverick': 10824, '837': 10825, 'revieving': 10826, 'guatemala': 10827, 'ais': 10828, 'michael': 10829, '214': 10830, 'psgrs': 10831, 'ua3388': 10832, 'skywest': 10833, 'skyw': 10834, 'atgate': 10835, 'unfold': 10836, 'sobbed': 10837, 'monetary': 10838, 'aweful': 10839, 'dendal': 10840, 'overflow': 10841, 'obama': 10842, 'chariot': 10843, 'angle': 10844, 'worthy': 10845, 'useles': 10846, 'sti': 10847, 'minutessaid': 10848, 'wn4287': 10849, '935pm': 10850, '1366': 10851, '1552': 10852, 'ocean': 10853, 'stacey': 10854, 'detailsno': 10855, '732': 10856, 'quietly': 10857, 'irate': 10858, 'pouting': 10859, 'controllove': 10860, 'generally': 10861, 'inbaggage': 10862, 'unhelpfulness': 10863, '1899': 10864, 'scheme': 10865, 'withheld': 10866, '1272': 10867, '1115p': 10868, 'selfcheck': 10869, 'tmw': 10870, '1121p': 10871, 'scenario': 10872, 'gogh': 10873, '1h08': 10874, 'wore': 10875, 'disgruntled': 10876, 'mltple': 10877, 'trace': 10878, 'destroy': 10879, 'amponly': 10880, 'wthem': 10881, 'colored': 10882, 'tos': 10883, '3hr30min': 10884, 'ding': 10885, 'reboarded': 10886, 'applauded': 10887, 'ua80': 10888, 'permissions': 10889, 'communicateor': 10890, '1320oranything': 10891, 'cdn': 10892, 'towns': 10893, 'ua1157': 10894, 'firsttimeflyingwa16mo': 10895, '2nt': 10896, 'router': 10897, 'fuselage': 10898, 'louder': 10899, 'wills': 10900, '2hr30': 10901, 'loser': 10902, 'bitty': 10903, 'phlmco': 10904, 'inclemental': 10905, 'disruptions': 10906, 'astounded': 10907, 'snoop': 10908, 'feelings': 10909, 'grumpy': 10910, 'visiting': 10911, 'nothing1': 10912, 'availab': 10913, 'exceptionally': 10914, 'uncourteous': 10915, 'rubs': 10916, 'dominick': 10917, 'guardia': 10918, 'thanku': 10919, 'hts': 10920, 'describing': 10921, 'buzzkill': 10922, 'conv': 10923, 'dads': 10924, 'dulleswe': 10925, 'onmultiple': 10926, 'pqm': 10927, 'obvious': 10928, 'whom': 10929, '285': 10930, '145': 10931, 'smoothie': 10932, 'annnnddddd': 10933, '470': 10934, 'conn': 10935, 'brochure': 10936, 'touting': 10937, 'mergedbaggage': 10938, 'dialup': 10939, 'lightyears': 10940, 'bible': 10941, 'beverage': 10942, 'prompts': 10943, 'skys': 10944, 'bums': 10945, 'daldca': 10946, 'finishes': 10947, 'walks': 10948, 'bicycles': 10949, 'criteria': 10950, 'bikes': 10951, '75each': 10952, 'faq': 10953, '1338': 10954, 'providenciales': 10955, '1651': 10956, 'circuit': 10957, 'breaker': 10958, 'connectfor': 10959, '60min': 10960, 'nada': 10961, 'unavoidable': 10962, 'controllable': 10963, '905pm': 10964, 'ua3462': 10965, '345': 10966, 'mostly': 10967, 'tsaprecheck': 10968, 'crystal': 10969, 'sdq': 10970, '5137': 10971, '5547': 10972, 'gt134': 10973, 'rollaboard': 10974, 'wifiand': 10975, 'unwind': 10976, 'faced': 10977, 'apology25': 10978, 'slog': 10979, 'secs': 10980, 'misbehavior': 10981, 'dubai': 10982, 'nny': 10983, 'kitties': 10984, 'sends': 10985, 'shady': 10986, 'istanbul': 10987, 'deane': 10988, 'norma': 10989, 'sedholm': 10990, 'luz': 10991, 'calderon': 10992, 'king': 10993, 'problemhad': 10994, 'sine': 10995, 'trees': 10996, '330am': 10997, 'aforementioned': 10998, 'patron': 10999, 'hoodlums': 11000, 'prompting': 11001, '849s': 11002, 'subsequent': 11003, 'junkspam': 11004, 'congratulation': 11005, 'waved': 11006, 'ratepolicy': 11007, 'height': 11008, 'postpone': 11009, '456': 11010, 'joe': 11011, 'delayedwow': 11012, '495': 11013, 'camp': 11014, 'knownot': 11015, 'celebration': 11016, 'koalax': 11017, 'bubbly': 11018, 'lungs': 11019, 'queries': 11020, '006': 11021, 'wallstreet': 11022, 'scope': 11023, 'subtlety': 11024, 'restating': 11025, 'atlaus': 11026, 'budapest': 11027, 'boat': 11028, 'revision': 11029, 'ua6002': 11030, 'mligtden': 11031, 'ua3530': 11032, 'dengtyeg': 11033, 'eg': 11034, 'muc': 11035, 'jeans': 11036, 'suits': 11037, 'weyburn': 11038, 'indicating': 11039, 'heyo': 11040, '1836': 11041, 'escalate': 11042, 'naelah': 11043, 'wellpriced': 11044, 'n775jb': 11045, '4628': 11046, 'fourhour': 11047, 'chapman': 11048, 'designs': 11049, 'artluggage': 11050, 'determined': 11051, 'qd': 11052, 'copa': 11053, 'competing': 11054, 'angrybird': 11055, 'wheresmybag': 11056, '1776': 11057, 'rejecting': 11058, '3870': 11059, 'ua230': 11060, 'enforce': 11061, 'weatherflight': 11062, 'attendantcan': 11063, 'thisgreen': 11064, 'acu': 11065, 'inflexible': 11066, 'derekaustinca': 11067, 'chuckhole': 11068, 'resend': 11069, 'cncld': 11070, 'pssgrs': 11071, 'psngrs': 11072, 'adv': 11073, 'bundle': 11074, 'us4623': 11075, '408': 11076, 'mod': 11077, '4322': 11078, 'sided': 11079, '1796': 11080, 'chl': 11081, 'pac': 11082, 'grrrrrr': 11083, 'noenertainmenton6hourflights': 11084, 'jal': 11085, 'cathay': 11086, 'aa111': 11087, 'mdbeei': 11088, 'mcmullen': 11089, 'luxury': 11090, 'to4': 11091, 'pandoras': 11092, 'predictable': 11093, 'pennies': 11094, 'waiverskeep': 11095, 'wampb': 11096, '3825': 11097, 'guyana': 11098, 'swanky': 11099, 'cabaret': 11100, 'singer': 11101, 'lgagtdal': 11102, 'choppy': 11103, 'gusty': 11104, 'wthe': 11105, 'windchill': 11106, '4028': 11107, 'medically': 11108, 'commend': 11109, 'irrlcd': 11110, 'frankcom': 11111, 'ethics': 11112, 'sir': 11113, 'sufficiently': 11114, 'presumably': 11115, 'reproach': 11116, 'reform': 11117, 'manchesterbwi': 11118, 'nick': 11119, '742': 11120, 'transferring': 11121, 'contributiontopool': 11122, 'webpage': 11123, 'championship': 11124, 'cowardly': 11125, 'necessity': 11126, 'leisure': 11127, 'magically': 11128, 'repaired': 11129, 'originating': 11130, 'attendanteliz': 11131, '673': 11132, 'crosswinds': 11133, 'eliz': 11134, 'sliver': 11135, 'tiffany': 11136, 'montreal': 11137, 'ua3659': 11138, 'ua3417': 11139, 'helpdo': 11140, 'yulord': 11141, '5979': 11142, '2k424j0': 11143, 'dnx58v': 11144, '25mn': 11145, 'ruiningmy': 11146, 'guc': 11147, 'accurately': 11148, 'vein': 11149, 'thrombosis': 11150, 'dc9s': 11151, 'juice': 11152, 'disturb': 11153, 'batman': 11154, 'insanely': 11155, '723': 11156, '20000': 11157, 'obsolete': 11158, '3267': 11159, 'n659sw': 11160, 'apologise': 11161, 'shipping': 11162, '20mins': 11163, '3yrold': 11164, 'greatgranny': 11165, 'tonnes': 11166, 'agencies': 11167, 'roadtrip': 11168, '40000': 11169, 'synergy': 11170, 'flight1153': 11171, 'laxewr': 11172, 'resell': 11173, 'partnering': 11174, 'hilton': 11175, 'retiring': 11176, '25th': 11177, 'ideasshe': 11178, 'todayat': 11179, 'petition': 11180, 'grandpas': 11181, 'ashes': 11182, 'naples': 11183, 'lived': 11184, '50s': 11185, 'pillow': 11186, '338': 11187, 'banned': 11188, 'daniel': 11189, 'effortless': 11190, 'tory': 11191, '1708': 11192, 'phxgtdal': 11193, 'pns': 11194, 'robotweeting': 11195, 'offcalls': 11196, 'rats': 11197, 'kthxbai': 11198, 'yvonne': 11199, 'tier': 11200, 'mons': 11201, 'onboardalerted': 11202, 'socketyou': 11203, 'vouchersno': 11204, 'twins': 11205, 'abandon': 11206, '1051': 11207, 'dumped': 11208, 'poorest': 11209, 'inefficiency': 11210, 'expedite': 11211, 'gt1hr': 11212, '4199': 11213, 'cruz': 11214, 'tongueincheek': 11215, 'etiquette': 11216, 'mdtmy': 11217, 'guacamole': 11218, 'whyyy': 11219, 'automatic': 11220, 'attendent': 11221, 'gap': 11222, 'defibrillator': 11223, 'alavera': 11224, 'ua304': 11225, 'tummy': 11226, 'karaax': 11227, 'neuer': 11228, '415': 11229, 'slowing': 11230, '4438': 11231, 'holz': 11232, 'processed': 11233, 'shin': 11234, 'splits': 11235, 'sprinting': 11236, 'agostill': 11237, 'volleyball': 11238, 'skippers': 11239, 'walkaround': 11240, 'overloaded': 11241, 'albeit': 11242, '2078': 11243, 'balt': 11244, 'vomited': 11245, 'caroline': 11246, 'superhero': 11247, 'counters': 11248, 'rdui': 11249, 'hotline': 11250, 'newarklets': 11251, 'abounds': 11252, 'humour': 11253, 'craft': 11254, 'inlaws': 11255, '300rt': 11256, 'incidents': 11257, 'toes': 11258, 'string': 11259, 'cstmr': 11260, '77770': 11261, 'njv4bp': 11262, 'potable': 11263, 'mcigtdfw': 11264, 'programhorrible': 11265, 'hii': 11266, 'ridiculousor': 11267, 'refundplease': 11268, '8473573': 11269, 'churn': 11270, 'crâpe': 11271, 'ua1207': 11272, 'biscuits': 11273, 'ctg': 11274, 'lasfllsju': 11275, 'outtage': 11276, 'affecting': 11277, 'aboout': 11278, 'sport': 11279, 'f6dk04': 11280, 'xzmscw': 11281, 'curb': 11282, 'straighten': 11283, 'ua1118': 11284, 'lmfaooo': 11285, 'illogical': 11286, '8162': 11287, 'simultaneously': 11288, 'exhaustion': 11289, 'runnin': 11290, '2rent': 11291, 'killin': 11292, 'cheap1': 11293, 'analyst': 11294, 'comps': 11295, '4yr': 11296, '1640': 11297, 'n33289': 11298, 'backwards': 11299, 'abassinet': 11300, 'sauna': 11301, 'usexpresspsa': 11302, 'noting': 11303, 'dealings': 11304, 'stubborn': 11305, 'demanding': 11306, 'opposed': 11307, 'transatlantic': 11308, 'irina': 11309, 'flipside': 11310, 'eatup': 11311, 'cafe': 11312, 'minsrescue': 11313, 'midlandflight': 11314, 'rolled': 11315, 'essentials': 11316, 'assed': 11317, '440pm': 11318, 'drain': 11319, 'fearing': 11320, 'sayas': 11321, 'dissatisfiedthanks': 11322, 'longing': 11323, 'awe474': 11324, '20th': 11325, 'tailfin': 11326, '3935': 11327, 'defines': 11328, '1045': 11329, '795': 11330, 'tomorrowhelp': 11331, 'equalizer': 11332, '2am': 11333, 'disneys': 11334, 'magical': 11335, 'ami': 11336, 'veggies': 11337, 'olives': 11338, 'crackers': 11339, 'traveller': 11340, 'scary': 11341, 'hemophilia': 11342, 'ec': 11343, 'firing': 11344, 'loaned': 11345, 'stlbos': 11346, 'pockets': 11347, 'sisterampbrother': 11348, 'mistaken': 11349, 'scarf': 11350, 'attdt': 11351, 'decides': 11352, 'trend': 11353, '50hrs': 11354, 'undignified': 11355, 'delewr': 11356, '1000p': 11357, '1007p': 11358, 'detective': 11359, 'facilities': 11360, 'scent': 11361, 'tht': 11362, '791': 11363, '2022': 11364, 'backanother': 11365, '45minhour': 11366, 'lmk': 11367, 'ordgtcdg': 11368, 'threw': 11369, 'internships': 11370, '22315': 11371, 'davidson': 11372, 'auditorium1118': 11373, '915': 11374, 'weekthats': 11375, 'medallion': 11376, 'b737800w': 11377, 'okee': 11378, 'doke': 11379, 'yasssss': 11380, 'da': 11381, 'fuccc': 11382, 'agentwhats': 11383, 'thingsthe': 11384, 'detailsthat': 11385, 'saidi': 11386, 'steep': 11387, 'us1799': 11388, 'cltgtsfo': 11389, '1689': 11390, 'flight911': 11391, 'someoneawesome': 11392, '69': 11393, 'reassigned': 11394, 'repainted': 11395, 'smoooothest': 11396, '2284': 11397, 'flightrs': 11398, 'outtoo': 11399, 'lbc': 11400, '704': 11401, 'tails': 11402, 'privileges': 11403, 'precludes': 11404, 'readily': 11405, '4465': 11406, 'kats': 11407, 'vanished': 11408, 'directional': 11409, 'dislexia': 11410, 'carerespond': 11411, 'rebooting': 11412, 'bz': 11413, 'fluctuated': 11414, 'backended': 11415, 'offended': 11416, '3744': 11417, 'n284wn': 11418, 'exeu': 11419, 'haulba': 11420, 'intraeu': 11421, 'omgee': 11422, 'twtr': 11423, 'worseas': 11424, 'seatout': 11425, 'unacceptablei': 11426, 'aha': 11427, 'b91': 11428, 'fe': 11429, 'polite': 11430, 'habitually': 11431, 'broinlaw': 11432, '25bag': 11433, 'mbr': 11434, 'contains': 11435, '317': 11436, 'retook': 11437, 'repping': 11438, 'bruins': 11439, 'roll': 11440, 'hof': 11441, 'possiable': 11442, 'schiphol': 11443, 'aired': 11444, 'matchgot': 11445, 'saipan': 11446, 'guam': 11447, 'adventure': 11448, '236': 11449, 'links': 11450, '71': 11451, 'writers': 11452, 'cheat': 11453, 'horribly': 11454, 'stray': 11455, 'anyhelp': 11456, 'hesitant': 11457, 'sized': 11458, 'northern': 11459, 'lifes': 11460, 'negroni': 11461, 'bitcoin': 11462, '58': 11463, 'regains': 11464, 'karma': 11465, 'sweaty': 11466, 'fransico': 11467, 'evacuated': 11468, 'sitters': 11469, 'retribution': 11470, 'mugged': 11471, 'wong': 11472, 'marisol': 11473, 'pimentel': 11474, 'kevolt': 11475, 'sozldj': 11476, 'mac': 11477, '14th': 11478, 'fransisco': 11479, 'saleim': 11480, '2119': 11481, 'bosdca': 11482, 'flightedrescheduled': 11483, 'buisness': 11484, 'descent': 11485, 'fustrated': 11486, 'preventable': 11487, 'bettween': 11488, '71a': 11489, 'path': 11490, 'railed': 11491, 'carol': 11492, 'thrower': 11493, 'nycbuenos': 11494, 'aires': 11495, '330pm': 11496, 'us2118': 11497, 'dc10': 11498, '3100': 11499, 'daysand': 11500, 'worstnever': 11501, 'confirmedso': 11502, 'guysi': 11503, 'rnodfw': 11504, 'tomorrowplane': 11505, 'amshould': 11506, 'fêroute': 11507, 'escorted': 11508, 'und': 11509, 'supvsr': 11510, 'newairplanes': 11511, 'india': 11512, 'eternally': 11513, 'countless': 11514, 'strips': 11515, 'amenities': 11516, 'function': 11517, 'munich': 11518, 'laguardiadal': 11519, 'sorta': 11520, 'englishspanish': 11521, 'purchasing': 11522, '395': 11523, 'ea': 11524, 'litter': 11525, 'folding': 11526, 'n559jb': 11527, 'customerfriendly': 11528, 'accessible': 11529, 'arose': 11530, 'victim': 11531, 'fml': 11532, 'oversleeping': 11533, 'uncontrollable': 11534, 'irregularity': 11535, 'thinkdo': 11536, 'get2': 11537, 'blatimore': 11538, 'itd': 11539, '130pm': 11540, '108': 11541, 'maine': 11542, 'shaky': 11543, 'organized': 11544, 'mechanic': 11545, 'absorber': 11546, 'pgh': 11547, 'trvl': 11548, '11pm': 11549, 'helpfulness': 11550, 'lastella': 11551, 'world8': 11552, 'excellence': 11553, 'informing': 11554, 'narrowly': 11555, 'standbylots': 11556, 'snags': 11557, 'discontinue': 11558, '471': 11559, 'span': 11560, 'daysnone': 11561, 'un': 11562, 'fin': 11563, 'believable': 11564, 'heated': 11565, 'delaney': 11566, 'miscommunicated': 11567, 'empathize': 11568, 'capitalized': 11569, 'lowercase': 11570, 'md80dc10': 11571, 'upsetting': 11572, 'cesspool': 11573, 'germs': 11574, 'wway': 11575, 'denphl': 11576, '2065': 11577, 'evr': 11578, 'nothini': 11579, 'nothin': 11580, 'evrytime': 11581, 'bars': 11582, 'wonderfully': 11583, 'demanded': 11584, 'politely': 11585, 'handles': 11586, 'counterparts': 11587, 'dilemma': 11588, 'flatiron': 11589, 'dissapointment': 11590, 'jamie': 11591, 'mckinnie': 11592, 'owning': 11593, 'gonenow': 11594, 'charlestonvery': 11595, 'pricy': 11596, 'lineup': 11597, 'distances': 11598, 'bass': 11599, 'kinder': 11600, '681': 11601, 'slowest': 11602, 'bosnia': 11603, 'germany': 11604, '382': 11605, 'offwish': 11606, 'b36a': 11607, 'transparent': 11608, 'acpt': 11609, 'siss': 11610, 'aa362': 11611, 'dfwgtgtmke': 11612, 'ahhhh': 11613, 'loveluv': 11614, 'sche': 11615, 'activated': 11616, 'windy': 11617, '70f': 11618, 'values': 11619, 'complimenting': 11620, 'servicemost': 11621, 'jdhadp': 11622, 'classics': 11623, 'ua1550': 11624, 'logical': 11625, 'convey': 11626, 'emailmailtocustomerrelationscom': 11627, 'unmonitored': 11628, '453': 11629, '12a': 11630, '2792125083854': 11631, 'locked': 11632, 'weatherhere': 11633, '17monthold': 11634, 'foldup': 11635, 'crib': 11636, '1other': 11637, 'displeasure': 11638, 'proficient': 11639, 'today12': 11640, 'container': 11641, '18gal': 11642, 'totes': 11643, 'powered': 11644, 'winston': 11645, 'despise': 11646, 'thee': 11647, 'ua1565': 11648, 'ua1037': 11649, 'ordsfo': 11650, '9abcdef': 11651, 'appleton': 11652, 'straying': 11653, '905am': 11654, 'jetbae': 11655, 'consumer': 11656, 'affairs': 11657, 'penalized': 11658, 'lightly': 11659, 'phone25': 11660, 'ohio': 11661, '600am': 11662, '299': 11663, 'reboot': 11664, 'recognize': 11665, 'terri': 11666, 'russell': 11667, 'daiber': 11668, 'us5235': 11669, '33036': 11670, '4651': 11671, 'delayedbecause': 11672, 'candy': 11673, '449': 11674, 'dogs': 11675, 'helpline': 11676, 'monkey': 11677, 'ua5282': 11678, 'interviews': 11679, 'uneventful': 11680, 'jerks': 11681, 'briefings': 11682, 'prev': 11683, 'onlinerep': 11684, '2954': 11685, 'junction': 11686, 'residing': 11687, 'wouldhow': 11688}\n"
     ]
    }
   ],
   "execution_count": 22
  },
  {
   "cell_type": "code",
   "source": [
    "X_train.iloc[0]"
   ],
   "metadata": {
    "colab": {
     "base_uri": "https://localhost:8080/",
     "height": 35
    },
    "id": "yeSBbmIArEa6",
    "outputId": "136919d9-59cf-4052-9db3-93d13e8d78fd",
    "ExecuteTime": {
     "end_time": "2024-09-28T09:05:02.817362Z",
     "start_time": "2024-09-28T09:05:02.805052Z"
    }
   },
   "outputs": [
    {
     "data": {
      "text/plain": [
       "' you are offering us 8 rooms for 32 people '"
      ]
     },
     "execution_count": 23,
     "metadata": {},
     "output_type": "execute_result"
    }
   ],
   "execution_count": 23
  },
  {
   "cell_type": "code",
   "source": [
    "X_train_seq[0]"
   ],
   "metadata": {
    "colab": {
     "base_uri": "https://localhost:8080/"
    },
    "id": "O9UdQrFzw1Ir",
    "outputId": "37ad4380-7eec-4197-8f89-53056ddb2783",
    "ExecuteTime": {
     "end_time": "2024-09-28T09:05:03.599426Z",
     "start_time": "2024-09-28T09:05:03.594085Z"
    }
   },
   "outputs": [
    {
     "data": {
      "text/plain": [
       "[5, 30, 950, 50, 445, 1738, 6, 1498, 134]"
      ]
     },
     "execution_count": 24,
     "metadata": {},
     "output_type": "execute_result"
    }
   ],
   "execution_count": 24
  },
  {
   "cell_type": "code",
   "source": [
    "X_train_seq[0]"
   ],
   "metadata": {
    "colab": {
     "base_uri": "https://localhost:8080/"
    },
    "id": "Hnz4TvxDq77b",
    "outputId": "c9dac4ad-28c1-4c4c-cc9a-fb9b66847c0c",
    "ExecuteTime": {
     "end_time": "2024-09-28T09:05:05.029188Z",
     "start_time": "2024-09-28T09:05:05.023073Z"
    }
   },
   "outputs": [
    {
     "data": {
      "text/plain": [
       "[5, 30, 950, 50, 445, 1738, 6, 1498, 134]"
      ]
     },
     "execution_count": 25,
     "metadata": {},
     "output_type": "execute_result"
    }
   ],
   "execution_count": 25
  },
  {
   "cell_type": "code",
   "source": [
    "y_train"
   ],
   "metadata": {
    "colab": {
     "base_uri": "https://localhost:8080/",
     "height": 458
    },
    "id": "klMrIHSh1ASc",
    "outputId": "ddca1b93-abf6-4d53-9587-1716c7d206b0",
    "ExecuteTime": {
     "end_time": "2024-09-28T09:05:05.705914Z",
     "start_time": "2024-09-28T09:05:05.699741Z"
    }
   },
   "outputs": [
    {
     "data": {
      "text/plain": [
       "750      0\n",
       "6875     0\n",
       "7598     1\n",
       "14124    0\n",
       "6187     2\n",
       "        ..\n",
       "5191     1\n",
       "13418    0\n",
       "5390     0\n",
       "860      0\n",
       "7270     2\n",
       "Name: label, Length: 11712, dtype: int64"
      ]
     },
     "execution_count": 26,
     "metadata": {},
     "output_type": "execute_result"
    }
   ],
   "execution_count": 26
  },
  {
   "cell_type": "code",
   "source": [
    "from tensorflow.keras.models import Sequential\n",
    "from tensorflow.keras.layers import Embedding, SimpleRNN, Dense\n",
    "import pandas as pd\n",
    "import numpy as np\n",
    "import re\n",
    "from sklearn.model_selection import train_test_split\n",
    "from tensorflow.keras.preprocessing.text import Tokenizer\n",
    "from tensorflow.keras.preprocessing.sequence import pad_sequences\n",
    "from tensorflow.keras.models import Sequential\n",
    "from tensorflow.keras.layers import Embedding, SimpleRNN, Dense, Dropout, BatchNormalization\n",
    "from tensorflow.keras.optimizers import Adam\n",
    "\n",
    "# Создание модели RNN\n",
    "# Создание модели RNN с улучшениями\n",
    "model = Sequential()\n",
    "model.add(Embedding(input_dim=5000, output_dim=128, input_length=max_length))\n",
    "model.add(SimpleRNN(64))\n",
    "model.add(BatchNormalization())  # Нормализация пакетов\n",
    "model.add(Dropout(0.5))          # Регуляризация через Dropout\n",
    "model.add(Dense(1, activation='sigmoid'))\n",
    "\n",
    "# Компиляция модели с уменьшенной скоростью обучения\n",
    "optimizer = Adam(learning_rate=0.0001)  # Уменьшенная скорость обучения\n",
    "model.compile(loss='binary_crossentropy', optimizer=optimizer, metrics=['accuracy'])"
   ],
   "metadata": {
    "colab": {
     "base_uri": "https://localhost:8080/"
    },
    "id": "FC97qiVGnfFW",
    "outputId": "66036d52-7e9b-4736-aea4-42c513545a71",
    "ExecuteTime": {
     "end_time": "2024-09-28T09:05:08.662641Z",
     "start_time": "2024-09-28T09:05:08.172388Z"
    }
   },
   "outputs": [
    {
     "name": "stderr",
     "output_type": "stream",
     "text": [
      "/home/le/PycharmProjects/urfu/.venv/lib/python3.10/site-packages/keras/src/layers/core/embedding.py:90: UserWarning: Argument `input_length` is deprecated. Just remove it.\n",
      "  warnings.warn(\n",
      "WARNING: All log messages before absl::InitializeLog() is called are written to STDERR\n",
      "I0000 00:00:1727514308.540627   42548 cuda_executor.cc:1015] successful NUMA node read from SysFS had negative value (-1), but there must be at least one NUMA node, so returning NUMA node zero. See more at https://github.com/torvalds/linux/blob/v6.0/Documentation/ABI/testing/sysfs-bus-pci#L344-L355\n",
      "2024-09-28 12:05:08.541789: W tensorflow/core/common_runtime/gpu/gpu_device.cc:2343] Cannot dlopen some GPU libraries. Please make sure the missing libraries mentioned above are installed properly if you would like to use GPU. Follow the guide at https://www.tensorflow.org/install/gpu for how to download and setup the required libraries for your platform.\n",
      "Skipping registering GPU devices...\n"
     ]
    }
   ],
   "execution_count": 27
  },
  {
   "cell_type": "code",
   "source": [
    "# Обучение модели с обработкой NaN значений в loss\n",
    "try:\n",
    "    history = model.fit(X_train_pad, y_train, epochs=10, batch_size=32, validation_split=0.2)\n",
    "except Exception as e:\n",
    "    print(\"Ошибка во время обучения:\", e)\n",
    "\n",
    "# Оценка модели на тестовой выборке\n",
    "loss, accuracy = model.evaluate(X_test_pad, y_test)\n",
    "print(f'Test Accuracy: {accuracy:.4f}')"
   ],
   "metadata": {
    "colab": {
     "base_uri": "https://localhost:8080/"
    },
    "id": "N7vp8nt0z_F4",
    "outputId": "f6082c42-0179-4b1d-c814-bfa558170418",
    "ExecuteTime": {
     "end_time": "2024-09-28T09:06:22.175926Z",
     "start_time": "2024-09-28T09:05:58.502346Z"
    }
   },
   "outputs": [
    {
     "name": "stdout",
     "output_type": "stream",
     "text": [
      "Epoch 1/10\n",
      "\u001B[1m293/293\u001B[0m \u001B[32m━━━━━━━━━━━━━━━━━━━━\u001B[0m\u001B[37m\u001B[0m \u001B[1m2s\u001B[0m 8ms/step - accuracy: 0.6647 - loss: -6.4131 - val_accuracy: 0.5348 - val_loss: -1.9290\n",
      "Epoch 2/10\n",
      "\u001B[1m293/293\u001B[0m \u001B[32m━━━━━━━━━━━━━━━━━━━━\u001B[0m\u001B[37m\u001B[0m \u001B[1m2s\u001B[0m 8ms/step - accuracy: 0.6757 - loss: -7.6814 - val_accuracy: 0.5625 - val_loss: -2.1041\n",
      "Epoch 3/10\n",
      "\u001B[1m293/293\u001B[0m \u001B[32m━━━━━━━━━━━━━━━━━━━━\u001B[0m\u001B[37m\u001B[0m \u001B[1m2s\u001B[0m 8ms/step - accuracy: 0.6800 - loss: -8.4327 - val_accuracy: 0.5992 - val_loss: -0.6617\n",
      "Epoch 4/10\n",
      "\u001B[1m293/293\u001B[0m \u001B[32m━━━━━━━━━━━━━━━━━━━━\u001B[0m\u001B[37m\u001B[0m \u001B[1m2s\u001B[0m 8ms/step - accuracy: 0.6759 - loss: -10.3936 - val_accuracy: 0.6086 - val_loss: 1.7600\n",
      "Epoch 5/10\n",
      "\u001B[1m293/293\u001B[0m \u001B[32m━━━━━━━━━━━━━━━━━━━━\u001B[0m\u001B[37m\u001B[0m \u001B[1m2s\u001B[0m 8ms/step - accuracy: 0.6811 - loss: -11.1782 - val_accuracy: 0.5314 - val_loss: -2.1841\n",
      "Epoch 6/10\n",
      "\u001B[1m293/293\u001B[0m \u001B[32m━━━━━━━━━━━━━━━━━━━━\u001B[0m\u001B[37m\u001B[0m \u001B[1m2s\u001B[0m 8ms/step - accuracy: 0.6803 - loss: -12.7112 - val_accuracy: 0.5813 - val_loss: -1.5037\n",
      "Epoch 7/10\n",
      "\u001B[1m293/293\u001B[0m \u001B[32m━━━━━━━━━━━━━━━━━━━━\u001B[0m\u001B[37m\u001B[0m \u001B[1m2s\u001B[0m 8ms/step - accuracy: 0.6800 - loss: -14.7185 - val_accuracy: 0.5258 - val_loss: -2.8009\n",
      "Epoch 8/10\n",
      "\u001B[1m293/293\u001B[0m \u001B[32m━━━━━━━━━━━━━━━━━━━━\u001B[0m\u001B[37m\u001B[0m \u001B[1m2s\u001B[0m 8ms/step - accuracy: 0.6815 - loss: -16.3330 - val_accuracy: 0.5344 - val_loss: -2.7478\n",
      "Epoch 9/10\n",
      "\u001B[1m293/293\u001B[0m \u001B[32m━━━━━━━━━━━━━━━━━━━━\u001B[0m\u001B[37m\u001B[0m \u001B[1m2s\u001B[0m 8ms/step - accuracy: 0.6809 - loss: -17.6041 - val_accuracy: 0.5143 - val_loss: -3.2235\n",
      "Epoch 10/10\n",
      "\u001B[1m293/293\u001B[0m \u001B[32m━━━━━━━━━━━━━━━━━━━━\u001B[0m\u001B[37m\u001B[0m \u001B[1m2s\u001B[0m 8ms/step - accuracy: 0.6673 - loss: -19.8515 - val_accuracy: 0.5762 - val_loss: -1.0189\n",
      "\u001B[1m92/92\u001B[0m \u001B[32m━━━━━━━━━━━━━━━━━━━━\u001B[0m\u001B[37m\u001B[0m \u001B[1m0s\u001B[0m 3ms/step - accuracy: 0.6097 - loss: -0.6517\n",
      "Test Accuracy: 0.5963\n"
     ]
    }
   ],
   "execution_count": 29
  },
  {
   "cell_type": "code",
   "source": [
    "# Обучение модели\n",
    "history = model.fit(X_train_pad, y_train, epochs=10, batch_size=32, validation_split=0.2)"
   ],
   "metadata": {
    "colab": {
     "base_uri": "https://localhost:8080/"
    },
    "id": "1cl1DAS6nsJu",
    "outputId": "90402ee2-ad17-41b6-ee77-209de631cb27",
    "ExecuteTime": {
     "end_time": "2024-09-28T09:06:45.866089Z",
     "start_time": "2024-09-28T09:06:22.177634Z"
    }
   },
   "outputs": [
    {
     "name": "stdout",
     "output_type": "stream",
     "text": [
      "Epoch 1/10\n",
      "\u001B[1m293/293\u001B[0m \u001B[32m━━━━━━━━━━━━━━━━━━━━\u001B[0m\u001B[37m\u001B[0m \u001B[1m2s\u001B[0m 8ms/step - accuracy: 0.6820 - loss: -21.6853 - val_accuracy: 0.5531 - val_loss: -3.5103\n",
      "Epoch 2/10\n",
      "\u001B[1m293/293\u001B[0m \u001B[32m━━━━━━━━━━━━━━━━━━━━\u001B[0m\u001B[37m\u001B[0m \u001B[1m2s\u001B[0m 8ms/step - accuracy: 0.6839 - loss: -23.2791 - val_accuracy: 0.4900 - val_loss: -3.9491\n",
      "Epoch 3/10\n",
      "\u001B[1m293/293\u001B[0m \u001B[32m━━━━━━━━━━━━━━━━━━━━\u001B[0m\u001B[37m\u001B[0m \u001B[1m2s\u001B[0m 8ms/step - accuracy: 0.6669 - loss: -24.9360 - val_accuracy: 0.5399 - val_loss: -4.3584\n",
      "Epoch 4/10\n",
      "\u001B[1m293/293\u001B[0m \u001B[32m━━━━━━━━━━━━━━━━━━━━\u001B[0m\u001B[37m\u001B[0m \u001B[1m2s\u001B[0m 8ms/step - accuracy: 0.6851 - loss: -26.6265 - val_accuracy: 0.4802 - val_loss: -4.7112\n",
      "Epoch 5/10\n",
      "\u001B[1m293/293\u001B[0m \u001B[32m━━━━━━━━━━━━━━━━━━━━\u001B[0m\u001B[37m\u001B[0m \u001B[1m2s\u001B[0m 8ms/step - accuracy: 0.6778 - loss: -28.2615 - val_accuracy: 0.5045 - val_loss: -5.6810\n",
      "Epoch 6/10\n",
      "\u001B[1m293/293\u001B[0m \u001B[32m━━━━━━━━━━━━━━━━━━━━\u001B[0m\u001B[37m\u001B[0m \u001B[1m2s\u001B[0m 8ms/step - accuracy: 0.6832 - loss: -32.1749 - val_accuracy: 0.5109 - val_loss: -5.3776\n",
      "Epoch 7/10\n",
      "\u001B[1m293/293\u001B[0m \u001B[32m━━━━━━━━━━━━━━━━━━━━\u001B[0m\u001B[37m\u001B[0m \u001B[1m2s\u001B[0m 8ms/step - accuracy: 0.6770 - loss: -33.5033 - val_accuracy: 0.5519 - val_loss: -4.1858\n",
      "Epoch 8/10\n",
      "\u001B[1m293/293\u001B[0m \u001B[32m━━━━━━━━━━━━━━━━━━━━\u001B[0m\u001B[37m\u001B[0m \u001B[1m2s\u001B[0m 8ms/step - accuracy: 0.6820 - loss: -35.8406 - val_accuracy: 0.5536 - val_loss: -4.9997\n",
      "Epoch 9/10\n",
      "\u001B[1m293/293\u001B[0m \u001B[32m━━━━━━━━━━━━━━━━━━━━\u001B[0m\u001B[37m\u001B[0m \u001B[1m2s\u001B[0m 8ms/step - accuracy: 0.6705 - loss: -37.0635 - val_accuracy: 0.5523 - val_loss: -6.0546\n",
      "Epoch 10/10\n",
      "\u001B[1m293/293\u001B[0m \u001B[32m━━━━━━━━━━━━━━━━━━━━\u001B[0m\u001B[37m\u001B[0m \u001B[1m2s\u001B[0m 8ms/step - accuracy: 0.6791 - loss: -40.4617 - val_accuracy: 0.5749 - val_loss: -4.4343\n"
     ]
    }
   ],
   "execution_count": 30
  },
  {
   "cell_type": "code",
   "source": [
    "loss, accuracy = model.evaluate(X_test_pad, y_test)\n",
    "print(f'Test Accuracy: {accuracy:.4f}')"
   ],
   "metadata": {
    "colab": {
     "base_uri": "https://localhost:8080/"
    },
    "id": "nY4Of1w0qBjo",
    "outputId": "0b5ba542-4274-4134-e7cf-61571f68b906",
    "ExecuteTime": {
     "end_time": "2024-09-28T09:06:48.475216Z",
     "start_time": "2024-09-28T09:06:48.175504Z"
    }
   },
   "outputs": [
    {
     "name": "stdout",
     "output_type": "stream",
     "text": [
      "\u001B[1m92/92\u001B[0m \u001B[32m━━━━━━━━━━━━━━━━━━━━\u001B[0m\u001B[37m\u001B[0m \u001B[1m0s\u001B[0m 2ms/step - accuracy: 0.5936 - loss: -4.7581\n",
      "Test Accuracy: 0.5840\n"
     ]
    }
   ],
   "execution_count": 31
  },
  {
   "cell_type": "code",
   "source": [
    "X_test_pad[0]"
   ],
   "metadata": {
    "colab": {
     "base_uri": "https://localhost:8080/"
    },
    "id": "kLi5CXVNqPti",
    "outputId": "4659b6ca-bedb-43c3-95de-4c9c090d99d0",
    "ExecuteTime": {
     "end_time": "2024-09-28T09:06:50.308224Z",
     "start_time": "2024-09-28T09:06:50.302789Z"
    }
   },
   "outputs": [
    {
     "data": {
      "text/plain": [
       "array([  0,   0,   0,   0,   0,   0,   0,   0,   0,   0,   0,   0,   0,\n",
       "         0,   0,   0,   0,   0,   0,   0,   0,   0,   0,   0,   0,   0,\n",
       "       212,  10, 377,   6, 219,  95], dtype=int32)"
      ]
     },
     "execution_count": 32,
     "metadata": {},
     "output_type": "execute_result"
    }
   ],
   "execution_count": 32
  },
  {
   "cell_type": "code",
   "source": [
    "def predict_sentiment(text):\n",
    "    cleaned_text = preprocess_text(text)\n",
    "    seq = tokenizer.texts_to_sequences([cleaned_text])\n",
    "    padded_seq = pad_sequences(seq, maxlen=max_length)\n",
    "    prediction = model.predict(padded_seq)\n",
    "    return 'positive' if prediction[0][0] > 0.5 else 'negative'\n",
    "\n",
    "# Пример предсказания\n",
    "print(predict_sentiment(\"I don't like this product!\"))"
   ],
   "metadata": {
    "colab": {
     "base_uri": "https://localhost:8080/"
    },
    "id": "c0YuYnjSqH0x",
    "outputId": "13e28b49-2fda-4b38-8e2c-9918289d9e15",
    "ExecuteTime": {
     "end_time": "2024-09-28T09:06:51.251856Z",
     "start_time": "2024-09-28T09:06:51.103584Z"
    }
   },
   "outputs": [
    {
     "name": "stdout",
     "output_type": "stream",
     "text": [
      "\u001B[1m1/1\u001B[0m \u001B[32m━━━━━━━━━━━━━━━━━━━━\u001B[0m\u001B[37m\u001B[0m \u001B[1m0s\u001B[0m 103ms/step\n",
      "positive\n"
     ]
    }
   ],
   "execution_count": 33
  },
  {
   "cell_type": "code",
   "source": [
    "import pandas as pd\n",
    "import numpy as np\n",
    "import re\n",
    "from sklearn.model_selection import train_test_split\n",
    "from tensorflow.keras.preprocessing.text import Tokenizer\n",
    "from tensorflow.keras.preprocessing.sequence import pad_sequences\n",
    "from tensorflow.keras.models import Sequential\n",
    "from tensorflow.keras.layers import Embedding, LSTM, Dense, Dropout, BatchNormalization\n",
    "from tensorflow.keras.optimizers import Adam\n",
    "\n",
    "# Загрузка данных\n",
    "\n",
    "\n",
    "# Предобработка текста\n",
    "def preprocess_text(text):\n",
    "    text = re.sub(r'http\\S+', '', text)  # Удаление ссылок\n",
    "    text = re.sub(r'@\\w+', '', text)    # Удаление упоминаний\n",
    "    text = re.sub(r'#\\w+', '', text)    # Удаление хештегов\n",
    "    text = re.sub(r'[^\\w\\s]', '', text) # Удаление знаков пунктуации\n",
    "    return text.lower()\n",
    "\n",
    "df['cleaned_text'] = df['text'].apply(preprocess_text)\n",
    "\n",
    "# Преобразование меток в числовой формат (например, 1 - позитивный, 0 - негативный)\n",
    "df['label'] = df['airline_sentiment'].map({'positive': 1, 'negative': 0, 'neutral':2})\n",
    "\n",
    "# Разделение данных на обучающую и тестовую выборки\n",
    "X_train, X_test, y_train, y_test = train_test_split(df['cleaned_text'], df['label'], test_size=0.2, random_state=42)\n",
    "\n",
    "# Токенизация текста\n",
    "tokenizer = Tokenizer(num_words=5000)\n",
    "tokenizer.fit_on_texts(X_train)\n",
    "\n",
    "X_train_seq = tokenizer.texts_to_sequences(X_train)\n",
    "X_test_seq = tokenizer.texts_to_sequences(X_test)\n",
    "\n",
    "# Паддинг последовательностей\n",
    "max_length = max(len(x) for x in X_train_seq)\n",
    "X_train_pad = pad_sequences(X_train_seq, maxlen=max_length)\n",
    "X_test_pad = pad_sequences(X_test_seq, maxlen=max_length)\n",
    "\n",
    "# Создание модели LSTM с улучшениями\n",
    "model = Sequential()\n",
    "model.add(Embedding(input_dim=5000, output_dim=128, input_length=max_length))\n",
    "model.add(LSTM(64, return_sequences=True))  # Используем LSTM вместо RNN\n",
    "model.add(Dropout(0.5))                     # Регуляризация через Dropout\n",
    "model.add(LSTM(32))                          # Второй слой LSTM для лучшего извлечения признаков\n",
    "model.add(Dropout(0.5))                     # Еще один Dropout слой для регуляризации\n",
    "model.add(Dense(1, activation='sigmoid'))\n",
    "\n",
    "# Компиляция модели с уменьшенной скоростью обучения\n",
    "optimizer = Adam(learning_rate=0.0001)  # Уменьшенная скорость обучения\n",
    "model.compile(loss='binary_crossentropy', optimizer=optimizer, metrics=['accuracy'])\n",
    "\n",
    "# Обучение модели с обработкой NaN значений в loss и логированием значений потерь\n",
    "try:\n",
    "    history = model.fit(X_train_pad, y_train, epochs=10, batch_size=32, validation_split=0.2)\n",
    "except Exception as e:\n",
    "    print(\"Ошибка во время обучения:\", e)\n",
    "\n",
    "# Оценка модели на тестовой выборке\n",
    "loss, accuracy = model.evaluate(X_test_pad, y_test)\n",
    "print(f'Test Accuracy: {accuracy:.4f}')"
   ],
   "metadata": {
    "colab": {
     "base_uri": "https://localhost:8080/"
    },
    "id": "YvTbDkmC0q1Q",
    "outputId": "2a7cbf67-0332-49fc-a901-42d3e223cc3a",
    "ExecuteTime": {
     "end_time": "2024-09-28T09:08:06.004131Z",
     "start_time": "2024-09-28T09:06:52.242618Z"
    }
   },
   "outputs": [
    {
     "name": "stdout",
     "output_type": "stream",
     "text": [
      "Epoch 1/10\n"
     ]
    },
    {
     "name": "stderr",
     "output_type": "stream",
     "text": [
      "/home/le/PycharmProjects/urfu/.venv/lib/python3.10/site-packages/keras/src/layers/core/embedding.py:90: UserWarning: Argument `input_length` is deprecated. Just remove it.\n",
      "  warnings.warn(\n"
     ]
    },
    {
     "name": "stdout",
     "output_type": "stream",
     "text": [
      "\u001B[1m293/293\u001B[0m \u001B[32m━━━━━━━━━━━━━━━━━━━━\u001B[0m\u001B[37m\u001B[0m \u001B[1m9s\u001B[0m 24ms/step - accuracy: 0.2424 - loss: 0.6122 - val_accuracy: 0.5011 - val_loss: 0.4377\n",
      "Epoch 2/10\n",
      "\u001B[1m293/293\u001B[0m \u001B[32m━━━━━━━━━━━━━━━━━━━━\u001B[0m\u001B[37m\u001B[0m \u001B[1m7s\u001B[0m 24ms/step - accuracy: 0.5332 - loss: 0.3824 - val_accuracy: 0.5612 - val_loss: 0.3273\n",
      "Epoch 3/10\n",
      "\u001B[1m293/293\u001B[0m \u001B[32m━━━━━━━━━━━━━━━━━━━━\u001B[0m\u001B[37m\u001B[0m \u001B[1m7s\u001B[0m 24ms/step - accuracy: 0.5447 - loss: 0.1998 - val_accuracy: 0.6044 - val_loss: 0.0118\n",
      "Epoch 4/10\n",
      "\u001B[1m293/293\u001B[0m \u001B[32m━━━━━━━━━━━━━━━━━━━━\u001B[0m\u001B[37m\u001B[0m \u001B[1m7s\u001B[0m 24ms/step - accuracy: 0.5984 - loss: -0.2037 - val_accuracy: 0.5787 - val_loss: -0.2059\n",
      "Epoch 5/10\n",
      "\u001B[1m293/293\u001B[0m \u001B[32m━━━━━━━━━━━━━━━━━━━━\u001B[0m\u001B[37m\u001B[0m \u001B[1m7s\u001B[0m 24ms/step - accuracy: 0.6373 - loss: -0.6239 - val_accuracy: 0.6248 - val_loss: -0.3813\n",
      "Epoch 6/10\n",
      "\u001B[1m293/293\u001B[0m \u001B[32m━━━━━━━━━━━━━━━━━━━━\u001B[0m\u001B[37m\u001B[0m \u001B[1m7s\u001B[0m 24ms/step - accuracy: 0.6556 - loss: -0.8571 - val_accuracy: 0.6240 - val_loss: -0.4643\n",
      "Epoch 7/10\n",
      "\u001B[1m293/293\u001B[0m \u001B[32m━━━━━━━━━━━━━━━━━━━━\u001B[0m\u001B[37m\u001B[0m \u001B[1m7s\u001B[0m 24ms/step - accuracy: 0.6762 - loss: -1.0543 - val_accuracy: 0.6240 - val_loss: -0.5298\n",
      "Epoch 8/10\n",
      "\u001B[1m293/293\u001B[0m \u001B[32m━━━━━━━━━━━━━━━━━━━━\u001B[0m\u001B[37m\u001B[0m \u001B[1m7s\u001B[0m 24ms/step - accuracy: 0.6832 - loss: -1.2786 - val_accuracy: 0.6240 - val_loss: -0.4948\n",
      "Epoch 9/10\n",
      "\u001B[1m293/293\u001B[0m \u001B[32m━━━━━━━━━━━━━━━━━━━━\u001B[0m\u001B[37m\u001B[0m \u001B[1m7s\u001B[0m 24ms/step - accuracy: 0.6886 - loss: -1.5910 - val_accuracy: 0.6355 - val_loss: -0.6857\n",
      "Epoch 10/10\n",
      "\u001B[1m293/293\u001B[0m \u001B[32m━━━━━━━━━━━━━━━━━━━━\u001B[0m\u001B[37m\u001B[0m \u001B[1m7s\u001B[0m 23ms/step - accuracy: 0.6956 - loss: -1.7716 - val_accuracy: 0.6415 - val_loss: -0.7294\n",
      "\u001B[1m92/92\u001B[0m \u001B[32m━━━━━━━━━━━━━━━━━━━━\u001B[0m\u001B[37m\u001B[0m \u001B[1m1s\u001B[0m 8ms/step - accuracy: 0.6519 - loss: -0.6114\n",
      "Test Accuracy: 0.6561\n"
     ]
    }
   ],
   "execution_count": 34
  },
  {
   "cell_type": "code",
   "source": [
    "import numpy as np\n",
    "\n",
    "# Оценка модели на тестовой выборке\n",
    "loss, accuracy = model.evaluate(X_test_pad, y_test)\n",
    "print(f'Test Accuracy: {accuracy:.4f}')\n",
    "\n",
    "# Получение предсказаний на тестовых данных\n",
    "y_pred_prob = model.predict(X_test_pad)\n",
    "y_pred = (y_pred_prob > 0.5).astype(int)  # Преобразование вероятностей в классы (0 или 1)\n",
    "\n",
    "# Сравнение предсказаний с истинными метками\n",
    "comparison_df = pd.DataFrame({\n",
    "    'text': X_test,\n",
    "    'true_label': y_test,\n",
    "    'predicted_label': y_pred.flatten(),\n",
    "    'predicted_probability': y_pred_prob.flatten()\n",
    "})\n",
    "\n",
    "# Переименование меток для удобства\n",
    "comparison_df['true_label'] = comparison_df['true_label'].map({1: 'positive', 0: 'negative'})\n",
    "comparison_df['predicted_label'] = comparison_df['predicted_label'].map({1: 'positive', 0: 'negative'})\n",
    "\n",
    "# Вывод первых 10 примеров\n",
    "print(comparison_df.head(10))\n",
    "\n",
    "# Вывод статистики по предсказаниям\n",
    "correct_predictions = (comparison_df['true_label'] == comparison_df['predicted_label']).sum()\n",
    "total_predictions = len(comparison_df)\n",
    "print(f'Correct Predictions: {correct_predictions} out of {total_predictions}')\n",
    "print(f'Accuracy of Predictions: {correct_predictions / total_predictions:.2%}')"
   ],
   "metadata": {
    "colab": {
     "base_uri": "https://localhost:8080/"
    },
    "id": "WBgd6xFh7buV",
    "outputId": "263445dd-205f-438f-9929-49dc7d70774c",
    "ExecuteTime": {
     "end_time": "2024-09-28T09:08:08.001725Z",
     "start_time": "2024-09-28T09:08:06.006445Z"
    }
   },
   "outputs": [
    {
     "name": "stdout",
     "output_type": "stream",
     "text": [
      "\u001B[1m92/92\u001B[0m \u001B[32m━━━━━━━━━━━━━━━━━━━━\u001B[0m\u001B[37m\u001B[0m \u001B[1m1s\u001B[0m 8ms/step - accuracy: 0.6519 - loss: -0.6114\n",
      "Test Accuracy: 0.6561\n",
      "\u001B[1m92/92\u001B[0m \u001B[32m━━━━━━━━━━━━━━━━━━━━\u001B[0m\u001B[37m\u001B[0m \u001B[1m1s\u001B[0m 10ms/step\n",
      "                                                    text true_label  \\\n",
      "4794        youre my early frontrunner for best airline    positive   \n",
      "10480   how is it that my flt to ewr was cancelled fl...   negative   \n",
      "8067    what is going on with your bdl to dca flights...   negative   \n",
      "8880           do they have to depart from washington dc        NaN   \n",
      "8292    i can probably find some of them are the tick...   negative   \n",
      "927     still waiting to hear back my wallet was stol...   negative   \n",
      "3165    yes my flight was rebooked im just losing tru...   negative   \n",
      "7894    thank you  what about paris  could we arrange...        NaN   \n",
      "2818    not 100 sure however my ticket included one c...   negative   \n",
      "9145    great crew for flight 504 phx to yvr tonight ...   positive   \n",
      "\n",
      "      predicted_label  predicted_probability  \n",
      "4794         positive               0.999998  \n",
      "10480        negative               0.090319  \n",
      "8067         negative               0.079135  \n",
      "8880         positive               0.999999  \n",
      "8292         positive               0.999999  \n",
      "927          negative               0.210428  \n",
      "3165         negative               0.098152  \n",
      "7894         positive               0.999999  \n",
      "2818         negative               0.091124  \n",
      "9145         positive               0.999999  \n",
      "Correct Predictions: 1921 out of 2928\n",
      "Accuracy of Predictions: 65.61%\n"
     ]
    }
   ],
   "execution_count": 35
  },
  {
   "cell_type": "code",
   "source": [
    "def predict_sentiment(text):\n",
    "    cleaned_text = preprocess_text(text)\n",
    "    seq = tokenizer.texts_to_sequences([cleaned_text])\n",
    "    padded_seq = pad_sequences(seq, maxlen=max_length)\n",
    "    prediction = model.predict(padded_seq)\n",
    "    return 'positive' if prediction[0][0] > 0.5 else 'negative'\n",
    "\n",
    "# Пример предсказания\n",
    "print(predict_sentiment(\" i  fuck it\"))\n"
   ],
   "metadata": {
    "colab": {
     "base_uri": "https://localhost:8080/"
    },
    "id": "62vgXnw37n7I",
    "outputId": "80b84652-1244-44db-cc64-7436e374d30c",
    "ExecuteTime": {
     "end_time": "2024-09-28T09:09:13.095388Z",
     "start_time": "2024-09-28T09:09:13.034132Z"
    }
   },
   "outputs": [
    {
     "name": "stdout",
     "output_type": "stream",
     "text": [
      "\u001B[1m1/1\u001B[0m \u001B[32m━━━━━━━━━━━━━━━━━━━━\u001B[0m\u001B[37m\u001B[0m \u001B[1m0s\u001B[0m 17ms/step\n",
      "positive\n"
     ]
    }
   ],
   "execution_count": 44
  },
  {
   "cell_type": "markdown",
   "source": [
    "### Задача генерации текста\n"
   ],
   "metadata": {
    "id": "vUbC-x2LjRkF"
   }
  },
  {
   "cell_type": "code",
   "source": [
    "import numpy as np\n",
    "from tensorflow.keras.models import Sequential\n",
    "from tensorflow.keras.layers import Dense, Dropout, LSTM\n",
    "from tensorflow.keras.optimizers import Adam\n",
    "from tensorflow.keras.utils import to_categorical\n",
    "\n",
    "# Generate text for training\n",
    "text = (\n",
    "    \"in the world of technology artificial intelligence and machine learning \"\n",
    "    \"play an important role. they help in automating processes, \"\n",
    "    \"improving product quality and increasing efficiency. \"\n",
    "    \"every year more and more companies are implementing innovative solutions, \"\n",
    "    \"based on big data analysis and predictive analytics. \"\n",
    "    \"the future of technology promises to be exciting and full of opportunities.\"\n",
    ")\n",
    "\n",
    "# Convert text to lowercase and create character dictionary\n",
    "text = text.lower()\n",
    "characters = sorted(list(set(text)))\n",
    "n_characters = len(characters)\n",
    "char_to_index = {char: i for i, char in enumerate(characters)}\n",
    "index_to_char = {i: char for i, char in enumerate(characters)}\n",
    "\n",
    "# Prepare data for training\n",
    "sequence_length = 50\n",
    "X = []\n",
    "y = []\n",
    "for i in range(0, len(text) - sequence_length):\n",
    "    sequence_x = text[i:i + sequence_length]\n",
    "    sequence_y = text[i + sequence_length]\n",
    "    X.append([char_to_index[char] for char in sequence_x])\n",
    "    y.append(char_to_index[sequence_y])\n",
    "\n",
    "X = np.reshape(X, (len(X), sequence_length, 1))\n",
    "X = X / float(n_characters)\n",
    "y = to_categorical(y, num_classes=n_characters)\n",
    "\n",
    "# Create model\n",
    "model = Sequential()\n",
    "model.add(LSTM(256, input_shape=(sequence_length, 1), return_sequences=True))\n",
    "model.add(Dropout(0.2))\n",
    "model.add(LSTM(256))\n",
    "model.add(Dropout(0.2))\n",
    "model.add(Dense(n_characters, activation='softmax'))\n",
    "model.compile(loss='categorical_crossentropy', optimizer=Adam(learning_rate=0.001))\n",
    "\n",
    "# Train model\n",
    "model.fit(X, y, epochs=100, batch_size=16)\n",
    "\n",
    "# Generate text\n",
    "start_string = 'in the'\n",
    "generation_length = 100\n",
    "\n",
    "for i in range(generation_length):\n",
    "    char_indices = [char_to_index[char] for char in start_string]\n",
    "    X = np.reshape(char_indices, (1, len(char_indices), 1))\n",
    "    X = X / float(n_characters)\n",
    "    prediction = model.predict(X, verbose=0)\n",
    "    index = np.argmax(prediction)\n",
    "    result = index_to_char[index]\n",
    "    start_string += result\n",
    "    start_string = start_string[1:]\n",
    "\n",
    "print(\"Generated text:\")\n",
    "print(start_string)"
   ],
   "metadata": {
    "colab": {
     "base_uri": "https://localhost:8080/"
    },
    "id": "-ngRvaa4jUcq",
    "outputId": "4d17a145-e6bd-47cb-fdcb-9891b800377b"
   },
   "execution_count": null,
   "outputs": [
    {
     "output_type": "stream",
     "name": "stdout",
     "text": [
      "Epoch 1/100\n"
     ]
    },
    {
     "output_type": "stream",
     "name": "stderr",
     "text": [
      "/usr/local/lib/python3.10/dist-packages/keras/src/layers/rnn/rnn.py:204: UserWarning: Do not pass an `input_shape`/`input_dim` argument to a layer. When using Sequential models, prefer using an `Input(shape)` object as the first layer in the model instead.\n",
      "  super().__init__(**kwargs)\n"
     ]
    },
    {
     "output_type": "stream",
     "name": "stdout",
     "text": [
      "\u001B[1m21/21\u001B[0m \u001B[32m━━━━━━━━━━━━━━━━━━━━\u001B[0m\u001B[37m\u001B[0m \u001B[1m7s\u001B[0m 215ms/step - loss: 3.1557\n",
      "Epoch 2/100\n",
      "\u001B[1m21/21\u001B[0m \u001B[32m━━━━━━━━━━━━━━━━━━━━\u001B[0m\u001B[37m\u001B[0m \u001B[1m7s\u001B[0m 292ms/step - loss: 2.9666\n",
      "Epoch 3/100\n",
      "\u001B[1m21/21\u001B[0m \u001B[32m━━━━━━━━━━━━━━━━━━━━\u001B[0m\u001B[37m\u001B[0m \u001B[1m9s\u001B[0m 221ms/step - loss: 2.9761\n",
      "Epoch 4/100\n",
      "\u001B[1m21/21\u001B[0m \u001B[32m━━━━━━━━━━━━━━━━━━━━\u001B[0m\u001B[37m\u001B[0m \u001B[1m6s\u001B[0m 258ms/step - loss: 2.9818\n",
      "Epoch 5/100\n",
      "\u001B[1m21/21\u001B[0m \u001B[32m━━━━━━━━━━━━━━━━━━━━\u001B[0m\u001B[37m\u001B[0m \u001B[1m11s\u001B[0m 288ms/step - loss: 2.9625\n",
      "Epoch 6/100\n",
      "\u001B[1m21/21\u001B[0m \u001B[32m━━━━━━━━━━━━━━━━━━━━\u001B[0m\u001B[37m\u001B[0m \u001B[1m9s\u001B[0m 214ms/step - loss: 2.9473\n",
      "Epoch 7/100\n",
      "\u001B[1m21/21\u001B[0m \u001B[32m━━━━━━━━━━━━━━━━━━━━\u001B[0m\u001B[37m\u001B[0m \u001B[1m8s\u001B[0m 335ms/step - loss: 2.8980\n",
      "Epoch 8/100\n",
      "\u001B[1m21/21\u001B[0m \u001B[32m━━━━━━━━━━━━━━━━━━━━\u001B[0m\u001B[37m\u001B[0m \u001B[1m8s\u001B[0m 227ms/step - loss: 2.9242\n",
      "Epoch 9/100\n",
      "\u001B[1m21/21\u001B[0m \u001B[32m━━━━━━━━━━━━━━━━━━━━\u001B[0m\u001B[37m\u001B[0m \u001B[1m6s\u001B[0m 295ms/step - loss: 2.9567\n",
      "Epoch 10/100\n",
      "\u001B[1m21/21\u001B[0m \u001B[32m━━━━━━━━━━━━━━━━━━━━\u001B[0m\u001B[37m\u001B[0m \u001B[1m9s\u001B[0m 213ms/step - loss: 2.9186\n",
      "Epoch 11/100\n",
      "\u001B[1m21/21\u001B[0m \u001B[32m━━━━━━━━━━━━━━━━━━━━\u001B[0m\u001B[37m\u001B[0m \u001B[1m7s\u001B[0m 294ms/step - loss: 2.9355\n",
      "Epoch 12/100\n",
      "\u001B[1m21/21\u001B[0m \u001B[32m━━━━━━━━━━━━━━━━━━━━\u001B[0m\u001B[37m\u001B[0m \u001B[1m9s\u001B[0m 235ms/step - loss: 2.9110\n",
      "Epoch 13/100\n",
      "\u001B[1m21/21\u001B[0m \u001B[32m━━━━━━━━━━━━━━━━━━━━\u001B[0m\u001B[37m\u001B[0m \u001B[1m6s\u001B[0m 262ms/step - loss: 2.9563\n",
      "Epoch 14/100\n",
      "\u001B[1m21/21\u001B[0m \u001B[32m━━━━━━━━━━━━━━━━━━━━\u001B[0m\u001B[37m\u001B[0m \u001B[1m4s\u001B[0m 212ms/step - loss: 2.9412\n",
      "Epoch 15/100\n",
      "\u001B[1m21/21\u001B[0m \u001B[32m━━━━━━━━━━━━━━━━━━━━\u001B[0m\u001B[37m\u001B[0m \u001B[1m7s\u001B[0m 287ms/step - loss: 2.9476\n",
      "Epoch 16/100\n",
      "\u001B[1m21/21\u001B[0m \u001B[32m━━━━━━━━━━━━━━━━━━━━\u001B[0m\u001B[37m\u001B[0m \u001B[1m5s\u001B[0m 212ms/step - loss: 2.9155\n",
      "Epoch 17/100\n",
      "\u001B[1m21/21\u001B[0m \u001B[32m━━━━━━━━━━━━━━━━━━━━\u001B[0m\u001B[37m\u001B[0m \u001B[1m4s\u001B[0m 214ms/step - loss: 2.8535\n",
      "Epoch 18/100\n",
      "\u001B[1m21/21\u001B[0m \u001B[32m━━━━━━━━━━━━━━━━━━━━\u001B[0m\u001B[37m\u001B[0m \u001B[1m7s\u001B[0m 293ms/step - loss: 2.9566\n",
      "Epoch 19/100\n",
      "\u001B[1m21/21\u001B[0m \u001B[32m━━━━━━━━━━━━━━━━━━━━\u001B[0m\u001B[37m\u001B[0m \u001B[1m9s\u001B[0m 224ms/step - loss: 2.9111\n",
      "Epoch 20/100\n",
      "\u001B[1m21/21\u001B[0m \u001B[32m━━━━━━━━━━━━━━━━━━━━\u001B[0m\u001B[37m\u001B[0m \u001B[1m6s\u001B[0m 261ms/step - loss: 3.0052\n",
      "Epoch 21/100\n",
      "\u001B[1m21/21\u001B[0m \u001B[32m━━━━━━━━━━━━━━━━━━━━\u001B[0m\u001B[37m\u001B[0m \u001B[1m10s\u001B[0m 277ms/step - loss: 2.8821\n",
      "Epoch 22/100\n",
      "\u001B[1m21/21\u001B[0m \u001B[32m━━━━━━━━━━━━━━━━━━━━\u001B[0m\u001B[37m\u001B[0m \u001B[1m9s\u001B[0m 217ms/step - loss: 2.9249\n",
      "Epoch 23/100\n",
      "\u001B[1m21/21\u001B[0m \u001B[32m━━━━━━━━━━━━━━━━━━━━\u001B[0m\u001B[37m\u001B[0m \u001B[1m7s\u001B[0m 290ms/step - loss: 2.9277\n",
      "Epoch 24/100\n",
      "\u001B[1m21/21\u001B[0m \u001B[32m━━━━━━━━━━━━━━━━━━━━\u001B[0m\u001B[37m\u001B[0m \u001B[1m9s\u001B[0m 210ms/step - loss: 2.9180\n",
      "Epoch 25/100\n",
      "\u001B[1m21/21\u001B[0m \u001B[32m━━━━━━━━━━━━━━━━━━━━\u001B[0m\u001B[37m\u001B[0m \u001B[1m6s\u001B[0m 260ms/step - loss: 2.9006\n",
      "Epoch 26/100\n",
      "\u001B[1m21/21\u001B[0m \u001B[32m━━━━━━━━━━━━━━━━━━━━\u001B[0m\u001B[37m\u001B[0m \u001B[1m11s\u001B[0m 319ms/step - loss: 2.8686\n",
      "Epoch 27/100\n",
      "\u001B[1m21/21\u001B[0m \u001B[32m━━━━━━━━━━━━━━━━━━━━\u001B[0m\u001B[37m\u001B[0m \u001B[1m8s\u001B[0m 214ms/step - loss: 2.8260\n",
      "Epoch 28/100\n",
      "\u001B[1m21/21\u001B[0m \u001B[32m━━━━━━━━━━━━━━━━━━━━\u001B[0m\u001B[37m\u001B[0m \u001B[1m7s\u001B[0m 297ms/step - loss: 2.8598\n",
      "Epoch 29/100\n",
      "\u001B[1m21/21\u001B[0m \u001B[32m━━━━━━━━━━━━━━━━━━━━\u001B[0m\u001B[37m\u001B[0m \u001B[1m9s\u001B[0m 222ms/step - loss: 2.8249\n",
      "Epoch 30/100\n",
      "\u001B[1m21/21\u001B[0m \u001B[32m━━━━━━━━━━━━━━━━━━━━\u001B[0m\u001B[37m\u001B[0m \u001B[1m8s\u001B[0m 361ms/step - loss: 2.8447\n",
      "Epoch 31/100\n",
      "\u001B[1m21/21\u001B[0m \u001B[32m━━━━━━━━━━━━━━━━━━━━\u001B[0m\u001B[37m\u001B[0m \u001B[1m7s\u001B[0m 211ms/step - loss: 2.7257\n",
      "Epoch 32/100\n",
      "\u001B[1m21/21\u001B[0m \u001B[32m━━━━━━━━━━━━━━━━━━━━\u001B[0m\u001B[37m\u001B[0m \u001B[1m7s\u001B[0m 293ms/step - loss: 2.8144\n",
      "Epoch 33/100\n",
      "\u001B[1m21/21\u001B[0m \u001B[32m━━━━━━━━━━━━━━━━━━━━\u001B[0m\u001B[37m\u001B[0m \u001B[1m4s\u001B[0m 214ms/step - loss: 2.7388\n",
      "Epoch 34/100\n",
      "\u001B[1m21/21\u001B[0m \u001B[32m━━━━━━━━━━━━━━━━━━━━\u001B[0m\u001B[37m\u001B[0m \u001B[1m6s\u001B[0m 255ms/step - loss: 2.7355\n",
      "Epoch 35/100\n",
      "\u001B[1m21/21\u001B[0m \u001B[32m━━━━━━━━━━━━━━━━━━━━\u001B[0m\u001B[37m\u001B[0m \u001B[1m9s\u001B[0m 211ms/step - loss: 2.7617\n",
      "Epoch 36/100\n",
      "\u001B[1m21/21\u001B[0m \u001B[32m━━━━━━━━━━━━━━━━━━━━\u001B[0m\u001B[37m\u001B[0m \u001B[1m6s\u001B[0m 288ms/step - loss: 2.6825\n",
      "Epoch 37/100\n",
      "\u001B[1m21/21\u001B[0m \u001B[32m━━━━━━━━━━━━━━━━━━━━\u001B[0m\u001B[37m\u001B[0m \u001B[1m9s\u001B[0m 213ms/step - loss: 2.7421\n",
      "Epoch 38/100\n",
      "\u001B[1m21/21\u001B[0m \u001B[32m━━━━━━━━━━━━━━━━━━━━\u001B[0m\u001B[37m\u001B[0m \u001B[1m7s\u001B[0m 302ms/step - loss: 2.6350\n",
      "Epoch 39/100\n",
      "\u001B[1m21/21\u001B[0m \u001B[32m━━━━━━━━━━━━━━━━━━━━\u001B[0m\u001B[37m\u001B[0m \u001B[1m9s\u001B[0m 255ms/step - loss: 2.6293\n",
      "Epoch 40/100\n",
      "\u001B[1m21/21\u001B[0m \u001B[32m━━━━━━━━━━━━━━━━━━━━\u001B[0m\u001B[37m\u001B[0m \u001B[1m9s\u001B[0m 213ms/step - loss: 2.6419\n",
      "Epoch 41/100\n",
      "\u001B[1m21/21\u001B[0m \u001B[32m━━━━━━━━━━━━━━━━━━━━\u001B[0m\u001B[37m\u001B[0m \u001B[1m6s\u001B[0m 296ms/step - loss: 2.6362\n",
      "Epoch 42/100\n",
      "\u001B[1m21/21\u001B[0m \u001B[32m━━━━━━━━━━━━━━━━━━━━\u001B[0m\u001B[37m\u001B[0m \u001B[1m9s\u001B[0m 211ms/step - loss: 2.6628\n",
      "Epoch 43/100\n",
      "\u001B[1m21/21\u001B[0m \u001B[32m━━━━━━━━━━━━━━━━━━━━\u001B[0m\u001B[37m\u001B[0m \u001B[1m7s\u001B[0m 280ms/step - loss: 2.5574\n",
      "Epoch 44/100\n",
      "\u001B[1m21/21\u001B[0m \u001B[32m━━━━━━━━━━━━━━━━━━━━\u001B[0m\u001B[37m\u001B[0m \u001B[1m9s\u001B[0m 237ms/step - loss: 2.5042\n",
      "Epoch 45/100\n",
      "\u001B[1m21/21\u001B[0m \u001B[32m━━━━━━━━━━━━━━━━━━━━\u001B[0m\u001B[37m\u001B[0m \u001B[1m6s\u001B[0m 256ms/step - loss: 2.4181\n",
      "Epoch 46/100\n",
      "\u001B[1m21/21\u001B[0m \u001B[32m━━━━━━━━━━━━━━━━━━━━\u001B[0m\u001B[37m\u001B[0m \u001B[1m11s\u001B[0m 281ms/step - loss: 2.4023\n",
      "Epoch 47/100\n",
      "\u001B[1m21/21\u001B[0m \u001B[32m━━━━━━━━━━━━━━━━━━━━\u001B[0m\u001B[37m\u001B[0m \u001B[1m4s\u001B[0m 210ms/step - loss: 2.3486\n",
      "Epoch 48/100\n",
      "\u001B[1m21/21\u001B[0m \u001B[32m━━━━━━━━━━━━━━━━━━━━\u001B[0m\u001B[37m\u001B[0m \u001B[1m4s\u001B[0m 210ms/step - loss: 2.2690\n",
      "Epoch 49/100\n",
      "\u001B[1m21/21\u001B[0m \u001B[32m━━━━━━━━━━━━━━━━━━━━\u001B[0m\u001B[37m\u001B[0m \u001B[1m7s\u001B[0m 294ms/step - loss: 2.1692\n",
      "Epoch 50/100\n",
      "\u001B[1m21/21\u001B[0m \u001B[32m━━━━━━━━━━━━━━━━━━━━\u001B[0m\u001B[37m\u001B[0m \u001B[1m9s\u001B[0m 225ms/step - loss: 2.0794\n",
      "Epoch 51/100\n",
      "\u001B[1m21/21\u001B[0m \u001B[32m━━━━━━━━━━━━━━━━━━━━\u001B[0m\u001B[37m\u001B[0m \u001B[1m6s\u001B[0m 272ms/step - loss: 1.9866\n",
      "Epoch 52/100\n",
      "\u001B[1m21/21\u001B[0m \u001B[32m━━━━━━━━━━━━━━━━━━━━\u001B[0m\u001B[37m\u001B[0m \u001B[1m10s\u001B[0m 257ms/step - loss: 2.1047\n",
      "Epoch 53/100\n",
      "\u001B[1m21/21\u001B[0m \u001B[32m━━━━━━━━━━━━━━━━━━━━\u001B[0m\u001B[37m\u001B[0m \u001B[1m9s\u001B[0m 215ms/step - loss: 1.8395\n",
      "Epoch 54/100\n",
      "\u001B[1m21/21\u001B[0m \u001B[32m━━━━━━━━━━━━━━━━━━━━\u001B[0m\u001B[37m\u001B[0m \u001B[1m7s\u001B[0m 295ms/step - loss: 1.7325\n",
      "Epoch 55/100\n",
      "\u001B[1m21/21\u001B[0m \u001B[32m━━━━━━━━━━━━━━━━━━━━\u001B[0m\u001B[37m\u001B[0m \u001B[1m9s\u001B[0m 212ms/step - loss: 1.6042\n",
      "Epoch 56/100\n",
      "\u001B[1m21/21\u001B[0m \u001B[32m━━━━━━━━━━━━━━━━━━━━\u001B[0m\u001B[37m\u001B[0m \u001B[1m6s\u001B[0m 262ms/step - loss: 1.6405\n",
      "Epoch 57/100\n",
      "\u001B[1m21/21\u001B[0m \u001B[32m━━━━━━━━━━━━━━━━━━━━\u001B[0m\u001B[37m\u001B[0m \u001B[1m10s\u001B[0m 277ms/step - loss: 1.4219\n",
      "Epoch 58/100\n",
      "\u001B[1m21/21\u001B[0m \u001B[32m━━━━━━━━━━━━━━━━━━━━\u001B[0m\u001B[37m\u001B[0m \u001B[1m5s\u001B[0m 220ms/step - loss: 1.4636\n",
      "Epoch 59/100\n",
      "\u001B[1m21/21\u001B[0m \u001B[32m━━━━━━━━━━━━━━━━━━━━\u001B[0m\u001B[37m\u001B[0m \u001B[1m5s\u001B[0m 216ms/step - loss: 1.2260\n",
      "Epoch 60/100\n",
      "\u001B[1m21/21\u001B[0m \u001B[32m━━━━━━━━━━━━━━━━━━━━\u001B[0m\u001B[37m\u001B[0m \u001B[1m7s\u001B[0m 294ms/step - loss: 1.0670\n",
      "Epoch 61/100\n",
      "\u001B[1m21/21\u001B[0m \u001B[32m━━━━━━━━━━━━━━━━━━━━\u001B[0m\u001B[37m\u001B[0m \u001B[1m9s\u001B[0m 230ms/step - loss: 1.1746\n",
      "Epoch 62/100\n",
      "\u001B[1m21/21\u001B[0m \u001B[32m━━━━━━━━━━━━━━━━━━━━\u001B[0m\u001B[37m\u001B[0m \u001B[1m6s\u001B[0m 262ms/step - loss: 1.0726\n",
      "Epoch 63/100\n",
      "\u001B[1m21/21\u001B[0m \u001B[32m━━━━━━━━━━━━━━━━━━━━\u001B[0m\u001B[37m\u001B[0m \u001B[1m5s\u001B[0m 214ms/step - loss: 1.0068\n",
      "Epoch 64/100\n",
      "\u001B[1m21/21\u001B[0m \u001B[32m━━━━━━━━━━━━━━━━━━━━\u001B[0m\u001B[37m\u001B[0m \u001B[1m7s\u001B[0m 292ms/step - loss: 0.8625\n",
      "Epoch 65/100\n",
      "\u001B[1m21/21\u001B[0m \u001B[32m━━━━━━━━━━━━━━━━━━━━\u001B[0m\u001B[37m\u001B[0m \u001B[1m9s\u001B[0m 213ms/step - loss: 1.1200\n",
      "Epoch 66/100\n",
      "\u001B[1m21/21\u001B[0m \u001B[32m━━━━━━━━━━━━━━━━━━━━\u001B[0m\u001B[37m\u001B[0m \u001B[1m7s\u001B[0m 291ms/step - loss: 1.1071\n",
      "Epoch 67/100\n",
      "\u001B[1m21/21\u001B[0m \u001B[32m━━━━━━━━━━━━━━━━━━━━\u001B[0m\u001B[37m\u001B[0m \u001B[1m9s\u001B[0m 215ms/step - loss: 0.9737\n",
      "Epoch 68/100\n",
      "\u001B[1m21/21\u001B[0m \u001B[32m━━━━━━━━━━━━━━━━━━━━\u001B[0m\u001B[37m\u001B[0m \u001B[1m6s\u001B[0m 258ms/step - loss: 0.7504\n",
      "Epoch 69/100\n",
      "\u001B[1m21/21\u001B[0m \u001B[32m━━━━━━━━━━━━━━━━━━━━\u001B[0m\u001B[37m\u001B[0m \u001B[1m11s\u001B[0m 284ms/step - loss: 0.6137\n",
      "Epoch 70/100\n",
      "\u001B[1m21/21\u001B[0m \u001B[32m━━━━━━━━━━━━━━━━━━━━\u001B[0m\u001B[37m\u001B[0m \u001B[1m5s\u001B[0m 211ms/step - loss: 0.5366\n",
      "Epoch 71/100\n",
      "\u001B[1m21/21\u001B[0m \u001B[32m━━━━━━━━━━━━━━━━━━━━\u001B[0m\u001B[37m\u001B[0m \u001B[1m5s\u001B[0m 216ms/step - loss: 0.4960\n",
      "Epoch 72/100\n",
      "\u001B[1m21/21\u001B[0m \u001B[32m━━━━━━━━━━━━━━━━━━━━\u001B[0m\u001B[37m\u001B[0m \u001B[1m6s\u001B[0m 291ms/step - loss: 0.4307\n",
      "Epoch 73/100\n",
      "\u001B[1m21/21\u001B[0m \u001B[32m━━━━━━━━━━━━━━━━━━━━\u001B[0m\u001B[37m\u001B[0m \u001B[1m9s\u001B[0m 213ms/step - loss: 0.4244\n",
      "Epoch 74/100\n",
      "\u001B[1m21/21\u001B[0m \u001B[32m━━━━━━━━━━━━━━━━━━━━\u001B[0m\u001B[37m\u001B[0m \u001B[1m7s\u001B[0m 280ms/step - loss: 0.3935\n",
      "Epoch 75/100\n",
      "\u001B[1m21/21\u001B[0m \u001B[32m━━━━━━━━━━━━━━━━━━━━\u001B[0m\u001B[37m\u001B[0m \u001B[1m10s\u001B[0m 252ms/step - loss: 0.4424\n",
      "Epoch 76/100\n",
      "\u001B[1m21/21\u001B[0m \u001B[32m━━━━━━━━━━━━━━━━━━━━\u001B[0m\u001B[37m\u001B[0m \u001B[1m9s\u001B[0m 215ms/step - loss: 0.3934\n",
      "Epoch 77/100\n",
      "\u001B[1m21/21\u001B[0m \u001B[32m━━━━━━━━━━━━━━━━━━━━\u001B[0m\u001B[37m\u001B[0m \u001B[1m6s\u001B[0m 291ms/step - loss: 0.3536\n",
      "Epoch 78/100\n",
      "\u001B[1m21/21\u001B[0m \u001B[32m━━━━━━━━━━━━━━━━━━━━\u001B[0m\u001B[37m\u001B[0m \u001B[1m5s\u001B[0m 258ms/step - loss: 0.2846\n",
      "Epoch 79/100\n",
      "\u001B[1m21/21\u001B[0m \u001B[32m━━━━━━━━━━━━━━━━━━━━\u001B[0m\u001B[37m\u001B[0m \u001B[1m12s\u001B[0m 336ms/step - loss: 0.2649\n",
      "Epoch 80/100\n",
      "\u001B[1m21/21\u001B[0m \u001B[32m━━━━━━━━━━━━━━━━━━━━\u001B[0m\u001B[37m\u001B[0m \u001B[1m8s\u001B[0m 253ms/step - loss: 0.2869\n",
      "Epoch 81/100\n",
      "\u001B[1m21/21\u001B[0m \u001B[32m━━━━━━━━━━━━━━━━━━━━\u001B[0m\u001B[37m\u001B[0m \u001B[1m9s\u001B[0m 214ms/step - loss: 0.2177\n",
      "Epoch 82/100\n",
      "\u001B[1m21/21\u001B[0m \u001B[32m━━━━━━━━━━━━━━━━━━━━\u001B[0m\u001B[37m\u001B[0m \u001B[1m7s\u001B[0m 294ms/step - loss: 0.2131\n",
      "Epoch 83/100\n",
      "\u001B[1m21/21\u001B[0m \u001B[32m━━━━━━━━━━━━━━━━━━━━\u001B[0m\u001B[37m\u001B[0m \u001B[1m9s\u001B[0m 216ms/step - loss: 0.1868\n",
      "Epoch 84/100\n",
      "\u001B[1m21/21\u001B[0m \u001B[32m━━━━━━━━━━━━━━━━━━━━\u001B[0m\u001B[37m\u001B[0m \u001B[1m6s\u001B[0m 261ms/step - loss: 0.1995\n",
      "Epoch 85/100\n",
      "\u001B[1m21/21\u001B[0m \u001B[32m━━━━━━━━━━━━━━━━━━━━\u001B[0m\u001B[37m\u001B[0m \u001B[1m4s\u001B[0m 212ms/step - loss: 0.1511\n",
      "Epoch 86/100\n",
      "\u001B[1m21/21\u001B[0m \u001B[32m━━━━━━━━━━━━━━━━━━━━\u001B[0m\u001B[37m\u001B[0m \u001B[1m7s\u001B[0m 294ms/step - loss: 0.1827\n",
      "Epoch 87/100\n",
      "\u001B[1m21/21\u001B[0m \u001B[32m━━━━━━━━━━━━━━━━━━━━\u001B[0m\u001B[37m\u001B[0m \u001B[1m5s\u001B[0m 215ms/step - loss: 0.1543\n",
      "Epoch 88/100\n",
      "\u001B[1m21/21\u001B[0m \u001B[32m━━━━━━━━━━━━━━━━━━━━\u001B[0m\u001B[37m\u001B[0m \u001B[1m5s\u001B[0m 217ms/step - loss: 0.1291\n",
      "Epoch 89/100\n",
      "\u001B[1m21/21\u001B[0m \u001B[32m━━━━━━━━━━━━━━━━━━━━\u001B[0m\u001B[37m\u001B[0m \u001B[1m7s\u001B[0m 282ms/step - loss: 0.1251\n",
      "Epoch 90/100\n",
      "\u001B[1m21/21\u001B[0m \u001B[32m━━━━━━━━━━━━━━━━━━━━\u001B[0m\u001B[37m\u001B[0m \u001B[1m10s\u001B[0m 254ms/step - loss: 0.1092\n",
      "Epoch 91/100\n",
      "\u001B[1m21/21\u001B[0m \u001B[32m━━━━━━━━━━━━━━━━━━━━\u001B[0m\u001B[37m\u001B[0m \u001B[1m10s\u001B[0m 220ms/step - loss: 0.1232\n"
     ]
    }
   ]
  },
  {
   "cell_type": "code",
   "source": [
    "# Generate text\n",
    "start_string = 'in the world of technology'\n",
    "generation_length = 150\n",
    "\n",
    "# Initialize the generated text with the start string\n",
    "generated_text = start_string\n",
    "\n",
    "for i in range(generation_length):\n",
    "    # Prepare input data for prediction\n",
    "    char_indices = [char_to_index[char] for char in generated_text[-sequence_length:]]  # Use last 'sequence_length' characters\n",
    "    X_pred = np.reshape(char_indices, (1, len(char_indices), 1))\n",
    "    X_pred = X_pred / float(n_characters)\n",
    "\n",
    "    # Predict next character\n",
    "    prediction = model.predict(X_pred, verbose=0)\n",
    "    index = np.argmax(prediction)\n",
    "\n",
    "    # Get the predicted character and append it to generated_text\n",
    "    result = index_to_char[index]\n",
    "    generated_text += result\n",
    "\n",
    "# Print the generated text\n",
    "print(\"Generated text:\")\n",
    "print(generated_text)"
   ],
   "metadata": {
    "colab": {
     "base_uri": "https://localhost:8080/"
    },
    "id": "GqBn7KFpoUrg",
    "outputId": "d6b57547-edce-4d80-862b-b498f542c362"
   },
   "execution_count": null,
   "outputs": [
    {
     "output_type": "stream",
     "name": "stdout",
     "text": [
      "Generated text:\n",
      "in the world of technology annlitas. the futehegp in anno ahhi aranng play ay ar mmoreante iooovatis, baped on big daaaaaaaacccii  laaanannss apl y aimmeeee mmrrttng troduct s,\n"
     ]
    }
   ]
  },
  {
   "cell_type": "code",
   "source": [
    "import numpy as np\n",
    "from gensim.models import Word2Vec\n",
    "from sklearn.metrics.pairwise import cosine_similarity\n",
    "\n",
    "# Пример корпуса текстов (предложения)\n",
    "sentences = [\n",
    "    \"the cat sits on the mat\",\n",
    "    \"the dog barks loudly\",\n",
    "    \"the cat chases the mouse\",\n",
    "    \"the dog plays in the park\",\n",
    "    \"the mouse runs away quickly\"\n",
    "]\n",
    "\n",
    "# Подготовка данных для обучения модели Word2Vec\n",
    "tokenized_sentences = [sentence.lower().split() for sentence in sentences]\n",
    "model = Word2Vec(tokenized_sentences, vector_size=100, window=5, min_count=1, sg=0)\n",
    "\n",
    "# Функция для получения эмбеддинга предложения\n",
    "def get_sentence_embedding(sentence):\n",
    "    words = sentence.lower().split()\n",
    "    word_vectors = [model.wv[word] for word in words if word in model.wv]\n",
    "\n",
    "    if not word_vectors:\n",
    "        return np.zeros(model.vector_size)\n",
    "\n",
    "    return np.mean(word_vectors, axis=0)\n",
    "\n",
    "# Получение эмбеддингов для всех предложений\n",
    "sentence_embeddings = np.array([get_sentence_embedding(sentence) for sentence in sentences])\n",
    "\n",
    "# Поиск ближайшего предложения\n",
    "def find_similar_sentence(query_sentence):\n",
    "    query_embedding = get_sentence_embedding(query_sentence)\n",
    "    similarities = cosine_similarity([query_embedding], sentence_embeddings)\n",
    "    closest_index = np.argmax(similarities)\n",
    "    return sentences[closest_index], similarities[0][closest_index]\n",
    "\n",
    "# Пример использования\n",
    "query = \"the cat is playing\"\n",
    "similar_sentence, similarity_score = find_similar_sentence(query)\n",
    "\n",
    "print(f\"Query: {query}\")\n",
    "print(f\"Most similar sentence: '{similar_sentence}' with similarity score: {similarity_score}\")"
   ],
   "metadata": {
    "colab": {
     "base_uri": "https://localhost:8080/"
    },
    "id": "bc7g5_4KSV-v",
    "outputId": "eb7ae340-9d68-4912-bbe8-bc29ce5c6c26"
   },
   "execution_count": null,
   "outputs": [
    {
     "output_type": "stream",
     "name": "stdout",
     "text": [
      "Query: the cat is playing\n",
      "Most similar sentence: 'the cat chases the mouse' with similarity score: 0.809998631477356\n"
     ]
    }
   ]
  },
  {
   "cell_type": "code",
   "source": [
    "get_sentence_embedding(\"the cat sits on the mat\")"
   ],
   "metadata": {
    "colab": {
     "base_uri": "https://localhost:8080/"
    },
    "id": "aGSHtkdySieM",
    "outputId": "62de58e0-70ce-448f-94cf-b7b7a59d7e43"
   },
   "execution_count": null,
   "outputs": [
    {
     "output_type": "execute_result",
     "data": {
      "text/plain": [
       "array([-3.0512277e-03,  5.4479563e-03,  9.2327764e-04,  2.0874485e-03,\n",
       "       -2.5623476e-03, -5.2594929e-03,  1.2137963e-03,  4.1321958e-03,\n",
       "       -5.5506453e-04, -2.8475753e-03,  3.9934441e-03, -1.7736261e-03,\n",
       "       -4.3911189e-03, -1.8814036e-04, -6.2352046e-04,  5.5279653e-04,\n",
       "        4.0191864e-03,  5.9211202e-04, -2.8524140e-03, -3.1390951e-03,\n",
       "        4.5094136e-03,  3.7460781e-03,  4.0961509e-03,  1.9669326e-03,\n",
       "       -3.8985629e-04,  1.3542759e-03, -1.0335962e-03,  2.4214562e-03,\n",
       "       -6.2812847e-04, -2.2708119e-03, -3.5925840e-03, -1.5491900e-03,\n",
       "        3.7359435e-03, -3.1727881e-03, -9.1048301e-04,  1.0000961e-04,\n",
       "        5.6866142e-03, -1.3891415e-03, -2.8602695e-03,  2.3889667e-03,\n",
       "       -3.2148094e-04,  9.1426348e-04, -1.0898334e-03,  7.3717086e-04,\n",
       "        2.2402022e-03,  1.7071503e-03, -4.7216001e-03,  8.0031739e-04,\n",
       "        2.5640745e-03,  1.2817518e-03, -2.2906745e-03,  1.9304563e-03,\n",
       "       -1.7906884e-03, -9.6131256e-04,  5.6599890e-04, -1.2764827e-03,\n",
       "        5.6318776e-03, -4.5822305e-04,  9.0113655e-04,  5.5866144e-03,\n",
       "       -5.7404838e-04,  3.6276411e-04,  3.2113973e-04, -7.2632619e-04,\n",
       "        3.4366047e-03, -3.5450872e-04,  2.1070366e-04,  4.9363649e-03,\n",
       "        2.0950148e-04, -6.0871465e-04,  1.8336647e-04, -3.3530872e-05,\n",
       "       -9.7687975e-05, -1.8672282e-03,  3.4924455e-03,  1.1369589e-03,\n",
       "        2.7569958e-03,  1.7073309e-03, -1.0049306e-03, -3.8308778e-03,\n",
       "       -3.4499839e-03,  1.0780500e-03,  3.9643827e-03,  2.9935006e-03,\n",
       "       -1.9372838e-03,  2.1534518e-03,  5.0969203e-03,  1.9517340e-05,\n",
       "       -6.2798680e-04, -1.9858824e-04,  1.3054810e-03,  1.9902748e-03,\n",
       "        1.2139976e-03, -9.7365567e-04,  3.2380114e-03,  9.5842389e-04,\n",
       "        5.1615172e-04, -1.1601123e-03, -1.0140290e-03,  5.5495766e-03],\n",
       "      dtype=float32)"
      ]
     },
     "metadata": {},
     "execution_count": 3
    }
   ]
  }
 ]
}
